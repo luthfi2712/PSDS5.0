{
  "nbformat": 4,
  "nbformat_minor": 0,
  "metadata": {
    "colab": {
      "provenance": []
    },
    "kernelspec": {
      "name": "python3",
      "display_name": "Python 3"
    },
    "language_info": {
      "name": "python"
    }
  },
  "cells": [
    {
      "cell_type": "markdown",
      "source": [
        "#NAMA : LUTHFI ALLEYDA FADHLULLAH\n",
        "#NIM  : 2000015026"
      ],
      "metadata": {
        "id": "ljfIYdJrpG8a"
      }
    },
    {
      "cell_type": "markdown",
      "source": [
        "#1. Buatlah fungsi lambda untuk menghitung fungsi dari persegi panjang"
      ],
      "metadata": {
        "id": "_6GJKJtkq6gg"
      }
    },
    {
      "cell_type": "code",
      "source": [
        "luas_persegi_panjang = lambda panjang, lebar: panjang * lebar\n",
        "\n",
        "panjang = float(input(\"Masukkan panjang persegi panjang: \"))\n",
        "lebar = float(input(\"Masukkan lebar persegi panjang: \"))\n",
        "\n",
        "hasil = luas_persegi_panjang(panjang, lebar)\n",
        "print(\"Luas persegi panjang adalah:\", hasil)"
      ],
      "metadata": {
        "colab": {
          "base_uri": "https://localhost:8080/"
        },
        "id": "UHxfDh3Nrz9y",
        "outputId": "712eefc1-2506-4c88-d052-f305890260c0"
      },
      "execution_count": 3,
      "outputs": [
        {
          "output_type": "stream",
          "name": "stdout",
          "text": [
            "Masukkan panjang persegi panjang: 15\n",
            "Masukkan lebar persegi panjang: 13\n",
            "Luas persegi panjang adalah: 195.0\n"
          ]
        }
      ]
    },
    {
      "cell_type": "markdown",
      "source": [
        "#2. Buatlah fungsi lambda untuk menghitung luas dari segitiga"
      ],
      "metadata": {
        "id": "2XuYdaaSrPid"
      }
    },
    {
      "cell_type": "code",
      "execution_count": 1,
      "metadata": {
        "colab": {
          "base_uri": "https://localhost:8080/"
        },
        "id": "m2ziSmxOpB9t",
        "outputId": "218b0472-2f5c-4e31-fc28-451f597b2263"
      },
      "outputs": [
        {
          "output_type": "stream",
          "name": "stdout",
          "text": [
            "Masukkan panjang alas segitiga: 21\n",
            "Masukkan tinggi segitiga: 8\n",
            "Luas segitiga adalah: 84.0\n"
          ]
        }
      ],
      "source": [
        "luas_segitiga = lambda alas, tinggi: (alas * tinggi) / 2\n",
        "\n",
        "alas = float(input(\"Masukkan panjang alas segitiga: \"))\n",
        "tinggi = float(input(\"Masukkan tinggi segitiga: \"))\n",
        "\n",
        "hasil = luas_segitiga(alas, tinggi)\n",
        "print(\"Luas segitiga adalah:\", hasil)"
      ]
    }
  ]
}