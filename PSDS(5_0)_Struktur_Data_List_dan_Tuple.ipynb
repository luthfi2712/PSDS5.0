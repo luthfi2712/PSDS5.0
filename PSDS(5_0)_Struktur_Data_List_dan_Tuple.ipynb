{
  "nbformat": 4,
  "nbformat_minor": 0,
  "metadata": {
    "colab": {
      "provenance": []
    },
    "kernelspec": {
      "name": "python3",
      "display_name": "Python 3"
    },
    "language_info": {
      "name": "python"
    }
  },
  "cells": [
    {
      "cell_type": "markdown",
      "source": [
        "#PSDS PERTEMUAN 2"
      ],
      "metadata": {
        "id": "OnTV-BF6UdmW"
      }
    },
    {
      "cell_type": "markdown",
      "source": [
        "#STRUKTUR DATA LIST"
      ],
      "metadata": {
        "id": "DHGlSPd3UhLR"
      }
    },
    {
      "cell_type": "markdown",
      "source": [
        "##List\n",
        "\n",
        "list adalah jenis kumpulan data terurut(ordered sequence), bisa diubah elemennya(mutable), bisa ditambahkan elemen baru atau menghapus elemen (changeable), dan merupakan salah satu variabel yang sering digunakan pada Pyhton. Serupa, namun tak sama dengan array pada bahasa pemograman lainnya. Bedanya, elemen List pada Python tidak harus memiliki tipe data yang sama. Mendeklarasikan List cukup mudah dengan kurung siku dan elemen yang dipisahkan dengan koma.\n",
        "\n",
        "Setiap data didalamnya dapat diakses dengan indeks yang dimulai dari 0."
      ],
      "metadata": {
        "id": "w43MsFg7UmEx"
      }
    },
    {
      "cell_type": "code",
      "execution_count": 1,
      "metadata": {
        "colab": {
          "base_uri": "https://localhost:8080/"
        },
        "id": "TqQiNOIbTyAl",
        "outputId": "9838f182-7261-420a-d691-a99316718a9e"
      },
      "outputs": [
        {
          "output_type": "stream",
          "name": "stdout",
          "text": [
            "<class 'list'>\n"
          ]
        }
      ],
      "source": [
        "#Contoh List\n",
        "L1 = [1, 4, 2, 13]\n",
        "print(type(L1))"
      ]
    },
    {
      "cell_type": "code",
      "source": [
        "L2 = [\"a\", \"Python\", 3]\n",
        "print(type(L2))"
      ],
      "metadata": {
        "colab": {
          "base_uri": "https://localhost:8080/"
        },
        "id": "ZWdDYIPVVgpN",
        "outputId": "52776459-1938-42ac-b797-07caa2ee3bd8"
      },
      "execution_count": 2,
      "outputs": [
        {
          "output_type": "stream",
          "name": "stdout",
          "text": [
            "<class 'list'>\n"
          ]
        }
      ]
    },
    {
      "cell_type": "code",
      "source": [
        "print(L1)\n",
        "print(L2)"
      ],
      "metadata": {
        "colab": {
          "base_uri": "https://localhost:8080/"
        },
        "id": "_Rz_NwqdVpKk",
        "outputId": "81a2c31b-c91f-4f51-c6c4-0cbbba5b564c"
      },
      "execution_count": 3,
      "outputs": [
        {
          "output_type": "stream",
          "name": "stdout",
          "text": [
            "[1, 4, 2, 13]\n",
            "['a', 'Python', 3]\n"
          ]
        }
      ]
    },
    {
      "cell_type": "markdown",
      "source": [
        "##Indeks di python (List, Tuple) mulai dari 0"
      ],
      "metadata": {
        "id": "d3ULkgP2Vtl1"
      }
    },
    {
      "cell_type": "code",
      "source": [
        "#sifat-sifat List\n",
        "#Trurut/ordered\n",
        "print(\"Memanggil List L1 dengan indeks urutan:\", L1[0:3])\n",
        "#bisa diganti/mutable\n",
        "L1[1] = 2\n",
        "print(\"List L1 setelah diganti elemennya\", L1)\n",
        "\n",
        "L1 = [1, \"dua\", True, 2+3j]\n",
        "\n",
        "#dapat diindeks/slicing\n",
        "print(\"slicing list L1:\", L1[3])\n",
        "\n",
        "#dapat diinjikan duplikasi\n",
        "L1 = [1, \"dua\", True, 2+3j, 2+3j]\n",
        "print(\"Duplikasi pada List L1:\", L1)\n",
        "\n",
        "#dapat mengubah data dengan menggant elemen tertentu\n",
        "L1 = [1, \"dua\", True, 2+3j]\n",
        "L1[2]=3\n",
        "print(\"Data setelah diubah:\", L1)\n",
        "\n",
        "#dapat menambahkan elemen baru pada data\n",
        "L1 = [1, \"dua\", True, 2+3j]\n",
        "L1.append(20)\n",
        "print(\"Data setelah ditambahkan elemennya:\", L1)\n",
        "\n",
        "#dapat menghapus elemen pada data (remove() = menghapus berdasarkan nama objek)\n",
        "L1 = [1, \"dua\", True, 2+3j]\n",
        "L1.remove(2+3j)\n",
        "print(\"Data setelah dihapus elemennya:\", L1)"
      ],
      "metadata": {
        "colab": {
          "base_uri": "https://localhost:8080/"
        },
        "id": "i9QBZCDGV1Fl",
        "outputId": "740ad600-5467-41af-f061-3f85c2fe6f95"
      },
      "execution_count": 4,
      "outputs": [
        {
          "output_type": "stream",
          "name": "stdout",
          "text": [
            "Memanggil List L1 dengan indeks urutan: [1, 4, 2]\n",
            "List L1 setelah diganti elemennya [1, 2, 2, 13]\n",
            "slicing list L1: (2+3j)\n",
            "Duplikasi pada List L1: [1, 'dua', True, (2+3j), (2+3j)]\n",
            "Data setelah diubah: [1, 'dua', 3, (2+3j)]\n",
            "Data setelah ditambahkan elemennya: [1, 'dua', True, (2+3j), 20]\n",
            "Data setelah dihapus elemennya: [1, 'dua', True]\n"
          ]
        }
      ]
    },
    {
      "cell_type": "code",
      "source": [
        "#menambahkan data menggunakan fungsi extend(menambahkan elemen baru pada list namun elemen tersebut ditambahkan secara individual)\n",
        "L1 = [1, \"dua\", True, 2+3j]\n",
        "L1.extend(\"nanas\")\n",
        "print(L1)"
      ],
      "metadata": {
        "colab": {
          "base_uri": "https://localhost:8080/"
        },
        "id": "wg6rtMljWdLk",
        "outputId": "f6a62fab-b11f-4bcd-fd0d-515c4ef3158b"
      },
      "execution_count": 5,
      "outputs": [
        {
          "output_type": "stream",
          "name": "stdout",
          "text": [
            "[1, 'dua', True, (2+3j), 'n', 'a', 'n', 'a', 's']\n"
          ]
        }
      ]
    },
    {
      "cell_type": "code",
      "source": [
        "L1 = [1, \"dua\", True, 2+3j]\n",
        "L1.extend([\"nanas\"])\n",
        "print(L1)"
      ],
      "metadata": {
        "colab": {
          "base_uri": "https://localhost:8080/"
        },
        "id": "sL5ainwAYKpw",
        "outputId": "9df5a008-39d7-4391-e14f-60026fbf9f5c"
      },
      "execution_count": 6,
      "outputs": [
        {
          "output_type": "stream",
          "name": "stdout",
          "text": [
            "[1, 'dua', True, (2+3j), 'nanas']\n"
          ]
        }
      ]
    },
    {
      "cell_type": "code",
      "source": [
        "#menambahkan data menggunakan fungsi insert(menambahkan elemen baru dilist pada indeks tertentu)\n",
        "L1 = [1, \"dua\", True, 2+3j]\n",
        "L1.insert(2, 5)\n",
        "print(L1)"
      ],
      "metadata": {
        "colab": {
          "base_uri": "https://localhost:8080/"
        },
        "id": "zhMwG2JdYRV9",
        "outputId": "3cb8a957-6010-4bef-d5c2-40b968845797"
      },
      "execution_count": 7,
      "outputs": [
        {
          "output_type": "stream",
          "name": "stdout",
          "text": [
            "[1, 'dua', 5, True, (2+3j)]\n"
          ]
        }
      ]
    },
    {
      "cell_type": "code",
      "source": [
        "#menghapus elemen dari list menggunakan fungsi pop() (menghapus berdasrkan indeks)\n",
        "L1 = [1, \"dua\", True, 2+3j]\n",
        "L1.pop(2)\n",
        "print(L1)"
      ],
      "metadata": {
        "colab": {
          "base_uri": "https://localhost:8080/"
        },
        "id": "gkhyejpTYgxo",
        "outputId": "a143cdde-fdf0-4f95-a170-0d5e4d7454c3"
      },
      "execution_count": 8,
      "outputs": [
        {
          "output_type": "stream",
          "name": "stdout",
          "text": [
            "[1, 'dua', (2+3j)]\n"
          ]
        }
      ]
    },
    {
      "cell_type": "code",
      "source": [
        "L1 = [1, \"dua\", True, 2+3j]\n",
        "L1.pop()\n",
        "print(L1)"
      ],
      "metadata": {
        "colab": {
          "base_uri": "https://localhost:8080/"
        },
        "id": "phc5B6WPYr9b",
        "outputId": "04cc9538-8a8a-442e-f283-d96c8ffabe49"
      },
      "execution_count": 9,
      "outputs": [
        {
          "output_type": "stream",
          "name": "stdout",
          "text": [
            "[1, 'dua', True]\n"
          ]
        }
      ]
    },
    {
      "cell_type": "markdown",
      "source": [
        "###Latihan 1"
      ],
      "metadata": {
        "id": "2rrhTY9sYxNe"
      }
    },
    {
      "cell_type": "code",
      "source": [
        "#Buatlah list kalian sendiri\n",
        "KEPOYA = [5, \"Lima\", True, 9+4j]\n",
        "print(type(KEPOYA))"
      ],
      "metadata": {
        "colab": {
          "base_uri": "https://localhost:8080/"
        },
        "id": "Jb09qMVpYwwn",
        "outputId": "feccd4fd-63ab-45b0-c2fe-7a64b1302ef0"
      },
      "execution_count": 44,
      "outputs": [
        {
          "output_type": "stream",
          "name": "stdout",
          "text": [
            "<class 'list'>\n"
          ]
        }
      ]
    },
    {
      "cell_type": "markdown",
      "source": [
        "###Latihan 2"
      ],
      "metadata": {
        "id": "fMKoma9rY-Wn"
      }
    },
    {
      "cell_type": "code",
      "source": [
        "#ganti elemen yang ada pada list yang kalian buat\n",
        "KEPOYA[2] = 7\n",
        "print(\"List setelah diganti elemennya\", KEPOYA)"
      ],
      "metadata": {
        "colab": {
          "base_uri": "https://localhost:8080/"
        },
        "id": "c8cpvHY5eP2g",
        "outputId": "8f6fe712-825b-404b-fab3-ee3d41c2c81e"
      },
      "execution_count": 45,
      "outputs": [
        {
          "output_type": "stream",
          "name": "stdout",
          "text": [
            "List setelah diganti elemennya [5, 'Lima', 7, (9+4j)]\n"
          ]
        }
      ]
    },
    {
      "cell_type": "markdown",
      "source": [
        "#STRUKTUR DATA TUPLE"
      ],
      "metadata": {
        "id": "Yc3ooQYSY_Og"
      }
    },
    {
      "cell_type": "markdown",
      "source": [
        "##Tuple\n",
        "\n",
        "Tuple adalah jenis dari struktur data yang tidak dapat diuba elemennya dan juga tidak bisa ditambahkan atau dihapus elemennya. Umumnya tuple digunakan untuk data yang bersifat sekali tulis, dapat dieksekusi lebih cepat. Tiple didefinisikan dengan kurung dan elemen yang dipisahkan dengan koma."
      ],
      "metadata": {
        "id": "TM33K7k7ZEY3"
      }
    },
    {
      "cell_type": "code",
      "source": [
        "#Contoh Tuple\n",
        "T1 = (1, \"dua\", True, 1+2j)\n",
        "print(\"ini adalah tuple\", T1)"
      ],
      "metadata": {
        "colab": {
          "base_uri": "https://localhost:8080/"
        },
        "id": "c_UeSsRHZhRP",
        "outputId": "b428a65c-ec4a-4061-89f1-758168e09021"
      },
      "execution_count": 10,
      "outputs": [
        {
          "output_type": "stream",
          "name": "stdout",
          "text": [
            "ini adalah tuple (1, 'dua', True, (1+2j))\n"
          ]
        }
      ]
    },
    {
      "cell_type": "code",
      "source": [
        "T11 = 1, \"dua\", True, 1+2j\n",
        "print(\"ini adalah tuple\", T11)"
      ],
      "metadata": {
        "colab": {
          "base_uri": "https://localhost:8080/"
        },
        "id": "KEwIC2QPZ89L",
        "outputId": "2271faa9-5ce7-4e02-a592-1c714826a99a"
      },
      "execution_count": 11,
      "outputs": [
        {
          "output_type": "stream",
          "name": "stdout",
          "text": [
            "ini adalah tuple (1, 'dua', True, (1+2j))\n"
          ]
        }
      ]
    },
    {
      "cell_type": "code",
      "source": [
        "#Menampilkan tipe struktur data\n",
        "type(T1)"
      ],
      "metadata": {
        "colab": {
          "base_uri": "https://localhost:8080/"
        },
        "id": "At8l52H0aFYk",
        "outputId": "8f3ec551-3fdd-4ea6-9402-6e8bd99c91eb"
      },
      "execution_count": 12,
      "outputs": [
        {
          "output_type": "execute_result",
          "data": {
            "text/plain": [
              "tuple"
            ]
          },
          "metadata": {},
          "execution_count": 12
        }
      ]
    },
    {
      "cell_type": "code",
      "source": [
        "type(T11)"
      ],
      "metadata": {
        "colab": {
          "base_uri": "https://localhost:8080/"
        },
        "id": "mqxI-O0KaQKr",
        "outputId": "3943a219-17ce-4bed-d433-eb1decec573f"
      },
      "execution_count": 13,
      "outputs": [
        {
          "output_type": "execute_result",
          "data": {
            "text/plain": [
              "tuple"
            ]
          },
          "metadata": {},
          "execution_count": 13
        }
      ]
    },
    {
      "cell_type": "markdown",
      "source": [
        "##Sifat-sifat Tuple"
      ],
      "metadata": {
        "id": "RLqYDBB5aR-q"
      }
    },
    {
      "cell_type": "code",
      "source": [
        "#Terurut/Ordered\n",
        "T1[0:3]"
      ],
      "metadata": {
        "colab": {
          "base_uri": "https://localhost:8080/"
        },
        "id": "ikoEulLlaRH1",
        "outputId": "ec70ad76-3606-4714-924a-546d8be4079b"
      },
      "execution_count": 14,
      "outputs": [
        {
          "output_type": "execute_result",
          "data": {
            "text/plain": [
              "(1, 'dua', True)"
            ]
          },
          "metadata": {},
          "execution_count": 14
        }
      ]
    },
    {
      "cell_type": "code",
      "source": [
        "#Tidak bisa diganti/imutable\n",
        "T1[2] = \"manusia\""
      ],
      "metadata": {
        "colab": {
          "base_uri": "https://localhost:8080/",
          "height": 189
        },
        "id": "8eK9zrSaaZN_",
        "outputId": "e47c3fb9-ee33-4881-ada6-66d96c3797cf"
      },
      "execution_count": 15,
      "outputs": [
        {
          "output_type": "error",
          "ename": "TypeError",
          "evalue": "ignored",
          "traceback": [
            "\u001b[0;31m---------------------------------------------------------------------------\u001b[0m",
            "\u001b[0;31mTypeError\u001b[0m                                 Traceback (most recent call last)",
            "\u001b[0;32m<ipython-input-15-27de9fcb059b>\u001b[0m in \u001b[0;36m<cell line: 2>\u001b[0;34m()\u001b[0m\n\u001b[1;32m      1\u001b[0m \u001b[0;31m#Tidak bisa diganti/imutable\u001b[0m\u001b[0;34m\u001b[0m\u001b[0;34m\u001b[0m\u001b[0m\n\u001b[0;32m----> 2\u001b[0;31m \u001b[0mT1\u001b[0m\u001b[0;34m[\u001b[0m\u001b[0;36m2\u001b[0m\u001b[0;34m]\u001b[0m \u001b[0;34m=\u001b[0m \u001b[0;34m\"manusia\"\u001b[0m\u001b[0;34m\u001b[0m\u001b[0;34m\u001b[0m\u001b[0m\n\u001b[0m",
            "\u001b[0;31mTypeError\u001b[0m: 'tuple' object does not support item assignment"
          ]
        }
      ]
    },
    {
      "cell_type": "code",
      "source": [],
      "metadata": {
        "id": "CIDOP-0kafiu"
      },
      "execution_count": null,
      "outputs": []
    },
    {
      "cell_type": "code",
      "source": [
        "#dapat diineks/slicing\n",
        "print(\"elemen kedua dari tuple T1 adalah\", T1[1])"
      ],
      "metadata": {
        "colab": {
          "base_uri": "https://localhost:8080/"
        },
        "id": "GJY-cM8YagV5",
        "outputId": "8fc4a4a5-06a1-4b78-f4ac-d79f0b9467e8"
      },
      "execution_count": 16,
      "outputs": [
        {
          "output_type": "stream",
          "name": "stdout",
          "text": [
            "elemen kedua dari tuple T1 adalah dua\n"
          ]
        }
      ]
    },
    {
      "cell_type": "code",
      "source": [
        "#Dapat diijinkan duplikasi\n",
        "T2 = (3, 2, 4, True, 2.4)\n",
        "T2"
      ],
      "metadata": {
        "colab": {
          "base_uri": "https://localhost:8080/"
        },
        "id": "tc9xuA2Lanh1",
        "outputId": "dc65f58d-978e-4d9b-d625-228ab84bc294"
      },
      "execution_count": 17,
      "outputs": [
        {
          "output_type": "execute_result",
          "data": {
            "text/plain": [
              "(3, 2, 4, True, 2.4)"
            ]
          },
          "metadata": {},
          "execution_count": 17
        }
      ]
    },
    {
      "cell_type": "code",
      "source": [
        "#Tidak dapat menambahkan elemen baru\n",
        "T1 = (1, \"dua\", True, 1+2j)\n",
        "print(f' tuple\\t: {T1}')"
      ],
      "metadata": {
        "colab": {
          "base_uri": "https://localhost:8080/"
        },
        "id": "hwC2Cebwawsy",
        "outputId": "7f7c4ba1-df6a-4ee0-94c7-022caf3d1820"
      },
      "execution_count": 20,
      "outputs": [
        {
          "output_type": "stream",
          "name": "stdout",
          "text": [
            " tuple\t: (1, 'dua', True, (1+2j))\n"
          ]
        }
      ]
    },
    {
      "cell_type": "code",
      "source": [
        "T1.append(10)\n",
        "T1.append(50)\n",
        "print(f' tuple\\t: {T1}')"
      ],
      "metadata": {
        "colab": {
          "base_uri": "https://localhost:8080/",
          "height": 207
        },
        "id": "_TtcPy-TbF6G",
        "outputId": "75eec6c5-89d2-4b48-95c6-0858e6e94a2a"
      },
      "execution_count": 21,
      "outputs": [
        {
          "output_type": "error",
          "ename": "AttributeError",
          "evalue": "ignored",
          "traceback": [
            "\u001b[0;31m---------------------------------------------------------------------------\u001b[0m",
            "\u001b[0;31mAttributeError\u001b[0m                            Traceback (most recent call last)",
            "\u001b[0;32m<ipython-input-21-5498d5de3a6d>\u001b[0m in \u001b[0;36m<cell line: 1>\u001b[0;34m()\u001b[0m\n\u001b[0;32m----> 1\u001b[0;31m \u001b[0mT1\u001b[0m\u001b[0;34m.\u001b[0m\u001b[0mappend\u001b[0m\u001b[0;34m(\u001b[0m\u001b[0;36m10\u001b[0m\u001b[0;34m)\u001b[0m\u001b[0;34m\u001b[0m\u001b[0;34m\u001b[0m\u001b[0m\n\u001b[0m\u001b[1;32m      2\u001b[0m \u001b[0mT1\u001b[0m\u001b[0;34m.\u001b[0m\u001b[0mappend\u001b[0m\u001b[0;34m(\u001b[0m\u001b[0;36m50\u001b[0m\u001b[0;34m)\u001b[0m\u001b[0;34m\u001b[0m\u001b[0;34m\u001b[0m\u001b[0m\n\u001b[1;32m      3\u001b[0m \u001b[0mprint\u001b[0m\u001b[0;34m(\u001b[0m\u001b[0;34mf' tuple\\t: {T1}'\u001b[0m\u001b[0;34m)\u001b[0m\u001b[0;34m\u001b[0m\u001b[0;34m\u001b[0m\u001b[0m\n",
            "\u001b[0;31mAttributeError\u001b[0m: 'tuple' object has no attribute 'append'"
          ]
        }
      ]
    },
    {
      "cell_type": "code",
      "source": [
        "#tidak dapat menghapus elemen\n",
        "T1 = (1, \"dua\", True, 1+2j)\n",
        "print(f' tuple\\t: {T1}')"
      ],
      "metadata": {
        "colab": {
          "base_uri": "https://localhost:8080/"
        },
        "id": "SYP8fsn1bPD-",
        "outputId": "24d1381a-902d-4fae-9c98-adc0e50f1d0b"
      },
      "execution_count": 22,
      "outputs": [
        {
          "output_type": "stream",
          "name": "stdout",
          "text": [
            " tuple\t: (1, 'dua', True, (1+2j))\n"
          ]
        }
      ]
    },
    {
      "cell_type": "code",
      "source": [
        "T1.remove(1)\n",
        "T1.remove(\"dua\")\n",
        "print(f' tuple\\t: {T1}')"
      ],
      "metadata": {
        "colab": {
          "base_uri": "https://localhost:8080/",
          "height": 207
        },
        "id": "Q1F9dkKIbWYZ",
        "outputId": "9f2064ae-eb8c-4e90-ad15-1dee03c7c36c"
      },
      "execution_count": 23,
      "outputs": [
        {
          "output_type": "error",
          "ename": "AttributeError",
          "evalue": "ignored",
          "traceback": [
            "\u001b[0;31m---------------------------------------------------------------------------\u001b[0m",
            "\u001b[0;31mAttributeError\u001b[0m                            Traceback (most recent call last)",
            "\u001b[0;32m<ipython-input-23-a669a75ff9f0>\u001b[0m in \u001b[0;36m<cell line: 1>\u001b[0;34m()\u001b[0m\n\u001b[0;32m----> 1\u001b[0;31m \u001b[0mT1\u001b[0m\u001b[0;34m.\u001b[0m\u001b[0mremove\u001b[0m\u001b[0;34m(\u001b[0m\u001b[0;36m1\u001b[0m\u001b[0;34m)\u001b[0m\u001b[0;34m\u001b[0m\u001b[0;34m\u001b[0m\u001b[0m\n\u001b[0m\u001b[1;32m      2\u001b[0m \u001b[0mT1\u001b[0m\u001b[0;34m.\u001b[0m\u001b[0mremove\u001b[0m\u001b[0;34m(\u001b[0m\u001b[0;34m\"dua\"\u001b[0m\u001b[0;34m)\u001b[0m\u001b[0;34m\u001b[0m\u001b[0;34m\u001b[0m\u001b[0m\n\u001b[1;32m      3\u001b[0m \u001b[0mprint\u001b[0m\u001b[0;34m(\u001b[0m\u001b[0;34mf' tuple\\t: {T1}'\u001b[0m\u001b[0;34m)\u001b[0m\u001b[0;34m\u001b[0m\u001b[0;34m\u001b[0m\u001b[0m\n",
            "\u001b[0;31mAttributeError\u001b[0m: 'tuple' object has no attribute 'remove'"
          ]
        }
      ]
    },
    {
      "cell_type": "code",
      "source": [
        "#menggabungkan Tuple\n",
        "T3 = T1 + T2\n",
        "T3"
      ],
      "metadata": {
        "colab": {
          "base_uri": "https://localhost:8080/"
        },
        "id": "BdQ4V-KSbckm",
        "outputId": "79644ccc-cf49-47ed-d7cb-c5562247d788"
      },
      "execution_count": 24,
      "outputs": [
        {
          "output_type": "execute_result",
          "data": {
            "text/plain": [
              "(1, 'dua', True, (1+2j), 3, 2, 4, True, 2.4)"
            ]
          },
          "metadata": {},
          "execution_count": 24
        }
      ]
    },
    {
      "cell_type": "markdown",
      "source": [
        "###Latihan 1"
      ],
      "metadata": {
        "id": "Q5kdp60AbiuC"
      }
    },
    {
      "cell_type": "code",
      "source": [
        "#buatkan tuplemu sendiri\n",
        "KEPO = (27, \"empat\", True, 5+4j)\n",
        "print(f' tuple\\t: {KEPO}')"
      ],
      "metadata": {
        "colab": {
          "base_uri": "https://localhost:8080/"
        },
        "id": "lJX9kFdmbhIn",
        "outputId": "94689897-f040-487f-fd06-9ba53d4960bf"
      },
      "execution_count": 26,
      "outputs": [
        {
          "output_type": "stream",
          "name": "stdout",
          "text": [
            " tuple\t: (27, 'empat', True, (5+4j))\n"
          ]
        }
      ]
    },
    {
      "cell_type": "markdown",
      "source": [
        "###Latihan 2"
      ],
      "metadata": {
        "id": "0kEWRBmwbkyQ"
      }
    },
    {
      "cell_type": "code",
      "source": [
        "#buatkan tuple kedua\n",
        "LU = (7, 6, 5, True, 45.6)\n",
        "print(f' tuple\\t: {LU}')"
      ],
      "metadata": {
        "colab": {
          "base_uri": "https://localhost:8080/"
        },
        "id": "H1JfMgeJbmZe",
        "outputId": "55c852af-7831-4731-ded8-46fa7b2dca77"
      },
      "execution_count": 28,
      "outputs": [
        {
          "output_type": "stream",
          "name": "stdout",
          "text": [
            " tuple\t: (7, 6, 5, True, 45.6)\n"
          ]
        }
      ]
    },
    {
      "cell_type": "code",
      "source": [
        "#Gabungkan\n",
        "SIAPA = KEPO + LU\n",
        "print(\"Tuple gabungan:\", SIAPA)"
      ],
      "metadata": {
        "colab": {
          "base_uri": "https://localhost:8080/"
        },
        "id": "w2hg_a1IcmTd",
        "outputId": "4d3add80-b2d6-42f3-e92c-a186f86337e3"
      },
      "execution_count": 31,
      "outputs": [
        {
          "output_type": "stream",
          "name": "stdout",
          "text": [
            "Tuple gabungan: (27, 'empat', True, (5+4j), 7, 6, 5, True, 45.6)\n"
          ]
        }
      ]
    }
  ]
}