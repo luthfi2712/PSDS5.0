{
  "nbformat": 4,
  "nbformat_minor": 0,
  "metadata": {
    "colab": {
      "provenance": []
    },
    "kernelspec": {
      "name": "python3",
      "display_name": "Python 3"
    },
    "language_info": {
      "name": "python"
    }
  },
  "cells": [
    {
      "cell_type": "markdown",
      "source": [
        "#Looping/Perulangan\n",
        "python menyediakan dua statement untuk melakukan proses perulangan yaitu for dan while. diantara kedua statement ini, secara umum for lebih banyak digunakan daripada while"
      ],
      "metadata": {
        "id": "iFd7NKlAGvw0"
      }
    },
    {
      "cell_type": "markdown",
      "source": [
        "##FOR LOOP\n",
        "perulangan for digunakan untuk melakukan iterasi didalam sequance seperti list, tuple, string, dan array atau objek yang dapat diiterasi lainnya."
      ],
      "metadata": {
        "id": "oFts5K0RHBh7"
      }
    },
    {
      "cell_type": "markdown",
      "source": [
        "###For Loop Syntax"
      ],
      "metadata": {
        "id": "4lZPKElgHvV7"
      }
    },
    {
      "cell_type": "code",
      "execution_count": null,
      "metadata": {
        "id": "EH08E39HGnZK"
      },
      "outputs": [],
      "source": [
        "for val in sequance:\n",
        "  loop body"
      ]
    },
    {
      "cell_type": "markdown",
      "source": [
        "##For Loop Flowchart\n",
        "\n",
        "![image.png](data:image/png;base64,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)"
      ],
      "metadata": {
        "id": "VZcM-Ih7H8b7"
      }
    },
    {
      "cell_type": "markdown",
      "source": [
        "###Example: Python for Loop"
      ],
      "metadata": {
        "id": "8AKCnAaUIIaS"
      }
    },
    {
      "cell_type": "code",
      "source": [
        "#Program untuk menghitung jumlah semua angka dalam sebuah list\n",
        "L1 = [2,4,5,7,9]\n",
        "jumlah = 0\n",
        "\n",
        "#iterasi didalam list\n",
        "for i in L1:\n",
        "  jumlah = jumlah + i\n",
        "\n",
        "print(jumlah)"
      ],
      "metadata": {
        "colab": {
          "base_uri": "https://localhost:8080/"
        },
        "id": "KVfvYiHzIHNr",
        "outputId": "1dd345a2-5408-4393-9143-6ba18e6177d7"
      },
      "execution_count": null,
      "outputs": [
        {
          "output_type": "stream",
          "name": "stdout",
          "text": [
            "27\n"
          ]
        }
      ]
    },
    {
      "cell_type": "markdown",
      "source": [
        "##The range() function"
      ],
      "metadata": {
        "id": "bx97M-5QIc28"
      }
    },
    {
      "cell_type": "code",
      "source": [
        "#program untuk melakukan iterasi didalam list melalui indeks\n",
        "minuman = [\"teh\",\"boba\",\"kopi\",\"susu\"]\n",
        "p = len(minuman)\n",
        "\n",
        "#iterasi didalam list melalui indeks\n",
        "for i in range(p):\n",
        "  print(minuman[i])"
      ],
      "metadata": {
        "colab": {
          "base_uri": "https://localhost:8080/"
        },
        "id": "K9efm9lnIbPk",
        "outputId": "80586774-1cd5-4317-d044-6159755d2f61"
      },
      "execution_count": null,
      "outputs": [
        {
          "output_type": "stream",
          "name": "stdout",
          "text": [
            "teh\n",
            "boba\n",
            "kopi\n",
            "susu\n"
          ]
        }
      ]
    },
    {
      "cell_type": "markdown",
      "source": [
        "##for loop with else"
      ],
      "metadata": {
        "id": "G0nnmgjyI-gz"
      }
    },
    {
      "cell_type": "code",
      "source": [
        "#contoh for loop menggunakan else\n",
        "for i in range(p):\n",
        "  print(minuman[i])\n",
        "else:\n",
        "  print(\"Elemen sudah habis\")"
      ],
      "metadata": {
        "colab": {
          "base_uri": "https://localhost:8080/"
        },
        "id": "hc-uUJ6KI6Qc",
        "outputId": "99b853fc-1fe6-46da-cf1a-3880b69d003d"
      },
      "execution_count": null,
      "outputs": [
        {
          "output_type": "stream",
          "name": "stdout",
          "text": [
            "teh\n",
            "boba\n",
            "kopi\n",
            "susu\n",
            "Elemen sudah habis\n"
          ]
        }
      ]
    },
    {
      "cell_type": "markdown",
      "source": [
        "#LATIHAN 1"
      ],
      "metadata": {
        "id": "gQehJC9gJWFU"
      }
    },
    {
      "cell_type": "code",
      "source": [
        "list_tagihan = [50000, 75000, -150000, 125000, 300000, -50000, 200000]\n",
        "total_tagihan = 0\n",
        "\n",
        "for tagihan in list_tagihan :\n",
        "  total_tagihan += tagihan\n",
        "\n",
        "print(\"Total tagihan: \", total_tagihan)"
      ],
      "metadata": {
        "id": "_KVSO5kCJN7T",
        "colab": {
          "base_uri": "https://localhost:8080/"
        },
        "outputId": "be7d8cc0-6a6f-4545-fd6b-75736bff2ae8"
      },
      "execution_count": 3,
      "outputs": [
        {
          "output_type": "stream",
          "name": "stdout",
          "text": [
            "Total tagihan:  550000\n"
          ]
        }
      ]
    },
    {
      "cell_type": "markdown",
      "source": [
        "#While Loop\n",
        "while loop pada python digunakan untuk melakukan iterasi pada blok kode selama nilai dari test expression adalah true, syntax of while loop in python"
      ],
      "metadata": {
        "id": "pM85Ln2FJkqu"
      }
    },
    {
      "cell_type": "code",
      "source": [
        "while test_expression:\n",
        "  Body of while"
      ],
      "metadata": {
        "id": "Ea0kCw2-J2uM"
      },
      "execution_count": null,
      "outputs": []
    },
    {
      "cell_type": "markdown",
      "source": [
        "##While Loop Flowchart\n",
        "\n",
        "![image.png](data:image/png;base64,iVBORw0KGgoAAAANSUhEUgAAANkAAAFoCAYAAADaX14SAAAAAXNSR0IArs4c6QAAAARnQU1BAACxjwv8YQUAAAAJcEhZcwAADsMAAA7DAcdvqGQAAFW4SURBVHhe7d1njG1XeTfwbV/jCrhj4457bxgDNtjYxtTAC0EBIVGiSEmkfEmUAJZSpHzO13xIlBBHiaz3tUJxMAaMe6+4d/saN9x7Adtc27znt+b+L+tunzN35t45M2dm1n+05uy9enn+63nW2m2jU0899XddQ0PD2LDx6t+GhoYxoZGsoWHMWGMuHnHEEd2XvvSl4tmwMPjd737XvfXWW+V4441nNv9ttNFGq48aJgmXXXZZd8EFF5TjNSQ75ZRTutNOO614NowfyIRUgCjcTEjWJ1Uj2WTizDPP7E4//fRy3MzFBULI8dvf/rZ79dVXuzfffLOQDLlmqsUaFgfaaC4AkCnu5Zdf7l544YVCNohWG+WC/nnD5KKRbIGAYPDKK6+sRbKgJtYw17B40Ei2QGASIssbb7zRvf7668VchGi4hqWDRrIJQYjVNNXSQyPZAqNprqWPRrIFQK2tQjLnbVdxaaKN6gShmYlLE41kE4ZayzUsDTSSNTSMGY1kDQ1jRiNZQ8OY0UjW0DBmNJI1NIwZjWQNDWNGI1lDw5jRSNbQMGY0kjU0jBmNZA0NY0YjWUPDmNFI1jBnyBMFtZtLjDPvcaKRrGGDUQt9nwT989min37Ycc4nFY1kDWPDXAv/pJNpFBrJJhD1DN13k4x11bUf3nezwfqmWwg0kk0YIjhecurlOnHO42oB65/XLmFBPzyuxjB/x8PKHua8FMgbuLx9S/wg4fyFe9eklwj59Vo8/sKDxB8F8aWTPnGHuaDvP6wtw+LFf0PQSDZhQKiXXnqpe/DBB7sHHnig/HJPPPFEESyCWQtAX/gdy0O8kHNY3FFI3BrO67zqPBKfnziPPvpod/PNN5f6rlq1ak084c4ffvjh7pprrunuvffeQhLnt956a/f000+vyTf5JW0eYs0DrfyffPLJ7oYbbij5KLcup0by4+o8HSeu3+SRcKjjbAgaySYMNMFdd93V/fd//3d3xhlndGeddVb34x//uLviiivKrL3JJpusjjmFvHE4gkiQn3rqqe5Xv/pV99prrxW/CFCI0keEi4sg1/6QMnIOiZ86KPv+++8v74A3MWhLBFVc5/fcc0937rnnFiL++te/7h577LHupptuKnVO3vXvMCe/xx9/vJRz1VVXrWmnsH4dtbn+BeHqm+Og7p/k1c9vfdBINoEgfEhCo+2www7de9/73vK76aabFkEgzDQV4WJ6iR8tRyOcf/753Q9+8IMi8DHDIuzS5D2P8Ude/uImb2GceM75i0vo/IorjJOfPCK4jvnLM3WT7p3vfGf3gQ98oPva177WffSjH+0222yzkq94KVPe0tZ1qutTxxEuHqSuyvOyWP0ib/5gckpb9WtMWmmSr/OUK5/kIV3yWR+s2Gefff7Rwd5779195CMfKZ4N8wMD99xzz5XB3Xbbbbstt9yyDCqT6+677+4GY9N94Qtf6A4//PDufe97XxEUAvTLX/6yCILZnLn07LPPdu94xztKPoh1+eWXlzze8573dJtvvnlxzz//fHffffeVtEytFStWlPKkoXWEE6oXX3yxEAKh/QqnZaSJoMlbGqQSjzYSZ6uttir5P/TQQ2VSkNZkIV+EEtcxARZ3iy22KGYlt+eee5b6Iqyy7rjjjtJW59qmvuoD6qEO4shH/4A2rFy5svRdzGttVK406qi/xBGuD+WbyYufstVRG9LPJgd1GIXUq8btt99eNDQ0ki0gRpHskUceKesUQrjrrrt2v/nNb4oQIBlT8l/+5V8KsZheF110URlQgmLGt04xuDQawgABufDCC4tTHtPTWohwEnhfIJHOGhBhCNX2229fSETQpWPiIas6nH322cWUJeC77757OWf+HXDAASW9OgIhvfjiiwvx3/3ud3c77rhjIQAzj3bQNoJN+PfYY49um2226W677bbue9/7XlmvEXht00/bbbddISqBDsnEfde73tUdeeSRazT4z372s9IvwvShNLvsskspg3YXrg7C1FN+JgTa7Uc/+lFpp34Trp+QUjiHkNAn1bpI1szFCYRBQxia5+c//3kZeIMW8wcpCfvJJ5/cfe5znyukIJCI+vGPf7w77LDDihb8+te/Xswy5Lnzzju7gw46qPvkJz9ZTLZf/OIXhWjyM1s/88wzRdBNtIgTYZY3LYMAhI+2oF2UhQhIy+28886F6NEahP8Tn/hEqQ8/JDBZCIP8gmOkUweEVh91PPTQQ0sabVcuqFdfqMWnnbTx6KOP7v7qr/6q++Y3v7lmQjAhIZ2JACH//M//vPvGN75R2iZvWlmfBtr/xS9+sXxOTJ8jI+1W13k2aCSbUJg1zcAEjXMck4lGIfhMyP32269oPAQg/DHLCBhBd05b0DBIwQwi0DvttFOZvaMhd9ttt+6oo44qFg2tww/ktfXWW5dypUUEhBOXYPLjEDhmHQ2HsOqI7DQ0IbXeiaAqN059YibSfvI1wdDo2VDhJ23WfeqjbqBdTGeEVN6+++5btKq2yEPf0KbSC0cifcc8lTYTh3K0XXp132uvvQoRtRmR1VUesyVbI9mEgpAzrxDM7IwEBMtA+0Wseq1CUPsgmPzFRRQOWX1V9atf/WoRJHkgIvMQOQhu8iTQHFMNYRGAkydBpSFoD/kTWr8gT/X3yxF+hM4GBihD3sqp/dI2+SPJSSedVJy+SHzwG8df3bVPGdodra+9wsRRb+EQgvNPfWt/cdUbudIv4q4PGskmFITB7Hz99dd3l156aXfllVcWTdAXsoCQEIRsdNBcl1xySTGFEMisnV03eYvL5KsJQYi4EIBTBuGlmcQz8xN46yn5MMOQFQnFzyQQR1j5EXjnyT/lOgd+tOv+++9f2q0caTnl04bSJx/+iATKtgOLDDfeeGNZp9r8oQ2Zh7ST9ad1lbXW1VdfXdZbNLx2SKsu8jZxWEv5HO11111XykB2Gi2TADcbtI2PBYRB7W98EB5EYMIY1JwjGNPQMQFk0lgHSSsPRGIKyYfwR3PwJ7iEBMnka7Mj2kf+dgAJIhkgqBGkCLN6KsfMTqsdcsghRbOGsO9///tLGeIqQ12RErFpAnVxjIziK1/dOXkQZKaZPOUvvXoy8xAUCRANESLgwpRF49H2+k5/SYsofhGIFpRe+7RZGuafcoUze9VVnexW+hVf+ep68MEHd8ccc0wxkSH9UqN/DvXGR/tm9AKCAJltDTiBRwh+BMhsTviiUTjCQGiRitAhlDjWMmCmJmwExCxNSMSheZRhh40fYaPtmFKIQesRUETgH6EJwfwiNuFVD0RQjvwIrXojjLzVDakINae+0iGI+qmv+iGzuokrb+2hkZBZ3fmrk/rQcOJHk6iTPrKZwtRVNj91yaQlrokFYWjtTGjqLFw7lIk8+kMffP/73y/9/vnPf774i+NXvZUDMyVZ/c3oRrIFxDCSEQb+nOMaBCcwsITAL+EWVzg/aUMQ4fydJ8+cE3xwDEkfoYk/1Pml7JTjPOYWvyD58E+5/fN+vsAv+STvOhzE4SD5Ok9fiMs/YSDPOt+0VXza/Ic//GGZEFwsp1mBWZu4QV0P6J9D+zD7hMOAGlwzcO0iNHEGlyOEWVOBsKSPgPJzbkbm51h8znni1Uj+SZ94KTvl8IPUO37Cky7165eXcL91uHpyaTf/uj51PgkTL21MuhoJj0ta8EvrMZlptrRjWNmzRSPZhKEezJm49Ukznasx2/Aa08Uddh7U/sPCg354fT5TV4Pp6NqcfQkWBWIh2LC4s0UjWcOyB0JZvzERbR45jvaaCzSSNayFuRIsiBZYV55zXeZMIW40Vu2CuapXI9kEwuCuy80Uw9JO5xYKc1l+3Z5Rrg9+CBeXOHWaUW5daCRraBgzGskWGJkJs60d17B00Ei2QGhEWj5oJFsANIItLzSSLTBmunhuWLxoJFsg9NdfiFaf98MbFi8ayRYYIVG9AdKwtNBItgBwI6u709017g50v+4Od3e6u9Qb0ZYWGskWAEjk8RTvnPBksUfjvXPDA4d5bKVh6aCRbIHgkQwPDyIVLeZdFI7rR0UalgYayRYA1l8eQswj7Xl+yiMaHmSs12lt53Hxo5FsAYA4Hq3wxK0nfwHhPAGMaNDItXTQSLZA8NCgR9uRzaP8Hv3Pa98alhYayRYAtBQyMQ052sx7M7yLw9O6DUsLjWQLACTzOIUXx3jZDG3maVyPvedRi4algzaaY4LNi74LHLselo8pIBnN5jVmNkHaemxpoZFsnhGCeaWZLXzrMa96QzJb+C5O54J0TcyGxYtGsjnGKHLE3zv/3NnBObcOy3vZbeN7N6A7QGi5UXk1LC40ko0JIUgcAjEHkYgWs8FhHWaH0ba9jQ+vJIO8pDPmYyPa4kYj2ZgRknn9szfeejMuE9E1MtfG8o5Cmx3OaTYbIF54ms8NhWiNbIsTjWRziBChJoNjxHLrFMLY5KC1bNvnhS3WY5xz/jRcXnGdjy/QhP28GxYHGsnmGDUJaCAEcwMwknhnO/PQhWiEQqzsJOaXP82GZMjmHkfvaWdiyqORbfGhkWwOEKGvnQ0OBPN1D7dL+foIMzCmYbRYvV2fc+SzTkNI6Wg33wXLOi3ve+caJh+NZLNATaK+kNMwEX5EoH18C8unZfNlkdnczRHCSYdotvnlZ23HjBy2Tst53zUsLBrJZoC+sNYCHBftZN3lCyG0jm9b2cyIdqp/RyHkShx5AtPx2GOP7W655ZbyUXIbI32NVtcnfjDMr2H+0Ei2nqi31v3SLi4u+34y+CieDY6QpCbOTBHiJp1dyRNPPLFcQ/P8mWttiBaoh3o1TBYayWaBWhtE8JmJCEbg3bFh3eULjggRYtVuNuinRTgmp4+O05B2LDnlq0ffhKyPGxYOjWTriQg+89A2uwvINJdPsiJYNFDc+qLOI846zU4lE9Lmii9Tqkfi99GItrBoJFtPMNOsuxCMBiHwLjBnez6EmAskr9opx+4jYtvJpEURLuZi32xsWm3h0Eg2A/QF3A28zLT6W8uE3ba78HFC/sjiN68rcJcIYrtDxOdY1Q9CqrpOjWjzj0ayCpntaxfk2PoHwezu0SQEvG8ezheUZY1mfZbbtKwN81F3qNsxn3Vr+D0ayWYAQsr8Yo4RYNfBEIxg50HLhRRg2tSLeZisbttSzwcffHDNOi2oJ42G+UMj2QD1bF+Dn107WiHrL2sxJhqSMdcIOIdoC4FoT+VbpyEa89Wk4Hod89Fx2pe21q5hvGgkG4EIH4IxwZCMacY8RLBscOTi8kI78OuufkSz+6h+1mmu34VojVTzj0ayChHCOGYhTYBktBYN4b0cyFYL96Qg9VE/ZqPbuZizLi8gm4vYDfOPZUuyPqFqZ9Z3jyCCWd8QVOuvbHAk3iRC/ZCNhlVfE4P1GqJpj3Uak7c2IRvGi2WtyWpS5Y4JvwTSdSfXn2zNu4venfB9zTXpQopw6m2C0A6amUbTPmaw9gbph0a8uceyNxdrouX9G7bokc3ahrP+miTzMHVZl0MypiOiIZkNG+20vkQ07a3b30g2HixbkkUIY15Zr2TtQijdf2j9JTzxFxtCILAhgmQ2RJi/NkOYj/V9jw3jwbIjWS14fgmYdYrZ3dPHBNHrsq1jECtx+xC2GIin/gikrrmexvyl2fJVGa83SJy0uXYNG4ZlRbIITWZuGwCI5fYod3DYJOBq85CD/EJ9PMlQT5oYuWqy0GouRXgQlPb2fJqNnrp/6s2ROm3D7LEszUVCk+35hx9+uJzvtddeRYtZw8SErB3Ux4sdiOd633777Vfa5A6RrNMQDNLWRrQNw5InWQSkFhJCFIK532/PPfecl5t7Jw3aa3229957l19f/fTYjL7KWjTo92HDzLHsNJmta5sbHO3F0V6ItxyFCNFs9NBonuamzRDNhkgj1dxgSZMs6y7OOsMC3+sBbHJ4NXbMQ2sUgtafvZcq9EuNkMnlCi/tQTDrNITrm44Ns8eSlyrCQVBc+0IwAoZg1iMIJrzvgmFhtVtMqOs8rO78TDLMZ5s/YOfRhJTHZhZbmycFS16T2Z5HMBeZCZCZOu/fWG6IxtL2vimY/kA02/yup9HueTjV7uMkQf2HuT6GxandfGBJkkznmX1tzxMS5g/T0LZ1Hk9JvPnq6ElCCNWfaJwjGQ1vIsp7ROw4WsPSaszu9NswN9cYVsZ0lxaE1eF918cwv7nGkiQZ85BAEAxw4TWPp/QFC+ajoycNo9afIRpHk+W+R7AjyyHauBGy9DGbsZqPes4ES4pkBsDtUbSXRTshMRN77GMYwYYRbilDe2fr9Jv+y0OqJq/69QbjQsofBuM8yiVdztUT2UZpt/nAkiGZDqPBXPsy2+bxFPcf2j3M7Dxq4BpGg/loPWvC8iEMu7TWaczwWnjnEsYJOdw04HEjpr9fZed+y2Fl8jPRurh+ww03lPizrdtct2fRkkwnGGDE4mxw3HPPPaWDYx7SZNZfBiwka5g99F/Wada2NJuNEBMawR9m1s0FEOmuu+7qzjjjjO7f//3fu+9+97vdf/zHf3RXX311uQ1u2ISpLmSALJx77rnFouGXOtYEynHkaFzm5aKUunSOTskGh5lLZ9l+rt8g1YeBqQenf77ckPavy4E+Zz7SaMim/23z639CmnGZC0ToEfnyyy/v7r333kIs450wzrGNmfp2MHVALp+sQjjn2iDcOSefkM8x7UhrCpOvNCHmhmJRkSyDGKdjbM0baJ3Yv/+wYe6hnxGNteBpBZaCNZo7+mvzca4gL2tBX8f5/Oc/3335y1/ujjrqqGKlGPuVK1eWz1P54k3e0BXyIFVkxURw9913l3gIq74hF9NXHj7m8cADD5Q85hKLThJ1mJmGuWL30Ixl0F1gtg7LBeb5RuplJjRI6lc7s6TZNkJYu6Sfzs218K4P9GucPrfetc2PBITWpoi2RhOkvjmeTf0zSaY842p8XcNDMH4m1zvuuKMQ5Nprr+0uu+yy8h035FEH0G/OacOLLrqoxL/vvvuK7Fiv0XZXXnll94tf/KK4K664ooRLk/QbiokkWT0ofafxOkcnEVzrA49sGPRc/8r6izMY44Z6GQyzoq+t3Hzzzd1NN91U3I033lh+b7vttlJn9U9b+sTpH+ecwGgrcymDXofPF1KmPk3/MstZEMYhF/6NT0w3qOua45yPQt1Obael9CMi6GMTlvFGPGTXR25wtoYzDtKpp18T36WXXlryEJcWlo4mvOaaawrxtIUf0iGszTNtWJIkywD0ncbqWGpfBxDWPP9l91CHr4tUwvpurqCOhIG5YeAM6g9/+MPuZz/7WVmo2+kKyUB7uLStbidHaDjHBptgEQZ9kLhx8wF9FWIF/PS7/vckAwFWV+20IaKtadswzLTu4plgmKXuqSQD+oF2o9k4u57qpmwkC9RRnUwC4ulTE4PdUpoXqdTRTrS3e1nPy59mnitMFMkiNBG0DBBnNtIpZh9ALjPSQpmHfagDYTNYHh2xu2lmJWwEcJ999in1JQjakoHUJhogpIqWphES5veqq67qLrjggrJ+yI5e+oabBFgP575HbTNWJh7tGlXPmdSdeaj/jjvuuO6kk07q9t1337JMYALSbAiXyzSRm8C4INSnPvWpMg7uX9WX1nLyCCGlVY68Dz/88ELITNwbigUlWTq+HoC+H1cTjEq3DiDEOmESCAbqoW4HHXRQd8opp3RHH310MWG9K+SjH/1ocWZKs6oBZpJccsklRVCsAQijQWdqWjsQBIt0pPJ78cUXd9ddd10RKtvT0Wh9snELBRMegc46zXgZN4KMaKMwqs7xRyA7mtbdyIbM8jaJ+UXsXCwHY0E2QhLpfdLqQx/6UJkATVImMfFoOHU2Abqv1eM++QQxzEV/Towm6wtIjgkfQTMzUuU61Cyjg5KmTrcQUBeOkCGWwTbAqZtzA41g1gUXXnhhWaPRWgQFqRDPot21HWHSM7e0n2MuIZY0WZtFiCYF6hMTzntECC+NbYPChkg0zLAx65/Lh5/+RCpaxnnIilTKoOlNQrb6xVWmeojvmJ/+s6FhgmLOy4dpS2t98IMfLHky7016zHoEzOYKt6FYMZgZ/tEBhn/kIx8pntBvNMxFgetCytVwM473uRugPP81nWDNR/2mQwaFMBEsg2ZGNIMaNO2wXkMoMyZtp70mEYJJGGgr35o+5phjyqxtYjGLy8+s+41vfKOYPbkOmDJrLGQ/pD4RdBOMcdS2TDbarI+GjWNdd8fyYILb3MoN3ghoDcYfkfSPr4/qL8Thz6pwnl1nGtUEZTwQ65BDDinpWBryTXnClaWv1TPtmS3seNqogZEkG4aZFBaS1HFH+aURQfw46xKzE2EikIQQ6vj9+vTPFwoEyCLd1jBCIBPhYg6aUS22DbpZ1SxMCAkJc4UpyFS0dsgWubQ2PUw8H/vYx0pfhGD6Cqbrl4UCMhBwhNBeEwXNkvrXSJ3ruotD2PVLCAbicMh04IEHlt1N5KiXEcw/BFMHFgDyHXHEEYV44pIrYUgsnXBjIC/1i2ymn2eLmmQLZmuETDWcZyfNDqKLnTrKwCw2GBxk0x7HHLIQFBr5Ax/4QPelL32p+5u/+ZvuW9/6VvfhD3+4TCZ/8Rd/0f3Zn/1ZEYLzzjuvmJB1fvX6xnm/DycRxo9wa7f25O6cmYCA6zcOebgawpElUBbiJJ6wkEYfChcW4qQe0ognPBpX/LnA0FxGDRz/2k2HdcXTuAgJofHLpKC9mFXsbeuvukP85njSkcEzUNqm3kwbFoOBtBXNTKy3nB2b8c202aHUfoJi4GkzO4x+623qSUQ9Vn61gUYyaVpT0uZ+rTtNREFkhguSV+30S2Qj58rIeUji2K/zHMc/5/WxfGq/ucC0VK0bXDd6puh3FPCLAPJzjmQ0F6EDBMv6K+nqRtfH0D9fCKQOccwcW8G5UM7PbMnv/e9/f9kxdRuPa2jMRiYNc+r6668vJDLRmP2tGfSDXUvmjIvb1qnSw/qOzTjQ74NhfvrFTh9oh42RtGGm7ejnWbt1ha+P21BsdOqpp5aW2XY+7bTTiueoBvcLnK4CZieCY3YhZIF8kSoNEMdujlmN/W72ZirVBDOzTIfp6rEQMInY9bIjilgW2PoBtNcazKRCG+kb6wftpskRTd/RXNYyJhuQHzNLekIqz8zO+rTug0nrD1DHTK5gEjHu2qX92qMvho31pLWn5saoup155pnd6aefXo7XbHxQ4y72JYM6oxrrGkzpoplyIybB0Hl1B0pLyAiVWTm3u/QJ5ndYOTXWFb4QQCokyZZyoA8QLwQiXFmEEzL9gHBmfP7ia58w/jYAxBE/YX1MYn+kTn65evJFNLKgn2oZmRRkWTOTfk2caTc+RpELhCkwhea475DM2sL1HuaPC6+uUbgmZPZihzMTrL8QLDMZTRaC1W4xQr3rySJwTpBoIWTzGxLGv7/wThrxEa8Og8XSR/16RsubbMiEdaptdjJEviKL08nkuFHLderUd+vCWubit7/97UIQqjzv3aszqY912LDBFUeFaDB3MmRRa/a1e6NTzdIxk3SwGZrg1PnNRnBmE3c+sK6Ony58WFjd15PW1tlC+yIjoD1kxHIhGz9B2po0NeajH+oyyafLBSY5ZdflDzuuzcU102EyRDKzCYLJmHaJQ5LpnAr4FTdrEPmapXSiW2A4pgETgX+0V+I2rI35EqbajQP9vGlibUM24097W1aQPzJBlrgc+60dLThul7LUNW9VXh+s0WQnn3xy953vfGfNOsmayoU5jQ9GsTdIJyKPuxo832OWQjzb0tFcfnUujakBdtDSmOQ7G+GaTdygHvQ6fS0I/Nc372EY5V+jHyfl9+uhX/sm46i6jvKfSX1GpZ0NlFOXJU/jz/Enc9kEIR+snmGm9nwj9SandoI9LMoSU6+6bsOOh258uC5z/PHHl8GTqVnFlXCzCNOOo9mmc7QX51g+1lu56dL2s80VZNOJTEYdqSyd61i6CM5sOng2cftIR5pB+5Dv+uSddOuTflTa+lh9CWj8hsWvMco/kF+NOv660k6Hfr5BCMYZe0sLspJbyLIpUssWNxMZnGunLtpBk4UP6ethLpjRHR8SEPj1cQijw9zV4L49dzWngiGiOIiGhMCMtBmis3X+fEFZJhTlxiHcKAGZFOhn9bbtz3KY5PrWdXOsz9U5j/s4j6VDLri+TC2065NoNhhJsvVFKsNEZAYiElKlopBO15lsX7dPmTWsA7Nmi6DXbq5B21pou/uA81StewddJDXw/fKHORjmFww7r/1Gndd+NRJGSF03s4PrIj7CqXPqXceNG+YX/3FDOepmXNXdtUJjTS4QzOZXLcxxSwFzTrIaOg2GdZpOT6fScG72ZA7ofILPjESCCMFcC4S8aC1rx5///OflERN3zbuBF9kIQi20w1zygVHx+NfgF6Q/4lenq8+D+ljfmAzU1a4ckgV1vLShX4+gjtsfow1F6p98EYx5aHxNqCZYFo4JOfHIRORmqWBOW5POrDsqfnF9iKeDbbAwMV2kZQIxIxAuRKvddJhNXEQioBa1fl04zu4o2GWNCUuI7ZASDoLCT7g6Oudvs8jkQJgItWPh0opLQytT++RL2PgLzwzvXD4pR/uFO9cnKUO/Ma8IqT5zLr0wGkI8ZWeykI/8lKsefsXRJuHDxmZDUI+B/LVBfbRBHa3L3ZuKaEsdIzc+CBHtwoybS4wiHNNRWVlYqgNhNEj8Q8ZhafvnfQwLl5f8mVxMRfcTfuITnygbNMxXg2/x6r5CdSMouYPcOaFxj6EL6oTX68ZoRXkSIPV18d0jK8pyzTDCJo27YeRN6NSPFnesTOU4Flc9TAB5gYzyjQ3zCkGUxyQ3Mdihky+TV95IpGwTBxJrpzo5Vh/3QSK1vJS/Pn07CsrltFl9Ed+kws/mBtnSjzXWVfb61mVDoL4mKia5e2r1s3rUdRlWr3rjY95J1kcqmIoTTlrNoJtxM9M65zQ6cdcHSScf+SMBctAGyjXDO1YW4rhbhbDraEJJcN07qF7nn39+6UxC6/kx8Zlw1qLy8MSzNZP+RBoDJNxNwYQOQaRRJqI4libtBWm8kuCnP/1piaMsdaf1xfc8GpIQWPkiI42BPAipXuJaF6u/p7KVq0zmMTK6iZlWNNb9fp1tP6tbfkMwbVeettBe2qG+w8qqXR/D/MYN7dhQks2L8ZtKjXKI5TcwALQBjWLwDVA0RoSsTr8hkJ7Qeez8+9//fveDH/ygCCd/T88SYJ3lERMzMYG0UFcHJhwhov284MWvwaBJ1JWg0yxMOuEEDKFpHG2z60qwaS5kd31SGvE9YOgJaeSQnwmBvyemhZkQlKEO6p/1mfw82PnZz3623MUvT3nrN5OFyUH9P/7xj5d7VU0a0cDpj9rNBvqEy7E89YcyjWMu34Rgxt1xXL+8uh79sMWEiVxh6lCdbtYwOISThiVEEYYMZh8Z6NqNQgaOYLrc8LWvfa37oz/6o/JYCTNNuQSdoCqbZvdt5SzUOSQU3xPQiEP4s0MqnGB5Mho5pRPmmgsNR7M4RhTtY02IQyPZgGEeqoc60Ar/9//+30J2mgpplCEdouc5PFrW9Ui/6o+0eZSGUOe6pbqqt7abxMzW6+qvdSFp/ZoA3Jqn3jQAE1FbQqa+W8qY6G0cnW8mdxcAAYxJRVAJxYYiQmHgCaR704488sgi6EBokYDpRhiRjRYi1ISHUw8CTNhNAISLMCGb/NU9M7U4yEEjnXDCCd3nPve57q//+q+7v/u7vyt33Hj3xJ/+6Z+W10BYO5199tmFUJ/85Ce7v/3bvy2vqT7nnHO6733ve6UPlI84cfrKxKS+wpTP6UfhjoWpXywC9YW5EPSY1TQXYstfW02Uyp2uDGF9t1Qw0SQLdDihNSOagc3wTDeDGmFZH2QwpScUXnLjRTbWYWb3bA6Y+ZlWhIdphXzSKZs5RPOIx9mhFD/CLl4ISbgJnWNkRUqEJZh+EcfGD21DQ2qfODY+EB8JDz300LLeA37K0DfKlEYdtIHm1Q7kYl6ql7jqHHISfuRPP84E+qrv0j55aoN+M7nQqOoa7bVcseAbH7OBmZpAGcwIKWFWx5BlGOoBzrG4hJtQ2BygpQiHHUMCYz1mU4EAev+G9ZZjJhph9kvb0ATyJNgE1S7lscceW+plbaeuzEX15kfomHDMRURQNvJxHgv6yU9+UtKpA41mYrFZ4TIDf2ahdzgSYH2gHtZezhHJGktdxEdYY2rtp+/E12ZtUw/n1nJ5+SrSqm+fEMP6NQQTV131g8lAfiYJloE2C6/dYkPkZEM2Pt72qItBI3BmcoIl04VEBjiDChpNUGPK0Q4W1BqbODWGdUg6L9duTCoEzKxLOGhMAsvfjI/I1k76xyxN8/luFnz9618veamLNZhw+UuPeOonvWNERWwCKe9cLyLg+txgyguRTXKIwk8d1U08+amjPjDRKI+/Y/H0izzyujMEjpYRR3nqgxhInpsB+A3TOnWf5tgvcoF+0VZ56zdmPVIvdg2WNlI6JkCvjiAL2jRMpmrUNwgvGpJBjjWcM6gEiuASHB1AmGBUJ+RYXulEzrGwOm5MKALDP/E4msJGBGH/y7/8y0IKZad8v+JDLWzylD6/8k66kJC/NBFUhOFAefxSN0j65CuuspFeHo6lSf3FBcf6ELkSL3kNg/j5FdckQU4QG8mRnTaVlzh1uxcj0s4NJdmiWJMFaQwhIBgG1GxtJjZL280iNBGGYY0XxqWjCIK8CGSEzW/KyDGXML+Eiolls4SmkB4BhMkz8bmUBX6FiW8CS/4gnby0J3mJLw4/8fnVeec8+ToXT3zH/CPsfuOX+GlPziF91HeBY/1MG1sbEzymVNZfIL+GKSwqkkEEJEJB2JloNImBRzQzD0FIvGGI0NT51fEjuDmv4wtjsp144ollQ4RAB0nTd4G0ybsPfgmr4/iNXxC/uKDvH1ej9kOyHOdXW0e5zOxZD9JeTNKQOu2r67rcMfE9EYHouxpm7qxhDC4BoNmYXusCwRmGUWUBP7O2zSKL/FpQoU4bN8w/6J/XqONPF6+PmcQVrr/WFS8EY4YyD/Uv0GBIpv1Q9+VMyl8uWPTTTdYZBjqbCEwWZkwW46OIFESIRqEvMOLGtGP2zURQJx3D6p9+4ew62ySyXqexXFwOwYxBxqHh7ViUJMvAQ4TDL8FnttBo1jSIRijsoolPEGwMRCgiGMkrx7XfKCgPuZbSGiTtzqaM9vllFtrcYB2YyBDMeljbM8HUrs6rYQlosnpgDTggWgQh6wfb3SHYsMGPUMxEMFLmMAGL62NYnOncfGJUmfoi17+YifrVBoff9PVC1XkxYdGTrA+DTQCs02xOWDdkJnbHBsFpgjEc6RMaymREc+k3a1trXqa4vh01uTQMx5IimYEmIBl06wWCYfeLFmM+WlfkOlK0VjTYchWWtD/HSOUCs/7ST7TXuggW1/B2LEqSrWswIzCAdLRZhITgmJ1ptwhXHX85oW4/Mpl8mNf6Rz+xBvJ4Sk2uhtlh0Wqy/mDXApDjnBMQW+5ZT1hfWGdYb9g1W26oJ5b80vQIZkfW+tX1R5MTomWDw++6UPd9+n+5Y8mtyUbBgNtxtCHCIZidx3qdVgvfcgKCMaMRjDbTP9mhbUTZcCwbkgXWaWZoZhBC0WgW+IQrBFsOZEv7EMz6yz2gTEbk0j8IRnv1EQ01yjW8HYuaZMMGeZQDQhOzxzrD7qMLygSMVss6jQnJOR6Wz2JGJhDk0kaXNzxCoz/cQZ/1V7AU2rzQWFaarCYLQbLuQDQOyTwL5c5ydzTUMOcPc4sNNcG007tFTDCeJ8uzUtmdbZg7LDtzsQ9C5RqQ911Yl3hpTYi2FIUNyZjGHkhlHnpnSX3/YcPcY9mTDJkImF1HTwzTUJ6OtsP2xmDGf/N3bw38/C1+LcY8tP70ijlrLxosz39FuzfMPZZtr8ZsrJ312YEHHNBtv+MO3Z13312eSLZO696aotYU1RYXQi7b89rjiW7XDD090DeL0w8Nc4tlQ7IITwRpmEA5R7Sd3rNTt+dee3bPv/hC98RgrfbSKy9Xu4+/J1rO5pt66tF3ffCz9soFZhscLlfYVfWgK+1dX/dKX9R9E7+GDUOzD3ogWIi23WCdYsZ//fXXuseffKJ77oUXulW/RbSpeDXB4iYFIVheD2BTx7nNDdfA8nhOw/yg9fQQbDwgmlneC2F23GHHbpMVm5S1zHPPPTu1zf/W27/U8tZg7bbQKPUY1I1DMLdGucDMLHT/pvZkg6NpqvnDsiZZLWQROo5WMtO/YyCcbscy+2+5xRZl99HF61//xpdb3I4VU23h9Jjy4wDBmIW0Fy1mWx7BXK7QprQR6uOG8WFZkSxCNRPh2mijqQvXtNhWW27Vbb/dduVCbR6byfNpUIS8bI7MHfrkqTGqDeqT1wPQZOpb3384Kl3DeNHMxWmAaL8byOOKFVNfmiGw22yzdbdq1RsDjTb1rbBV5RVuUxpkIRDS2EFEfg7UNe9cFB7CNoLNPxrJRoAoWptNieTUNaTNNt2s23abbbsdBuYjzfDUwCR77PHHBgLunYijNc9sMCyP+NUOqf2C57/y9DKtZcPGBebcf9iItbBoJBsCIhm38WqzceONpx73sHFQnhL2GrQttuxefvGl7snVL1iN+TgfQDDl5fUAbvLN+ssFZvVErpBsqg1Tw+18fV3D7NFINkuUnceBsG615Zbl80SE+sUXXuyefeb3n7LdUNQaK65GtFgesLQ+zAZN/fasYaRoRJl/NJKtJwhynk9z/cmOHo2S1xv0SRK3vqjzoDURS3leeacOXN883JDyGuYOjWTrAHGtXQ1C7BoU89Gd/LSYnT3Xp+xCRuPEzRR9beM8eSBYdhDlX6+/6nizKa9hvGgkmwGGEQwINc3BRMvrDZx7fIQZZxsd8WrBX5fwh2B+c4xMnPxor1xgRux8fzmYSRkN84tGsjkCctl4yKeTaBtkszERovU1W+2GYRBSwpif8nGDL7PU9S/l2J4PxKuJ2TA5aCSbQ9AoHpmhYWyIWDchBsK5joUIRSsh1iB+39UIwd54c+oO+vvvv79oMuRiItKeykPuhslGG6H1RLRG7bLpQPhtRPj6JW1z7733di++9GL32mA99caAZFBIlD+kW+0ShoivDUj17GB99/AjD5dtec9/MQ+zgxiC1WXHNUwOGsnmGBF4aybrtD322KN8x2zlyvvLTcZlcbfx1P2RcR4LfZMpOTguGByUG3wH8Z94/PGiufbaa69CLmhEWlxoJBsDaCS7gNZSsN3223V777N398hAI92/cmUxI+v1WdjlKew3Bu71Vb/tnnzqqbKm29X3l3ecejEr4iJfNF7D4kAj2RwgmqXWLrX55iZjj8wccOCB5ZUGv3rkkXIBu1y4HvBlSrlt1L35xpsD/xfKx9dpvf323bfbbtvtuo1XTH3qVl55VKVh8aCRbEwIwYDecbzNu7cu66p3DMy+J554vGzH03iDwG7VGz6w90K5/iXu/vvt121ZPZ5SPwfWsLjQSDZHIPwhQI5rQqxavbvofsedV78u/KUXvS78qe6ZZ57uHh+svVxbc1F5l1137TbfYotCsCm8Pe+GxYNGsnnD1I7hxhtvNCDYVt1OO+3cvXvrrcvuoe15t2PZOSw3Hq9+PKWRaWmgkWxMCEnirMvcWDw4K7+etPbYDBq5hrb1wJScej32FMHymE2j2eJHI9kcA0H64MP0Q65CnoEHv80G66xNN3lHeU7NXf1+hdt5FF7c6rgNixeNZGPAKKJFq03pqKnzNeRbQ8BBWNlxrP6Sbg5cw/yjkWxMaALeEDSSNTSMGY1kDQ1jRiNZQ8OY0UjW0DBmNJJNKHLzcLsZePGjkayhYcxoJGtoGDMaySYcw0zGZkouLjSSTShCoGFk8njMWg99Nkw0GskWIdqDm4sLjWQTCpoqbyJ2lz7tFefcbVpNiy0ONJJNGBDHezy83+OWW27prr322u66667rrrnmmuIc33PPPeX13KPuh5RHefXcapOyYWHRSDaB8D4PJLv44ou7//mf/+m++93vdv/8z//c/dd//Vc5v/nmm4tGC8lCJOkQi6ajBf1ywuPEEVaTkF8dp2Fu0Ug2YUAcr37zLpBPf/rT3R/+4R+W9zd6NcGHP/zh7stf/nL3wQ9+sMTxsp28ttu7QXw+ybG4XogKyMhPWEjobcTiP/jgg+U3pAsa0eYWjWQTCK9+85T0AQcc0B166KHdrrvuWvy8v/GII44o72BEihtuuKFou6uvvrqYkXfccUcxL/k99NBDhTyPPvpod+mllxbT00cwEPPKK6/szjvvvBL35z//eXn5avngfCPXWNBINqHwFmK7iMiV13E7psH401D33Xdfd/311xdCZXNk5cqV3a233lq0F81Fg915553lPSK0mzRIKT4iS3vhhRcWMvKD9uzb3KKRbEKR9RKBd4wwyJZ1k3ObHzZJvGH44IMPLu/gFxeZ8hJU2sxHKjj+d911VyFWiCTP2267rZAMSRvmHo1kE456c6M+RibOl2SQy4cofO0lWi/kDEH9ItGTTz5ZNFa+CMMEPeyww0ra5N8wt2gkWwQg/IhTA9EAqZiRMSc5YVl/2RhhMspDXO91hHzAwprvYx/7WFnnJaxhbtFItgiAICFStE1IVWsuxGE60lQ33nhjd9VVV5WXpiKduMIPOeSQbocddigm4q9+9atiPtJwNKK8QPy4hg1HI9mEg+Dvvvvu3fHHH7/WVzVpnX333beQxgYGom211VZFMx1++OEljnWY7f8TTzyxxBV+1FFHdZ/61KfKWs0miPUZc7KRanzY6NRTTy09e8opp3Tf/va3i5nBbvfhOlvIZriGuQeBJty2z21I7L333oUsEfZoLGsp17U4JPF6b37iSOfX+sqOI6I5N3beSCw+ZxOEJos5KI7rY8xJHyv0ZVDplRkX1MfLDfpJX+tnu7gmL2M0kz4688wzu9NPP70cN0024UAcZp7BRRKDzo+zWeEbaPxrUy/fRfMhQv6IabKUxjmhsFmy//77l+9cI5h0tWuYOzSSLRIQ/JAL0cBxZlUOgeIS5ti1tazfIMfZYRS3kWt8aCRbJECUkCcEgvoYQrgcI1Qdnvjxy7nfhvGg9ewiQE0SqEkyV+iTtWHu0Ei2AIhpVptn/eMQaZjgTxc2Hep0/bTD/BrmBo1kC4SQigkY4Z5OyEOCfpy+f33ed9NBOG1Wm5PrStMwMzSSLTBsYmQjI2jCvbTQSLbAcA2rvvl3mAYZN+mSf8oed3nLDY1kC4BakN3S5DaoenevFvbEqzFd2HSo09WuYbxoJFsARGOB25uGkaxh6aCRbIFhPVaTrmHpoZFsgtDMt6WJRrIJQCPW0kYjWUPDmNFI1tAwZjSSNTSMGY1kDQ1jRiNZQ8OY0Ug2AXCdrO8alg4ayRYQjUzLA41kE4Bh18maVls6aCRbAIRUfQI1Yi1NNJItEBrBlg8ayRYAIVMe2KxdI9nSQyPZAsALZH2S1ieLfNbo7rvvLt8J87navLe+YemgkWwhMCDRy6+8Uj5XlC9jrrz//vIJW5oMyWrXsLixLEjGAJskt2KTFeWtwJttvnkh1RsDM3GjjTbutvRa7YH/m8zGIenG5RrGiyVNslqIaqFaaLfxihXd9jvu0L13l126rd71rvIC0m232657z047rXlblHij0M9vQxzkt2E8WJIkiwC9+dab3ao3ph7vd8y99TtaYhA6+H3jzTfWbELMjxsUO3ADI7B797u37rbZZttus8226DbddLPyTvrddtt9QMBNBrUTYzSEzZWrkX6rnc2YfESwYf2wZDUZAWGCFa2wWpoiMEi3avBbjgdEmx+XshD/zVK3rbfeZmAeblVI5oMSPo301oCFU/Ua7Va9uWpu3GACmpqE/L69voVcqyeI7H42zB5L8tNJmYUBoV56+aXu5VdeLoJDYAaSU8I3XjEg4VS0ecDvSxoo0VL+C4M+vuOOO7qXX3ypO/iQg8vXLmnaomXKP7HfjtKGNHAOUBeVbKf8Nuq22nLLQv58Wql+4c9SRyaXDf100pImmU7yXa+HH3m47OB1Gw+EZKBB+HPWQguBt5B8QKZVq94oW/Ymgu2227bbcsutyqAKm1qbTcVfi0/lZPBvLc8NR59kDt5Ytaps0Oyx++5rhCtfhlkOaCSbBhrEWYMRYp9tZfqUL1X6yslqSdpoQLo1kjyfGJAoROdgxUCrlro4H9i39cCtrm5B4g8b2DlDKeJ33UsDDfvqq692Ow/Wi7vsskshfiNZI1mBBnFIlutQZmSbC+VTQpm3Bz9jFda1MEWOKdTHU4M5VSdm7O8G2nbFVIzV0daK7WTc9V5d+DNPP9M9+cQT5aOCu+22Wymzkax9aXMtEFzN73fK/IPU1u7tQK7yO/gxuEzGwRAXNyrNtJjKaLVb7dewIFiyJCvkGjgyNvWvQgLXgWKajRDQQoSyfpqKM0WM37vBvyk3DLwTNPidmgqmom88mAwGOZTzoZhJvQdrPjNwnPzW1GsE0iUzyL5hlliSJKsFhtBy0WZvc9P8QRH5gaBa05Ut7dWOwJbt7UEYdkwRa5Agbi3UNdpokM9bA7P89e711347yIumqsMNyaD0cvkhzvnabiQG9WAm/2awlnr++Re65wdrUkuAQrZB2FQpv/+zv8rVf6XPHPXKnLbchpFY0uYiTInFQEBWH9disi6RIWivr1pV7in85f33dytXruzuG7hf/vKXZd06JbwDoR6YdoR7evy+Bi+9/HJ3xx13drfffkf33HPPF6Kq4Ua2x4swTxFtjXOhbyh53w4Etp52aeCSSy7pfnH9L0r9p0NV0hoH+W3YMCx5kq3BDAS0j4F+6l4aCOzlV1zRfe973+vO+uFZ3Tk//nF31llndT8/99zugQHZaIgQrGg3GmO11lhDDIerw7inn3qqO/fn53bn/OSc7v4Hftm9/tvflvC4wb+1jte41Shhq/Oqy+PeGmixO26/vTvz//2/7txBHe+7777ulVdeKVqIhmqYfywfkg1QtEX5W3u2HukGcv3Gqje6Rx95pHvk4Ue6zTbdtNt1l10HZt7r3XXXXtfdcvMt3aoBQTbZeEW5wP3awER7+aWXulcGmsp3xxBgo4Hgy8s1J/4vDDTXq795tXvT11wG7s1B/qt+u6pslb8+0IyFMANt9FvmpHgD0zQwWLTrm4P4dryee/bZ7oXnny/XAuX11htvdr9+5dfdPXfd3T010LQfOe647gv/5/90++69T0kHdfunfBrGjWVBslqoOAIX1w+rXdEM1l8DAm27zTbdEYcf3p14wgndB445pttu222LYNMOPn/03HPPdXcOTLRrrr66bPfec/c93YuD9VA0zeOPPtbd8IsbuisHWvHuu+4q16CQCbEef+yx7vZbb+seeuDB7s033ihm6K8GxPbM2SsvvTyoyaDOg3KiwR5//PHuphtu7C69+JLu8ksv6+647fbumaeeLgR/7NFHiymLbOr064EWk6f2FKKtJn3tGsaLZaXJNgQvD7SQNdmNN97YPfDAA9173vOe7pBDDinX3ax5Lr744u68884ra6Gbb765+9H//m/xk84F8R/96Efd/w7MzFtuuaWQR5psSDwyINSPB2boBRdcMNB2r3RPP/10d+WVV3ZXDAhpfVUTgeknr+9///ulHPn97Gc/K3EfeuihQkDXBeX90oB0Tw1MU5qubVosHBrJpkEtmAQWOa67bmAmDgT7sYH2YeIx2wi3tc/OO+/cfeYzn+k++clPFvL98Ic/LGTy5DPtJvzUU0/tjj322G7HHXcscbbccstuhx12KLdW3XvvvYUkLqBL58Ln9ttvv9b9gsq59tprS9jnP//57lOf+lS5r/DWW28t5HTR2N0ZLiAfeOCBZSJwp0t2BxvZ5h+NZNOgFshtB+bhkUce2X3iE5/oThiYjNZKl156aRFuTzgzzXbdddfufe97X7fnnnsWTYcozw/WTHcNzENEIfD77rtvd+ihh3b77LNPt9VWU/cqiitvd9fcf//9hbyO5bPZZpuVOMpDRCRDTvHlIQ6S0lzWge5sede73lXuzNh0sIZEML/yaFgYNJJNA2sgQLbNN9+8e+9731tuNdtvv/0KCZhinO8+02iIFEeoI9gR+AAZmHDyRxikcAe+Mm644YZCJGXSSH6RKxDfGlB+ysn1O/HipnYZPW29UYkvHqQ9DfOLRrJpUDYaVgsmjeRFN+ecc0556Y31GZONSYYgNMbVV1/dXXbZZWVtxaSk8RCTxqGdrNEuv/zyst7yAh1rNaCtxKEFH3744bJx4di9lgjKqQcyHXzwwYU86uE6mLKsE5EeKZmf8uNq4nENC4NGsmlAsGkCws7RQExDmuX4448vayIEo92sjQi2zQ9k3H///bsvfOELJR0zMeFXXXVVyWOPPfYoaWkk5LGGijaz2SHccYAkyMY8/OpXv1pMzbPPPrtseCDoxz/+8W7vvfcuZENsazN1b1h4jLwL3yxLePoDXSPnk2qGMJlyFz6hJPCEum7HqBlem6RnCsqDORgTDGgM6zT9w5+mUo7dRMJNs9m0QCywKWFTA0GZh0w4dUGurM1saPzgBz8oa7s//uM/Lms15dX961gZNl6MEeJZk3HyEU7rIqpy5BFzEUa1tw/5aI91ZX0Xfp3XUkdkYKx34StkMTsgFNxMhauGNIhgV5C2sBazccHFNJM3QbfhwMSzqXHQQQcVoaRVUj5hZ1oedthha/IRBzFsmtiOt/3v/Oijjy6CHWRQ45Qlj2OOOabEpQHFj2lJEPiFpA0Li5EkM+OaxS2y45wPc9OFLaRTL+1gjiHdbAUuQh2i9F3Ca0fI/QbxB1vt2Yio86CVbHiwIo477rhCxGhAM2kmjBrSyo9LmdywejUsLNaYiyeffHL3ne98p6w7mItMm5hDM8EwQZgEMK3s5LkuxQybjbk4HerwHEeo67DkPyo/JPLktpuOaT7rqm222aaQRxrhIU7Anx/0yxM/SJo6bX08HeTZzMUxmIsZUGaQjqUNFFA7Atv3m1Tn7gi/2lELXzBTgVsX6k6vBb5G4tRxQX8j/wc/+MFy7cvaCsESr0+w2i/+/fA6rGHhsZYm+9a3vlWEhInFdCGcNTJ44vSFaZRwLSTUyeYAstmEsI6KJpupEM62Xf344xL2Ufmm/LoeddzZtLtpsrnRZGtIdtJJJxWS9TOoUfv3hWkSoYPsDHI2C2xg0BJzISizbf+w+P1+ni7PftxRY7Sueo1K14d8GsnGtLuYDHTmbFx2tibNqZv26LAIYI5zPl9gIVjz2pAxeMr3m40Zx6wH8RLfpQG//frmvO8aJg9rSEYY652vpYaQba6QyWimDoFsJtmmt7EU4vAP0YS7kO3+xWxA5c6QRqDFi7XYFIFomFsgCO11++23dz/96U8LiZxnYmPCIpq78D3C4rYru6Lin3/++cVkmw6NgJON5WNgjwGEuzYB6/Noqpyz601giEVr5TGZ7HzakHGx+ktf+lL3oQ99aM0tUfLom5PS2uW1OZVyuIbJRCPZBoDw21TxnJkLysjkrnzPj7k/EfHcTkVDIYZwxHCHBz93ebjj3rNqSOKapIW1SyjAD4mQC2g36ZiQbgqW1i1UymmYXIwkWUzH2tWYLmy5gHATdE8qu+8QWdy5ccYZZ5Qbd2kbD3m6H9EFZ0A0D3m6Y98LeTwRjTj8H3zwwfLyG8+oIXD6Nprqpptu6v7zP/+zu+iii7qf/OQn5QZhz6rlsZk4qMemdg3zj6bJNgBMOpcGmIC2u2k11+SYdDYt/CKXNVd9F4c0bp864ogjCjGRDlFoLa5PBn7y9poBmlK6E088sZSFePyQsmEy0Ui2gXCPoduhEIVjFrpRmNAjEA3lGlPuRXQDsJt3PQrjJuEQFCEhpmENfkjLJHVM4zFHkRYBlREN1jB5aCRbTxB2zoVapCLwhJ8Wcsc+LcPsY04iEyLGBBTXNTyw+WFdhSi5rlcTTXz+SZvy3ET8B3/wB+V9Ikic/MThGiYHjWQbAIJNM3l2DElszdMoSMYkZN4h1O677140GeGPWecYmcQXJ7d71QSLdhKeJ6xpNGtBN28rg0veDZOJRrL1BDIgDAK4wx+RCDwyeI7Lk820jmfLPDxp/ZanlvNkg7QeJHVfJZJwuW4G9bldR09XW48h77/927+V62lM0sQdJ9GaObr+WOvJ6NNOO614LhUggvUOhwAEmsDWwri+ghmSWRNZh9lep81scHC27t2pgWAIgiyeVraFT/tx0omjTohGQ6Wu8kAg4dLLR7gL09ZmzErk5uQl/7RlLsiGVOpCcyrbkwLK9L7+8VF5sqAPjPOc37u43KAj18fpWOYighBCd/jb0GDG8afNPL1MczHnkACRCGt2Gmk6GtCNy+IgFw0onnB5eaeH/Ak4TSjc09BHHXXUmrCsx4Jh9Y2bDUoavwMZKilXy1Lxm6FraCTbICAa4SfkHCL5DQFzzok3zCVcmqTjD37lwcVPOHMzxOWftGMFog3KGEakUa5hCo1kG4gI+Hw6xIqL31gg25K1C+J+G9YHy2JNZl1h965+6hhmaz4tBcyUkPrm2eeeKx8RtA7ZZZf3dhvTsuXbaTPDGo4uUuiDuViTLXmSuQblERIXe61pmFjBciQZzJRorwyE681BH+68805Tr5ZrJGsbH8Ng7WKjwaaC9Uwf6bDm1hYazqS03XZT1+OYpst1UtpQLHlNxmWrnZBEUCJUtXAtF4xqc59EzldssqJ7x8DUHqTq3vrdW90mK2b+VmKlLObe1f5mLq4DNamCnNcdNayTGtYGgvkQ/cYbr5gVcRZzz84VyZa8uZgOicuW+bxtfS8R+Fj8itUEm41raFv4DTNEI876o5GsoWHMWNIka6ZgwyRg2a3JGhrmG81cbGgYMxrJGhrGjEayhoYxo5GsoWHMaCRraBgzGskaGsaMRrKGhjGjkayhYcxoJGtoGDMayRoaxoxGsoaGMaORrKFhzGgka2gYMxrJGhrGjEayhoYxo5GsoWHMaCRraBgzGskaGsaMRrKGhjGjkayhYcxoJGtoGDMayRoaxoxGsoaGMaORrKFhzGgka5gW+TJO3FxitvnONv6koJGsYShGCXMt6LN1Qf8c6nh1eP88qP37YZOGRrKGaTEuYe7nO5O8ZxN3ktBI1jCxmI5Mi4lojWQNI0GQX3/99e7ll1/uXnzxxe6FF14ozvmqVatWx/o9omW43/zmN92TTz7ZPffcc+Wj+PHPJ4b78MlhH9F/9NFHS5l1XrUbhmHx4mqM8h83GskahsIXcJDh6aef7m666abuiiuuKO6qq67qbrvttkKIYYQhwEl3ww03dHfeeWchKBL5LKxjJJJ/vnYK/O6+++7uggsuWJN3TYj6eNgXekbVw6+yOef9fCHnff+5QiNZw0gQOJrl0ksv7S677LLurrvu6lauXFn8Xn311RJOePsCSpB9CB+pXnnllaLJaLb77ruvu/322wvRhIsXstCMDz30UCGyNHW+NTnyK92osNolXHnJM4RLnHGjkaxhJAgg0/Cxxx4rx0cddVR37LHHdgceeGC35ZZbFo3z+OOPF8IRXKakc2ne+c53dvvuu2+3++67l7wQE4GQ9Ze//GX37LPPFmLVQi4PBIvwO3/ppZdK2kceeaSYn4gbsnDi/+pXvyoEFU+dkBqJEDv1UZ48xJFnnQc3TqzYZ599/tHB3nvv3X3kIx8png0NQFAffvjhon189f+kk07q3vOe93Rbb711CaPZmIQI9e53v7u78cYbu3vuuafbYostiuASakCme++9t7v++usLUZiJm222Wclrk002WROHlmQynnjiid0222zTPfXUU8VUZXIKQ3YaSdp3vOMdhWDCrr322qIlQzJabvPNNy8Eu/jii8skoB233HJLqR/IXz7RpLX5WR9rh7ope6eddlqTZlT8QJ+pOzRN1jASESaCRuCtx6688spCGNpC2B133NFdfvnlRYiFMwXf9a53lTXWAw88UASdkCJWgFhIsmLFinKOsDRLTLicX3PNNd1PfvKTsr5TFm2lLEShNW+++ebuxz/+camP/JUt/Pzzzy8bLgiHZPKRh3qYFC666KJSX+eQdsYFOVen+NcacKZoJGsYiQg8RyjPO++8IrSIJWz//fcvJiGNhgyE/6CDDipaAmgQbvvtt+8OO+ywbtddd+3e+973dscff3wxPTfddNM1hOIAWfhJZ4OF5mJhffGLXywaDmgVpKfFkIcJK/yEE04oGow2ZB7KB/GU+bnPfa777Gc/2x1wwAHFXJQeyfrECkIkTh2ypsvEkLCZoJGsYS3UwpVzOProo7t/+Id/6P7+7/+++8pXvlIEN+suQk87fOhDHyrrNYKOQFtttVXRWIjjN1qhFlQQTrs5J8jSvvbaa4VE1nS77LJLMUGjrRAEuZBFXkxVZTLlOPlwypSv9PzlwUSVj/UakqUOw4CkNDJHc2cjh3/aMhM0kjWsQYQzzuxNoAhrbd4ROIJH6GgvAoxgzEObGrQQAZY+miKCKS0zTnpxoh0Ivl/lJO62225bhJpWksav9IiDMEgMwpBPXPnZlBFHPshqEkBIzpoQpFfGdFBHmyo0tzyYp9ddd105jqmZvpoOjWQN04IAEez777+/O/vss7uzzjqrrHmYZDYSmIo2RD796U8XQbd7SJBj/kUAkYhgW0sRVOREgmgwzrl0jpmcJ598ciHQueee2/3oRz8qu5PyYPLRoMccc0y34447lvzEYcrScoceemjZpJAP4qq7OnOObeLstttuhaTTEQ3JTBo2dGjObGZkfTdTtN3FhrchxPCLYASRcCMB4WKaEW5gfn34wx/u9thjjxKP9mJKEmCEES+mpTz42VIXvtdeexWSIaC8aUbn1mvKkDfTMXeayIvGtO5jInJ2OpHhiSeeKGkPOeSQEsc6EBkuueSSQkbHCLvnnnt2H/vYx7r3ve99RQMrexTRtN3EIW8aMf1w3HHHlc2daHb+/Tzq3cWNTj311NKjp5xySnfaaacVz4bliWiTACEImvVLTD9+hDmmmjQI4Vc84RFeZqO4zDcCiQwEncASUtqKv3zlz18eNI30wI+gq4dylIt40ilTnsxE6ZiaTEzly+/WW2/t/umf/qn75je/2R1++OElbsqVh3JTfh+ZYJiLNKidTXWiQW2gKEPbkrafx5lnntmdfvrp5biZiw1roRYWQkWwCT2tQpP4dY44BJ6GImziEmBCLowQ0jJ1OD/pbWYQdGVxBFq4/HbYYYci+M798mP6Me+U7zzESP2kkWc0qPJAvo5pH5qN5hRXGnlw00FabQhxOaZqyp8pGska1kIEP0IcR7D8EryQJvEg4XV88SKQyY9fNlIc12H1Lwd+67ySh+P4J8/kB+LlAjqCiUt7JU7tRkEYgiJ5JhRETvkzyQMayRrWIMJSC09c37/GMP/aL/59v+lc4ud3tg4JkMOGDA2GhDRbHWc6JA5iur5Hi+63335r1mIzySNoJGtYkkAAZiuCMPlon/jPlByAUNLbbOGylpsNGskaliSYiwjSN+3WB9ZwdiOzXpxtXo1kDWshArShbjYYlp5bHzAJQXpECzYkT8SyJmNyrk8+jWQNywbrQ5CkWZ+0QSNZQ8OY0UjWsKSwvtpmGOYqr0ayhiWH2ryLW1/MRV6NZA0NY0YjWUPDmNFI1tAwZjSSNTSMGY1kDQ1jRiNZQ8OY0UjW0DBmNJI1NIwZjWQNDWNGI1lDw5jRSNbQMGY0kq0nPLc0yjXMDWbar/14cZOCRrKGhjGjkWyWmMksOUmz6GJD+ndYHw4Ly3HfH+LX959vNJI1LHosNInWhUay9UQ9S/Zdw9xgNv06m7jzjSVJMq+K9opor2/23nXvWPeKZn5e+ex3uoEYNVDx74c593rrOjxumP+60I8fly+TeAW18zrv6dLNxCV9XqX9zDPPlH5T1qi2BTn3vnrp5BE/ab1q2zj4laevs3itdvIdBeMoT/XxyuzkCfVxjfgPc3X4fGJJkgyJfI3Dp268D90XRHxwgPNVD78GuA+dz78WqqA+z3Htl/ycJw9CkvPE6yNx4xJP2vo98PzVnSPEiVvn2z+HYed1WsfxV6bPAvlQgg/w+UKKshEtbYmDus6cTwz5kqWJQPyEI96DDz5Yfr1b3ldS/NYETtyAn7J9PcbHG5C0Dq9RP7GcukGOh/nNJ5YcyXQiDWZgfKPYIPmWsEFCPjNjZtEIMkdwoyEiWI4zKH4TXz6+blILiHPphDuOkAmXN//4+RUnQsYJj+YQLi/1JrhmfsjXTYQlneOUlzo65+SZcuvH5sXjEif1kJdvL5uYfP6on2/KBWlS18TT1z7cF+sh8fU3beRXvsZG24RJqz9TjxrCTJac/BJfXL9pByetfo5/2utcmLoox3HSzBeW1KeTdJyBMJMabOe+wuHFlD50AAbIO829sJJG87UOQuxYfB8VIGiExnvQ8zJLA0hAzMhmewLjbbLe7Setz70q1zeS/Xp7rXS0gfjKkD8/RPE5Hr/ODb50ZvoIG0E149PGeVU0reZlnd7tTnjEVyflabcw6fgJU4Zf7wtUn0Db1EeZ6q5t6mFyoon4+cQQmfC+QW1UhnzFkz7fgtY/+kR/+l6Z8tRPfIKt7trn2Cuu+SOYON4rj3z6R9tA/8sTpDPJKDOfZlIHTl2Bn3jyyFgqy9jpb8QXV72MEeSDE9KOC/Wnk5bc98kIm1mPWUVYfZHDgBpgQscMyttlfbCbYBB2x/y9P93H7hzvvPPORUgMlkH0UXLkNVhmV/6EUGdeeOGFhXg+Ei6OMg0if0LLPDLQBtiH8/LFRkJFCORHeAgsosibJhZXHXxNBAF8cFy9HnnkkUJAeTiWBpGcaws/Qic9gUNS9dE/6nPppZeWX2XqKwRFcP2jnt6Wm1dcq4uvaCrPsfrqC2TTj+ecc043kKNilhNqpNYOeUuvziEiAiCo/LU9/aku8s1XV9RTfYSrt49HaI8yjKM02qxtzn2QXVsRWF/nu9X/+q//WoiMfCYtZNZ/xi0kGwfZapItOXPRoBMEAs/s8WXICy64oHS8wSaEBtTAGBDCe+SRR66ZrQ28j7z56LhjMGMTMlrJxws++tGPFsEn9IRZOrMpjek7WPJGXkQyExNAHyzQ8REoAmSwzeaInTgEnDATTh844O8jdrSv8gkLYURAeShPeu2Ttzaqj8lFGIFduXJlaQNIo27i+1j6+9///lKmeoqrPj5DpJ35Tpj+9ItU+g95CLiy6smGsPrEUeokX/U1iWlzTD7x1Uf/I462ap96imtyVJZ4HCgTgY2JjwQikXPEQmBl+Rihb1sjlb7WD+qHiBnTEFEZ84UlRzKDpwMJjA7/xje+Ub6Mz9wgKGA2NXi+1IgYtA6hEC4twWZexmwB+coTEQgirUFg5SWMgEnDGVQDjWxIeN5555VBp03lj5AEizCLa3a+6qqr1szS8qQN8jVJAqguBFRZKVNZ6i2OfE0sER7CSBDVWdxAHmZz+WuHeojLH0we0qgXxJREOMRFGunVCSFoQX2oP/SfuqiT+LRjyOKXA+fpBwKP4AjGzwQC6qfN6iFfbXZsYoqFIS4iGQfx9ac6KkeYdiuLn75XL37SpJ8gRB4XlhTJCIPO98vpWAOikw0Q4RFOqITrbDOpWdBsqON1OJOPXz0Q4hMuQkFjIBEhkFcIwI+GIJiIStDMnl/+8pcL2b/yla8U7aFe0nA0Ay1JAE444YQiKAQhwikvAhNh56ct0jK7OFpFuwg6wa4hTQ0Cq17yUy7SJG95CE8agpv2qTNCvvrqb4rAIxZ/6XfZZZcSX7q6vP6xvNXPr/7iZ3xYBl/96ldL/1i2KBfE0Q+Jm/41EfHXDhOJ+PoAUfWHySYTh7KQmSY11jSudNLoy3ETDJbkN6MJJdOKYBAAs2sEAnloAIPLBGFS8jcQBJ1WO+OMM0p8po/BMhAEkHlkjcBMNOg+MKffkNJahjnkWP768sADDyxphBEOdaIJCbVBVgeCK4wZIz1i0xJHHHFEicckEs50VHf1Ovjgg0s+8qP9tIPQ+16y9ARO3oTJxICUzGJlEnLrHnnRrtIrj6lFs+kLgqntJqeQllDLy2QkP1aCfubyDWUTkDJMMPoTGeUjD21RJxOd+imL0zZrJfUx6fGTfwgqz9RfX2mrOqunfvB9aMRxnrWockxYyvIxdmOHgLSupUEmupThN8dzhXpNtiS/GW1AzWZggAw8wWFWcKBTCU2I56v9Ov8zn/lMEd6YGIQaCJm00tA0wjjpDaRONRMTfv4x8dTDzEvLcAZeXso3+H6jqdQVHJsYlKM8dTdjZ01D2KRzzmRTjvLkL4302myCAHGd+83sjQDaiZTaKq1waZWXPuNAudIIRxrhiJRJQbtoGnnIC7RTPHGkVU/h/FOGPkUu/vpNux2DMjNm0ajaLC91SH9qD3/5ODa56FsE/fa3v939yZ/8Sfm2mDy0Nf2ecurjuUL9zeglqckMho7UqQYjnWhgnfslLEwLA0GQCa4NBtrMcYQsaTlpzZoEASGUY8ARza9ZMjOxtJx6EELp1IefdFziKEuaDH7yjiBxzqXn6roJk7804suD4IkjPPk4hvzyS7rkH3/OeeJC8pKvcOUrJ+WmXSmbn19+XOqdcfErjmP1QDBp6zIhafxy4qdP0l+c4/RF8jEmNnmMC/k2rqlr0sXNNWpNtuQ2PkCn6ci6M2t/g2UgkMWsZwCYftkcSZy68/t5cGZN+ZglTVBZH4gjzIzt18AStKQTXuctTJw++MtPmPjJB5ynHQSPf/KtyxmGxJNG+uTfT9t3qWfKqvOq25kwflzi9J0wZUnDOa6ReAlznPjD6sg/bZG3ic2ml0sR/KVJGeLMF5YkyaZDBskMbL3ARLSWoYEIazrfbwYy6J8DITWI1gdm4zp9jpMuri9Q8U/d6rh1WI6Dfr51mGPhdTl9JE7S1sKb8NrVfsPKrtMOQx2GBEHSj0LC+2kCx8pO+SGvMXaJImNb13k+saxIlg7mdHi0mRmPVuAH+a3j1+kyWJk55ZM86jiJN8wJC6ECx9EGwmsk3nR5xgXDwoa5UXGHIWHTtS8Y5Q/D/GBY/NpvJmGcuunLmMR1X/fjjhtLlmT9jlwf18ewODNxddqgHw45j/AG8a9d7d9HHW9UnD5mE39dcfvh07np0I9Tp+uHwbDwYZPBfGNZabJJwEIN9GxRC2XtGmaPNVv41id21xoaGjYcuYcV1pCsoaFhPGjmYkPDWNF1/x+FexmCSajp0AAAAABJRU5ErkJggg==)"
      ],
      "metadata": {
        "id": "GYsaHrMwJ7zz"
      }
    },
    {
      "cell_type": "markdown",
      "source": [
        "###Example: python while loop"
      ],
      "metadata": {
        "id": "UXjJqIf-KIby"
      }
    },
    {
      "cell_type": "code",
      "source": [
        "#program untuk menjumlahkan semua\n",
        "#bilangan asli hingga suku ke-n\n",
        "#jum = 1+2+3+...+n\n",
        "n = 10\n",
        "jumlah = 0\n",
        "i = 1\n",
        "\n",
        "while i <= n:\n",
        "  jumlah = jumlah + i\n",
        "  i = i + 1\n",
        "\n",
        "print(jumlah)"
      ],
      "metadata": {
        "colab": {
          "base_uri": "https://localhost:8080/"
        },
        "id": "C-LBgRH5KGva",
        "outputId": "b2cdec0c-0401-45ad-8dd9-fceb3f289140"
      },
      "execution_count": null,
      "outputs": [
        {
          "output_type": "stream",
          "name": "stdout",
          "text": [
            "55\n"
          ]
        }
      ]
    },
    {
      "cell_type": "markdown",
      "source": [
        "##While Loop with Else\n",
        "sama dengan for loop kita juga dapat mengkombinasikan while loop dengan blok else.\n",
        "\n",
        "bagian else akan dieksekusi jika pada test_expression pada while loop bernilai false. perhatikan contoh"
      ],
      "metadata": {
        "id": "jUHpCDz6KgST"
      }
    },
    {
      "cell_type": "code",
      "source": [
        "jum  = 0\n",
        "i = 1\n",
        "while i <= n:\n",
        "  jum = jum + i\n",
        "  i = i + 1\n",
        "else:\n",
        "  print(jum) #dieksekusi diluar looping"
      ],
      "metadata": {
        "colab": {
          "base_uri": "https://localhost:8080/"
        },
        "id": "ReZaPayiKfRF",
        "outputId": "9b35859b-dd93-4e8c-b8d6-e8c1143dae7d"
      },
      "execution_count": null,
      "outputs": [
        {
          "output_type": "stream",
          "name": "stdout",
          "text": [
            "55\n"
          ]
        }
      ]
    },
    {
      "cell_type": "markdown",
      "source": [
        "#Latihan 2"
      ],
      "metadata": {
        "id": "hZYtHPKWLCSE"
      }
    },
    {
      "cell_type": "code",
      "source": [
        "tagihan = [50000, 75000, 125000, 300000, 200000]\n",
        "total_tagihan = 0\n",
        "index = 0\n",
        "\n",
        "while index < len(tagihan):\n",
        "      total_tagihan += tagihan[index]\n",
        "      index += 1\n",
        "\n",
        "print(\"Total tagihan: \", total_tagihan)"
      ],
      "metadata": {
        "id": "KVCgmreELBUE",
        "colab": {
          "base_uri": "https://localhost:8080/"
        },
        "outputId": "fdc2f60d-96b4-4284-fd04-65abea2a2ff9"
      },
      "execution_count": 11,
      "outputs": [
        {
          "output_type": "stream",
          "name": "stdout",
          "text": [
            "Total tagihan:  750000\n"
          ]
        }
      ]
    }
  ]
}