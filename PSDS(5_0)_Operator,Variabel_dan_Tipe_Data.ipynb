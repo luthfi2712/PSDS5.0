{
  "nbformat": 4,
  "nbformat_minor": 0,
  "metadata": {
    "colab": {
      "provenance": []
    },
    "kernelspec": {
      "name": "python3",
      "display_name": "Python 3"
    },
    "language_info": {
      "name": "python"
    }
  },
  "cells": [
    {
      "cell_type": "markdown",
      "source": [
        "###Pertemuan 1 Python"
      ],
      "metadata": {
        "id": "TU3G61p2rnPE"
      }
    },
    {
      "cell_type": "markdown",
      "source": [
        "#**Operator**\n",
        "\n",
        "Operator  simbol simbol yang dapat digunakan untuk mengubah nilai dari satu variabel dengan melibatkan satu atau lebih variabel dan literal.\n",
        "Tipe tipe operator :\n",
        "1. Operator Aritmatika\n",
        "2. Operator Assignment\n",
        "3. Operator Pembanding\n",
        "4. Operator Logika\n",
        "5. Operator Membership"
      ],
      "metadata": {
        "id": "NRvsLXI8blts"
      }
    },
    {
      "cell_type": "markdown",
      "source": [
        "## Operator Aritmatika\n",
        "\n",
        "Operator Aritmatika digunakan untuk melkaukan operasi matematika yang umum.\n",
        "\n",
        "Macam macam Operator Aritmatika, yaitu :\n",
        "\n",
        "```\n",
        "+ : Penjumlahan\n",
        "- : Pengurangan\n",
        "* :Perkalian\n",
        "/ : Pembagian\n",
        "% : Modulus\n",
        "**: Perpangkatan\n",
        "//: Pembagian dengan hasil pembulatan flooring\n",
        "```\n",
        "\n"
      ],
      "metadata": {
        "id": "QgxwK6lQcHQx"
      }
    },
    {
      "cell_type": "markdown",
      "source": [
        "###Contoh Penggunaan Operator Aritmatika"
      ],
      "metadata": {
        "id": "oSEK1W45eXN_"
      }
    },
    {
      "cell_type": "code",
      "execution_count": null,
      "metadata": {
        "id": "mHl5RTTubNA3",
        "colab": {
          "base_uri": "https://localhost:8080/"
        },
        "outputId": "874296e7-ab54-4b91-de2f-3a47b68b84b7"
      },
      "outputs": [
        {
          "output_type": "stream",
          "name": "stdout",
          "text": [
            "Penjumlahan\n",
            "4\n",
            "Pengurangan\n",
            "--------------------\n",
            "-1\n",
            "Perkalian\n",
            "--------------------\n",
            "6\n",
            "Pembagian\n",
            "--------------------\n",
            "0.6666666666666666\n",
            "Modulus\n",
            "--------------------\n",
            "1\n",
            "Perpangkatan\n",
            "--------------------\n",
            "8\n",
            "Pembagian pembulatan flooring\n",
            "--------------------\n",
            "1\n"
          ]
        }
      ],
      "source": [
        "#Penjumlahan\n",
        "print('Penjumlahan')\n",
        "print(2+2)\n",
        "#Pengurangan\n",
        "print('Pengurangan')\n",
        "print('-'*20)\n",
        "print(2-3)\n",
        "#Perkalian\n",
        "print('Perkalian')\n",
        "print('-'*20)\n",
        "print(2*3)\n",
        "#Pembagian\n",
        "print('Pembagian')\n",
        "print('-'*20)\n",
        "print(2/3)\n",
        "#Modulus\n",
        "print('Modulus')\n",
        "print('-'*20)\n",
        "print(3%2)\n",
        "#Perpangkatan\n",
        "print('Perpangkatan')\n",
        "print('-'*20)\n",
        "print(2**3)\n",
        "#Pembagian dengan hasil pembulatan flooring\n",
        "print('Pembagian pembulatan flooring')\n",
        "print('-'*20)\n",
        "print(3//2)"
      ]
    },
    {
      "cell_type": "markdown",
      "source": [
        "### Latihan Operator 1\n"
      ],
      "metadata": {
        "id": "uzHr1lHedZDN"
      }
    },
    {
      "cell_type": "code",
      "source": [
        "#Buatlah Program penerapan operator Aritmatika\n",
        "#dengan nilai - nilai  yang berbeda dari contoh diatas"
      ],
      "metadata": {
        "id": "vnav5JaYdggA"
      },
      "execution_count": null,
      "outputs": []
    },
    {
      "cell_type": "markdown",
      "source": [
        "###Jawaban"
      ],
      "metadata": {
        "id": "UOlfx3f7dham"
      }
    },
    {
      "cell_type": "code",
      "source": [
        "#Penjumlahan\n",
        "print('Penjumlahan')\n",
        "print(12+3)\n",
        "print('-'*20)\n",
        "#Pengurangan\n",
        "print('Pengurangan')\n",
        "print(20-8)\n",
        "print('-'*20)\n",
        "#Perkalian\n",
        "print('Perkalian')\n",
        "print(12*3)\n",
        "print('-'*20)\n",
        "#Pembagian\n",
        "print('Pembagian')\n",
        "print(80/6)\n",
        "print(3%6)\n",
        "#Modulus\n",
        "print('Modulus')\n",
        "print('-'*20)\n",
        "#Perpangkatan\n",
        "print('Perpangkatan')\n",
        "print(2**10)\n",
        "print('-'*20)\n",
        "#Pembagian dengan hasil pembulatan flooring\n",
        "print('Pembagian pembulatan flooring')\n",
        "print(8//3)\n",
        "print('-'*20)"
      ],
      "metadata": {
        "colab": {
          "base_uri": "https://localhost:8080/"
        },
        "id": "s6Af9Sundnei",
        "outputId": "a64f447f-4213-40e8-9dd2-3a9ccc908b80"
      },
      "execution_count": null,
      "outputs": [
        {
          "output_type": "stream",
          "name": "stdout",
          "text": [
            "Penjumlahan\n",
            "15\n",
            "--------------------\n",
            "Pengurangan\n",
            "12\n",
            "--------------------\n",
            "Perkalian\n",
            "36\n",
            "--------------------\n",
            "Pembagian\n",
            "13.333333333333334\n",
            "3\n",
            "Modulus\n",
            "--------------------\n",
            "Perpangkatan\n",
            "1024\n",
            "--------------------\n",
            "Pembagian pembulatan flooring\n",
            "2\n",
            "--------------------\n"
          ]
        }
      ]
    },
    {
      "cell_type": "markdown",
      "source": [
        "## Operator Assignment\n",
        "Operator ```Assignment``` digunakan untuk menyimpan nilai menjadi suatu variabel\n",
        "\n",
        "\n",
        "\n",
        "```\n",
        "= : Contohnya x = 5 -> x = 5\n",
        "+= : Contohnya x = x + 5 -> x += 5\n",
        "-= : Contohnya x = x - 5 -> x -= 5\n",
        "*= : Contohnya x = x * 5 -> x *= 5\n",
        "/= : Contohnya x = x / 5 -> x /= 5\n",
        "%= : Contohnya x = x % 5 -> x %= 5\n",
        "//= : Contohnya x = x // 5 -> x //= 5\n",
        "**= : Contohnya x = x ** 5 -> x **= 5\n",
        "```\n",
        "\n"
      ],
      "metadata": {
        "id": "_5QO8tJ5d48V"
      }
    },
    {
      "cell_type": "markdown",
      "source": [
        "###Contoh Penggunaan Operator Assignment"
      ],
      "metadata": {
        "id": "Q-y1bkWveRVF"
      }
    },
    {
      "cell_type": "code",
      "source": [
        "#Penjumlahan\n",
        "print('Penjumlahan')\n",
        "x=5\n",
        "x=x+5\n",
        "print(x)\n",
        "x=5\n",
        "x+=5\n",
        "print(x)\n",
        "print('-'*20)\n",
        "\n",
        "#Pengurangan\n",
        "print('Pengurangan')\n",
        "x=5\n",
        "x=x-5\n",
        "print(x)\n",
        "x=5\n",
        "x-=3\n",
        "print(x)\n",
        "print('-'*20)\n",
        "\n",
        "#Perkalian\n",
        "print('Perkalian')\n",
        "x=5\n",
        "x=x*5\n",
        "print(x)\n",
        "x=5\n",
        "x*=3\n",
        "print(x)\n",
        "print('-'*20)\n",
        "\n",
        "#Pembagian\n",
        "print('pembagian')\n",
        "x=5\n",
        "x=x/5\n",
        "print(x)\n",
        "x=5\n",
        "x/=3\n",
        "print(x)\n",
        "print('-'*20)\n",
        "\n",
        "#Modulus\n",
        "print('Modulus')\n",
        "x=5\n",
        "x=x%5\n",
        "print(x)\n",
        "x=5\n",
        "x%=3\n",
        "print(x)\n",
        "print('-'*20)\n",
        "\n",
        "#Pembagian Flooring\n",
        "print('Pembagian Flooring')\n",
        "x=5\n",
        "x=x//5\n",
        "print(x)\n",
        "x=5\n",
        "x//=3\n",
        "print(x)\n",
        "print('-'*20)\n",
        "\n",
        "#Perpangkatan\n",
        "print('Perpangkatan')\n",
        "x=5\n",
        "x=x**5\n",
        "print(x)\n",
        "x=5\n",
        "x**=3\n",
        "print(x)\n",
        "print('-'*20)"
      ],
      "metadata": {
        "id": "yz8UJxNDeIo4",
        "colab": {
          "base_uri": "https://localhost:8080/"
        },
        "outputId": "e176abd5-7cb6-4c9f-9ddc-f061861187f0"
      },
      "execution_count": null,
      "outputs": [
        {
          "output_type": "stream",
          "name": "stdout",
          "text": [
            "Penjumlahan\n",
            "10\n",
            "10\n",
            "--------------------\n",
            "Pengurangan\n",
            "0\n",
            "2\n",
            "--------------------\n",
            "Perkalian\n",
            "25\n",
            "15\n",
            "--------------------\n",
            "pembagian\n",
            "1.0\n",
            "1.6666666666666667\n",
            "--------------------\n",
            "Modulus\n",
            "0\n",
            "2\n",
            "--------------------\n",
            "Pembagian Flooring\n",
            "1\n",
            "1\n",
            "--------------------\n",
            "Perpangkatan\n",
            "3125\n",
            "125\n",
            "--------------------\n"
          ]
        }
      ]
    },
    {
      "cell_type": "markdown",
      "source": [
        "###Latihan Operator 2"
      ],
      "metadata": {
        "id": "sev_4iTIegr7"
      }
    },
    {
      "cell_type": "code",
      "source": [
        "# Buatlah program penerapan operator assignment\n",
        "# dengan nilai niali yang berbeda  dari contoh diatas\n"
      ],
      "metadata": {
        "id": "VFfTb6NWejen"
      },
      "execution_count": null,
      "outputs": []
    },
    {
      "cell_type": "markdown",
      "source": [
        "###Jawaban"
      ],
      "metadata": {
        "id": "bZxiNwkUemFr"
      }
    },
    {
      "cell_type": "code",
      "source": [
        "#Penjumlahan\n",
        "print('Penjumlahan')\n",
        "x=4\n",
        "x=x+4\n",
        "print(x)\n",
        "x=4\n",
        "x+=6\n",
        "print(x)\n",
        "print('-'*20)\n",
        "\n",
        "#Pengurangan\n",
        "print('Pengurangan')\n",
        "x=4\n",
        "x=x-4\n",
        "print(x)\n",
        "x=4\n",
        "x-=6\n",
        "print(x)\n",
        "print('-'*20)\n",
        "\n",
        "#Perkalian\n",
        "print('Perkalian')\n",
        "x=4\n",
        "x=x*4\n",
        "print(x)\n",
        "x=4\n",
        "x*=6\n",
        "print(x)\n",
        "print('-'*20)\n",
        "\n",
        "#Pembagian\n",
        "print('Pembagian')\n",
        "x=4\n",
        "x=x/4\n",
        "print(x)\n",
        "x=4\n",
        "x/=6\n",
        "print(x)\n",
        "print('-'*20)\n",
        "\n",
        "#Modulus\n",
        "print('Modulus')\n",
        "x=4\n",
        "x=x%6\n",
        "print(x)\n",
        "x=4\n",
        "x%=6\n",
        "print(x)\n",
        "print('-'*20)\n",
        "\n",
        "#Pembagian Flooring\n",
        "print('Pembagian Flooring')\n",
        "x=4\n",
        "x=x//4\n",
        "print(x)\n",
        "x=4\n",
        "x//=6\n",
        "print(x)\n",
        "print('-'*20)\n",
        "\n",
        "#Perpangkatan\n",
        "print('Perpangkatan')\n",
        "x=4\n",
        "x=x**4\n",
        "print(x)\n",
        "x=4\n",
        "x**=6\n",
        "print(x)\n",
        "print('-'*20)\n"
      ],
      "metadata": {
        "colab": {
          "base_uri": "https://localhost:8080/"
        },
        "id": "nUEvMsA6epCf",
        "outputId": "b200fd3b-a1c4-4a36-f764-5f3e9305a9ca"
      },
      "execution_count": null,
      "outputs": [
        {
          "output_type": "stream",
          "name": "stdout",
          "text": [
            "Penjumlahan\n",
            "8\n",
            "10\n",
            "--------------------\n",
            "Pengurangan\n",
            "0\n",
            "-2\n",
            "--------------------\n",
            "Perkalian\n",
            "16\n",
            "24\n",
            "--------------------\n",
            "Pembagian\n",
            "1.0\n",
            "0.6666666666666666\n",
            "--------------------\n",
            "Modulus\n",
            "4\n",
            "4\n",
            "--------------------\n",
            "Pembagian Flooring\n",
            "1\n",
            "0\n",
            "--------------------\n",
            "Perpangkatan\n",
            "256\n",
            "4096\n",
            "--------------------\n"
          ]
        }
      ]
    },
    {
      "cell_type": "markdown",
      "source": [
        "## Operator Pembanding\n",
        "Operator Pembanding digunakan untuk membandingkan 2 nilai atau variabel\n",
        "\n",
        "Macam macam Operator pembanding :\n",
        "\n",
        "```\n",
        "== -> samadengan\n",
        "!= -> tidak samadengan\n",
        "> -> lebih dari\n",
        "< -> kurang dari\n",
        ">= lebih dari dan samadengan\n",
        "<= kurang dari dan samadengan\n",
        "```\n",
        "\n",
        "\n"
      ],
      "metadata": {
        "id": "2FlG40o3e1vN"
      }
    },
    {
      "cell_type": "markdown",
      "source": [
        "### Contoh penggunaan operator pembanding\n"
      ],
      "metadata": {
        "id": "avewOTjce6wY"
      }
    },
    {
      "cell_type": "code",
      "source": [
        "print(2==2)\n",
        "print(2!=2)\n",
        "print(2>2)\n",
        "print(2<2)\n",
        "print(2>=2)\n",
        "print(2<=2)"
      ],
      "metadata": {
        "id": "a1qA3zode21Q",
        "colab": {
          "base_uri": "https://localhost:8080/"
        },
        "outputId": "d3f5813c-3997-4cc8-e327-162caf9c1b69"
      },
      "execution_count": null,
      "outputs": [
        {
          "output_type": "stream",
          "name": "stdout",
          "text": [
            "True\n",
            "False\n",
            "False\n",
            "False\n",
            "True\n",
            "True\n"
          ]
        }
      ]
    },
    {
      "cell_type": "markdown",
      "source": [
        "###Latihan Operator 3"
      ],
      "metadata": {
        "id": "7yyX5yGkfBcZ"
      }
    },
    {
      "cell_type": "code",
      "source": [
        "# Buatlah program penerapan operator pembanding\n",
        "# dengan nilai niali yang berbeda  dari contoh diatas"
      ],
      "metadata": {
        "id": "nTQLWseefEA-"
      },
      "execution_count": null,
      "outputs": []
    },
    {
      "cell_type": "markdown",
      "source": [
        "###Jawaban"
      ],
      "metadata": {
        "id": "jb8wToeNfHIM"
      }
    },
    {
      "cell_type": "code",
      "source": [
        "print(8==8)\n",
        "print(8!=8)\n",
        "print(8>8)\n",
        "print(8<8)\n",
        "print(8>=8)\n",
        "print(8<=8)"
      ],
      "metadata": {
        "colab": {
          "base_uri": "https://localhost:8080/"
        },
        "id": "ezQW6nfXfI2N",
        "outputId": "58473caa-6da6-4e21-b429-c47630e6c8a4"
      },
      "execution_count": null,
      "outputs": [
        {
          "output_type": "stream",
          "name": "stdout",
          "text": [
            "True\n",
            "False\n",
            "False\n",
            "False\n",
            "True\n",
            "True\n"
          ]
        }
      ]
    },
    {
      "cell_type": "markdown",
      "source": [
        "## Operator Logika\n",
        "Operator logika digunakan untuk mengkombinasikan  statement statement kondisional\n",
        "\n",
        "Macam macam opertaor logika :\n",
        "\n",
        "```\n",
        "and -> kondisi menjadi benar apabila semua statementnya benar\n",
        "or -> kondisi menjadi benar apabila salah satu statementnya ada yang benar\n",
        "not -> membalik hasil adri benar ke salah dan salah ke benar\n",
        "```\n",
        "\n"
      ],
      "metadata": {
        "id": "ZIZ3sxENfQ6M"
      }
    },
    {
      "cell_type": "markdown",
      "source": [
        "### Contoh penggunaan operator loogika\n"
      ],
      "metadata": {
        "id": "FLaFMO79fahG"
      }
    },
    {
      "cell_type": "code",
      "source": [
        "print(True and False)\n",
        "print(False or False)\n",
        "print(not False and True)"
      ],
      "metadata": {
        "id": "eClj0yajfVK8",
        "colab": {
          "base_uri": "https://localhost:8080/"
        },
        "outputId": "e89ccca5-9f8c-4a0e-8f6f-a916f9332206"
      },
      "execution_count": null,
      "outputs": [
        {
          "output_type": "stream",
          "name": "stdout",
          "text": [
            "False\n",
            "False\n",
            "True\n"
          ]
        }
      ]
    },
    {
      "cell_type": "markdown",
      "source": [
        "###Latihan Operator 4"
      ],
      "metadata": {
        "id": "P4o-ydArffbC"
      }
    },
    {
      "cell_type": "code",
      "source": [
        "# Buatlah program penerapan operator logika\n",
        "# dengan nilai niali yang berbeda dari contoh diatas"
      ],
      "metadata": {
        "id": "QZM1NsZGfhx3"
      },
      "execution_count": null,
      "outputs": []
    },
    {
      "cell_type": "markdown",
      "source": [
        "###Jawaban"
      ],
      "metadata": {
        "id": "AjTQ3MhVfkyx"
      }
    },
    {
      "cell_type": "code",
      "source": [
        "print(False and True)\n",
        "print(True or True)\n",
        "print(not True and False)"
      ],
      "metadata": {
        "colab": {
          "base_uri": "https://localhost:8080/"
        },
        "id": "UfSN9eZ4fmzh",
        "outputId": "d55c3d82-d55d-4d8f-ae2f-26576aad11cb"
      },
      "execution_count": null,
      "outputs": [
        {
          "output_type": "stream",
          "name": "stdout",
          "text": [
            "False\n",
            "True\n",
            "False\n"
          ]
        }
      ]
    },
    {
      "cell_type": "markdown",
      "source": [
        "## Operator Membership / Keanggotaan\n",
        "Operator keanggotaan digunakan untuk menguji apakah urutan disajikan dalam suatu objek\n",
        "\n",
        "Macam macam operator Keanggotaan :\n",
        "\n",
        "```\n",
        "in      -> return True ketika nilai tertentu dalam sebuah urutan ada\n",
        "not in  -> return True ketika nilai tertentu dalam sebuah uruta tidak ada\n",
        "```\n",
        "\n"
      ],
      "metadata": {
        "id": "eY68W9Q6fsYQ"
      }
    },
    {
      "cell_type": "markdown",
      "source": [
        "###Contoh penggunaan operator keanggotaan"
      ],
      "metadata": {
        "id": "ttuwf3kLfyj2"
      }
    },
    {
      "cell_type": "code",
      "source": [
        "a=(1,2,3,4,5,6)\n",
        "b=2\n",
        "\n",
        "print(b in a)\n",
        "\n",
        "\n",
        "print('-'*20)\n",
        "a=(1,2,3,4,5,6)\n",
        "b=7\n",
        "print(b not in a)"
      ],
      "metadata": {
        "id": "J2z22GWEfvyY",
        "colab": {
          "base_uri": "https://localhost:8080/"
        },
        "outputId": "8731c514-1811-4831-8f9f-b1ded7a393c3"
      },
      "execution_count": null,
      "outputs": [
        {
          "output_type": "stream",
          "name": "stdout",
          "text": [
            "True\n",
            "--------------------\n",
            "True\n"
          ]
        }
      ]
    },
    {
      "cell_type": "markdown",
      "source": [
        "###Latihan operator 5"
      ],
      "metadata": {
        "id": "cxbZvqDTf3O0"
      }
    },
    {
      "cell_type": "code",
      "source": [
        "# # Buatlah program penerapan operator keanggotaan  membership\n",
        "# dengan nilai niali yang berbeda dari contoh diatas"
      ],
      "metadata": {
        "id": "n07QrJSIf5b0"
      },
      "execution_count": null,
      "outputs": []
    },
    {
      "cell_type": "markdown",
      "source": [
        "###Jawaban"
      ],
      "metadata": {
        "id": "tQgbnctNf9-s"
      }
    },
    {
      "cell_type": "code",
      "source": [
        "a=(2,3,5,7,9,11,13,17)\n",
        "b=5\n",
        "\n",
        "print(b in a)\n",
        "\n",
        "\n",
        "print('-'*20)\n",
        "a=(2,3,5,7,9,11,13,17)\n",
        "b=7\n",
        "print(b not in a)"
      ],
      "metadata": {
        "id": "2eorprA8f880",
        "colab": {
          "base_uri": "https://localhost:8080/"
        },
        "outputId": "5a5f379c-4137-411c-b08a-ac5f3b48cb62"
      },
      "execution_count": null,
      "outputs": [
        {
          "output_type": "stream",
          "name": "stdout",
          "text": [
            "True\n",
            "--------------------\n",
            "False\n"
          ]
        }
      ]
    },
    {
      "cell_type": "markdown",
      "source": [
        "#**Variabel**"
      ],
      "metadata": {
        "id": "ZWZiVwkvgLrw"
      }
    },
    {
      "cell_type": "markdown",
      "source": [
        "Variabel: Lokasi penyimpanan yang dapat digunakan untuk menampung sebuah data atau informasi.\n",
        "\n",
        "Syarat syarat penamaan variabel\n",
        "1.   Karakter - karakter yang digunakan untuk penamaan variable adalah alphabet, angka dan underscore.\n",
        "2.   Karakter pertama variabel harus berupa huruf atau garis bawah/underscore, dan tidak bisa berupa angka\n",
        "3. Nama sebuah variabel tidak bisa menggunakan keyword atau reserved words dari bahasa python seperti for, if dan lainnya\n",
        "4. Karakter pada nama variabel bersifat sensitif (case-sensitif)\n"
      ],
      "metadata": {
        "id": "k5FZqD7lgRex"
      }
    },
    {
      "cell_type": "code",
      "source": [
        "# membuat variabel\n",
        "kalimat ='ini adalah variabel'\n",
        "bilangan1 = 0\n",
        "bilangan2 = 2.5\n",
        "bilangan3 = True\n",
        "bilangan4 = 1j + 4"
      ],
      "metadata": {
        "id": "CHY6-rfMgUyA"
      },
      "execution_count": null,
      "outputs": []
    },
    {
      "cell_type": "code",
      "source": [
        "# menampilkan variabel\n",
        "print(kalimat)\n",
        "print(bilangan1)\n",
        "print(bilangan2)\n",
        "print(bilangan3)\n",
        "print(bilangan4)"
      ],
      "metadata": {
        "id": "YHOiytTZgXxp",
        "colab": {
          "base_uri": "https://localhost:8080/"
        },
        "outputId": "128831e4-4188-4909-9f15-84ce8a12836e"
      },
      "execution_count": null,
      "outputs": [
        {
          "output_type": "stream",
          "name": "stdout",
          "text": [
            "ini adalah variabel\n",
            "0\n",
            "2.5\n",
            "True\n",
            "(4+1j)\n"
          ]
        }
      ]
    },
    {
      "cell_type": "markdown",
      "source": [
        "##Latihan 1"
      ],
      "metadata": {
        "id": "3vfY5MVggek3"
      }
    },
    {
      "cell_type": "code",
      "source": [
        "# buatlah 5 variabel kalian sendiri dengan 5 macam tipe data\n",
        "# lalu tampilkan variabel menggunakan fungsi print"
      ],
      "metadata": {
        "id": "t0qRlpoDgqBq"
      },
      "execution_count": null,
      "outputs": []
    },
    {
      "cell_type": "markdown",
      "source": [
        "##Jawaban"
      ],
      "metadata": {
        "id": "993fJj9Fgr3B"
      }
    },
    {
      "cell_type": "code",
      "source": [
        "# buatlah 5 variabel kalian sendiri dengan 5 macam tipe data\n",
        "kalimat = '5 variabel dengan 5 macam tipe data'\n",
        "variabel1 = 10\n",
        "variabel2 = 3.4\n",
        "variabel3 = False\n",
        "variabel4 = 2j + 3\n"
      ],
      "metadata": {
        "id": "lE4SnCfrgvXW"
      },
      "execution_count": null,
      "outputs": []
    },
    {
      "cell_type": "code",
      "source": [
        "# tampilkan variabel menggunakan fungsi print\n",
        "print(kalimat)\n",
        "print(variabel1)\n",
        "print(variabel2)\n",
        "print(variabel3)\n",
        "print(variabel4)"
      ],
      "metadata": {
        "colab": {
          "base_uri": "https://localhost:8080/"
        },
        "id": "C7y7iG-8gzEC",
        "outputId": "fb9528a0-0ae0-4939-d908-619e855af70a"
      },
      "execution_count": null,
      "outputs": [
        {
          "output_type": "stream",
          "name": "stdout",
          "text": [
            "5 variabel dengan 5 macam tipe data\n",
            "10\n",
            "3.4\n",
            "False\n",
            "(3+2j)\n"
          ]
        }
      ]
    },
    {
      "cell_type": "markdown",
      "source": [
        "#**Tipe Data & Konversi Tipe Data**"
      ],
      "metadata": {
        "id": "l8klKopUg7uE"
      }
    },
    {
      "cell_type": "markdown",
      "source": [
        "##Tipe Data"
      ],
      "metadata": {
        "id": "MSEy8bLgh3_u"
      }
    },
    {
      "cell_type": "markdown",
      "source": [
        "5 tipe data yaitu\n",
        "1. Integr atau bilangan bulat\n",
        "2. Float atau bilangan desimal\n",
        "3. string atau kalimat\n",
        "4. Boolean yang terdiri dari True dan False\n",
        "5. Complex yang merupakan bilangan kompleks\n",
        "\n"
      ],
      "metadata": {
        "id": "GXmqK-54g_7L"
      }
    },
    {
      "cell_type": "code",
      "source": [
        "# menampilkan tipe data\n",
        "print(type(kalimat))\n",
        "print(type(bilangan1))\n",
        "print(type(bilangan2))\n",
        "print(type(bilangan3))\n",
        "print(type(bilangan4))"
      ],
      "metadata": {
        "id": "jTRMcTNA9PYE",
        "colab": {
          "base_uri": "https://localhost:8080/"
        },
        "outputId": "d68a0196-12d5-47ea-9d74-098b82f49241"
      },
      "execution_count": null,
      "outputs": [
        {
          "output_type": "stream",
          "name": "stdout",
          "text": [
            "<class 'str'>\n",
            "<class 'int'>\n",
            "<class 'float'>\n",
            "<class 'bool'>\n",
            "<class 'complex'>\n"
          ]
        }
      ]
    },
    {
      "cell_type": "markdown",
      "source": [
        "###Latihan 2"
      ],
      "metadata": {
        "id": "XoWE2-GZhTzL"
      }
    },
    {
      "cell_type": "code",
      "source": [
        "# cek tipe data variabel yang telah kalian buat pada latihan 1"
      ],
      "metadata": {
        "id": "X9rTZ0AChVsU"
      },
      "execution_count": null,
      "outputs": []
    },
    {
      "cell_type": "markdown",
      "source": [
        "###Jawaban"
      ],
      "metadata": {
        "id": "akahYPzNhaFG"
      }
    },
    {
      "cell_type": "code",
      "source": [
        "# cek tipe data variabel yang telah kalian buat pada latihan\n",
        "print(type(kalimat))\n",
        "print(type(variabel1))\n",
        "print(type(variabel2))\n",
        "print(type(variabel3))\n",
        "print(type(variabel4))\n"
      ],
      "metadata": {
        "id": "4vEltxZmiW49",
        "colab": {
          "base_uri": "https://localhost:8080/"
        },
        "outputId": "2a3061d4-6dca-495f-b7f5-bf1afb0bf712"
      },
      "execution_count": null,
      "outputs": [
        {
          "output_type": "stream",
          "name": "stdout",
          "text": [
            "<class 'str'>\n",
            "<class 'int'>\n",
            "<class 'float'>\n",
            "<class 'bool'>\n",
            "<class 'complex'>\n"
          ]
        }
      ]
    },
    {
      "cell_type": "markdown",
      "source": [
        "##Koversi Tipe Data"
      ],
      "metadata": {
        "id": "Wu9ETu3FiC3D"
      }
    },
    {
      "cell_type": "markdown",
      "source": [
        "syntax konversi tipe data\n",
        "1.   Integer = int()\n",
        "2.   Float = float()\n",
        "3. String = str()\n",
        "4. Boolean = bool()\n",
        "5. Complex = Complex()\n",
        "\n"
      ],
      "metadata": {
        "id": "xsnlECty4Yhi"
      }
    },
    {
      "cell_type": "code",
      "source": [
        "# konversi tipe data integer\n",
        "print(int(bilangan2))\n",
        "print(int(bilangan3))"
      ],
      "metadata": {
        "id": "Ooom6gu9iLAp",
        "colab": {
          "base_uri": "https://localhost:8080/"
        },
        "outputId": "afba487c-ead8-42cb-873d-b30e5009affb"
      },
      "execution_count": null,
      "outputs": [
        {
          "output_type": "stream",
          "name": "stdout",
          "text": [
            "2\n",
            "1\n"
          ]
        }
      ]
    },
    {
      "cell_type": "code",
      "source": [
        "# konversi tipe data float\n",
        "print(float(bilangan1))\n",
        "print(float(bilangan3))"
      ],
      "metadata": {
        "id": "SBchlsL3iqEe",
        "colab": {
          "base_uri": "https://localhost:8080/"
        },
        "outputId": "ec62fea9-a1f4-4854-81b7-e4734f9b9619"
      },
      "execution_count": null,
      "outputs": [
        {
          "output_type": "stream",
          "name": "stdout",
          "text": [
            "0.0\n",
            "1.0\n"
          ]
        }
      ]
    },
    {
      "cell_type": "code",
      "source": [
        "# konversi tipe data string\n",
        "print(str(bilangan1))\n",
        "print(str(bilangan2))\n",
        "print(str(bilangan3))"
      ],
      "metadata": {
        "id": "agzdwUdMiwVS",
        "colab": {
          "base_uri": "https://localhost:8080/"
        },
        "outputId": "a9b7cd4e-13a4-469d-9abe-2b7b6071c3bf"
      },
      "execution_count": null,
      "outputs": [
        {
          "output_type": "stream",
          "name": "stdout",
          "text": [
            "0\n",
            "2.5\n",
            "True\n"
          ]
        }
      ]
    },
    {
      "cell_type": "code",
      "source": [
        "A = str(bilangan1)\n",
        "B = str(bilangan2)\n",
        "print(A+B)"
      ],
      "metadata": {
        "colab": {
          "base_uri": "https://localhost:8080/"
        },
        "id": "UBS9AsCKFVby",
        "outputId": "07182070-efe0-4ca4-d7ea-e2a4a74f8f09"
      },
      "execution_count": null,
      "outputs": [
        {
          "output_type": "stream",
          "name": "stdout",
          "text": [
            "02.5\n"
          ]
        }
      ]
    },
    {
      "cell_type": "code",
      "source": [
        "# konversi tipe data bool\n",
        "print(bool(bilangan1))\n",
        "print(bool(bilangan2))"
      ],
      "metadata": {
        "id": "iYMlVptaiy5n",
        "colab": {
          "base_uri": "https://localhost:8080/"
        },
        "outputId": "50fb1aa3-d3f8-4da5-fa71-731693463c2f"
      },
      "execution_count": null,
      "outputs": [
        {
          "output_type": "stream",
          "name": "stdout",
          "text": [
            "False\n",
            "True\n"
          ]
        }
      ]
    },
    {
      "cell_type": "code",
      "source": [
        "# konversi tipe data complex\n",
        "print(complex(bilangan1))\n",
        "print(complex(bilangan2))\n",
        "print(complex(bilangan3))"
      ],
      "metadata": {
        "id": "y8DsRiobi1cH",
        "colab": {
          "base_uri": "https://localhost:8080/"
        },
        "outputId": "ec81e5d0-0516-420f-9414-7e30b525b4e1"
      },
      "execution_count": null,
      "outputs": [
        {
          "output_type": "stream",
          "name": "stdout",
          "text": [
            "0j\n",
            "(2.5+0j)\n",
            "(1+0j)\n"
          ]
        }
      ]
    },
    {
      "cell_type": "markdown",
      "source": [
        "###Latihan 3"
      ],
      "metadata": {
        "id": "cRPKxZ-ji6Uq"
      }
    },
    {
      "cell_type": "code",
      "source": [
        "# konversi tipe data yang telah kalian buat\n",
        "# menjadi berbagai macam tipe data"
      ],
      "metadata": {
        "id": "AtgQbzmQi8ug"
      },
      "execution_count": null,
      "outputs": []
    },
    {
      "cell_type": "markdown",
      "source": [
        "###Jawaban"
      ],
      "metadata": {
        "id": "F3elgZgdi-_Y"
      }
    },
    {
      "cell_type": "code",
      "source": [
        "# konversi tipe data integer\n",
        "print(int(variabel1))\n",
        "print(int(variabel2))\n",
        "print(int(variabel3))"
      ],
      "metadata": {
        "colab": {
          "base_uri": "https://localhost:8080/"
        },
        "id": "6oO5XtAejA1w",
        "outputId": "59043a93-24ae-4805-854d-2a961613dae0"
      },
      "execution_count": null,
      "outputs": [
        {
          "output_type": "stream",
          "name": "stdout",
          "text": [
            "10\n",
            "3\n",
            "0\n"
          ]
        }
      ]
    },
    {
      "cell_type": "code",
      "source": [
        "# konversi tipe data float\n",
        "print(float(variabel1))\n",
        "print(float(variabel2))\n",
        "print(float(variabel3))"
      ],
      "metadata": {
        "colab": {
          "base_uri": "https://localhost:8080/"
        },
        "id": "R7kk4XxnjGPU",
        "outputId": "2294d830-890e-4b0b-d971-b0c9097f1ba5"
      },
      "execution_count": null,
      "outputs": [
        {
          "output_type": "stream",
          "name": "stdout",
          "text": [
            "10.0\n",
            "3.4\n",
            "0.0\n"
          ]
        }
      ]
    },
    {
      "cell_type": "code",
      "source": [
        "# konversi tipe data string\n",
        "print(str(kalimat))\n",
        "print(str(variabel1))\n",
        "print(str(variabel2))\n",
        "print(str(variabel3))\n",
        "print(str(variabel4))"
      ],
      "metadata": {
        "colab": {
          "base_uri": "https://localhost:8080/"
        },
        "id": "KThJq5ltjKO5",
        "outputId": "fc99489b-f0a4-4916-e92c-5f8272a2b0fc"
      },
      "execution_count": null,
      "outputs": [
        {
          "output_type": "stream",
          "name": "stdout",
          "text": [
            "5 variabel dengan 5 macam tipe data\n",
            "10\n",
            "3.4\n",
            "False\n",
            "(3+2j)\n"
          ]
        }
      ]
    },
    {
      "cell_type": "code",
      "source": [
        "# konversi tipe data bool\n",
        "print(bool(kalimat))\n",
        "print(bool(variabel1))\n",
        "print(bool(variabel2))\n",
        "print(bool(variabel3))\n",
        "print(bool(variabel4))"
      ],
      "metadata": {
        "colab": {
          "base_uri": "https://localhost:8080/"
        },
        "id": "pfBLAcRUjOoG",
        "outputId": "529f1966-0d0e-4c69-e2b5-a7ed7354a394"
      },
      "execution_count": null,
      "outputs": [
        {
          "output_type": "stream",
          "name": "stdout",
          "text": [
            "True\n",
            "True\n",
            "True\n",
            "False\n",
            "True\n"
          ]
        }
      ]
    },
    {
      "cell_type": "code",
      "source": [
        "# konversi tipe data complex\n",
        "print(complex(variabel1))\n",
        "print(complex(variabel2))\n",
        "print(complex(variabel3))\n",
        "print(complex(variabel4))"
      ],
      "metadata": {
        "colab": {
          "base_uri": "https://localhost:8080/"
        },
        "id": "_SmM3lBijRP-",
        "outputId": "f71daebc-f8d2-4799-f27f-ebef7995278d"
      },
      "execution_count": null,
      "outputs": [
        {
          "output_type": "stream",
          "name": "stdout",
          "text": [
            "(10+0j)\n",
            "(3.4+0j)\n",
            "0j\n",
            "(3+2j)\n"
          ]
        }
      ]
    }
  ]
}