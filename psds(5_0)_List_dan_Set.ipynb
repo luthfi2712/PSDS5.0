{
  "nbformat": 4,
  "nbformat_minor": 0,
  "metadata": {
    "colab": {
      "provenance": []
    },
    "kernelspec": {
      "name": "python3",
      "display_name": "Python 3"
    },
    "language_info": {
      "name": "python"
    }
  },
  "cells": [
    {
      "cell_type": "markdown",
      "source": [
        "#LIST PYTHON"
      ],
      "metadata": {
        "id": "tQy114VsmO9U"
      }
    },
    {
      "cell_type": "markdown",
      "source": [
        "Dalam bahasa pemrograman Python, struktur data yang paling dasar adalah urutan atau lists. Setiap elemen-elemen berurutan akan diberi\n",
        "nomor posisi atau indeksnya. Indeks pertama dalam list adalah nol, indeks kedua adalah satu dan seterusnya.\n",
        "\n",
        "Python memiliki enam jenis urutan built-in, namun yang paling umum adalah list dan tuple. Ada beberapa hal yang dapat Anda lakukan dengan\n",
        "semua jenis list. Operasi ini meliputi pengindeksan, pengiris, penambahan, perbanyak, dan pengecekan keanggotaan. Selain itu, Python\n",
        "memiliki fungsi built-in untuk menemukan panjang list dan untuk menemukan elemen terbesar dan terkecilnya."
      ],
      "metadata": {
        "id": "hpsAYRwPmNE0"
      }
    },
    {
      "cell_type": "markdown",
      "source": [
        "##Membuat List Python"
      ],
      "metadata": {
        "id": "B4BakxcImSwU"
      }
    },
    {
      "cell_type": "markdown",
      "source": [
        "List adalah tipe data yang paling serbaguna yang tersedia dalam bahasa Python, yang dapat ditulis sebagai daftar nilai yang dipisahkan koma\n",
        "(item) antara tanda kurung siku. Hal penting tentang daftar adalah item dalam list tidak boleh sama jenisnya.\n",
        "\n",
        "Membuat list sangat sederhana, tinggal memasukkan berbagai nilai yang dipisahkan koma di antara tanda kurung siku. Dibawah ini adalah\n",
        "contoh sederhana pembuatan list dalam bahasa Python.\n"
      ],
      "metadata": {
        "id": "imVwU6xhmZpz"
      }
    },
    {
      "cell_type": "code",
      "execution_count": null,
      "metadata": {
        "colab": {
          "base_uri": "https://localhost:8080/"
        },
        "id": "gdvOvW0ylsVh",
        "outputId": "79b4c5aa-35ec-4f26-c458-3cdff742182d"
      },
      "outputs": [
        {
          "output_type": "stream",
          "name": "stdout",
          "text": [
            "List 1: ['kimia', 'fisika', 1993, 2017]\n",
            "List 2: [1, 2, 3, 4, 5]\n",
            "List 3: ['a', 'b', 'c', 'd']\n"
          ]
        }
      ],
      "source": [
        "#contoh sederhana pembuatan list pada bahasa pemograman python\n",
        "list1 = ['kimia', 'fisika', 1993, 2017]\n",
        "list2 = [1, 2, 3, 4, 5 ]\n",
        "list3 = [\"a\", \"b\", \"c\", \"d\"]\n",
        "\n",
        "print('List 1:', list1)\n",
        "print('List 2:', list2)\n",
        "print('List 3:', list3)"
      ]
    },
    {
      "cell_type": "markdown",
      "source": [
        "##Akses Nilai Dalam List Python"
      ],
      "metadata": {
        "id": "IjNUSxcfm120"
      }
    },
    {
      "cell_type": "markdown",
      "source": [
        "Untuk mengakses nilai dalam list python, gunakan tanda kurung siku untuk mengiris beserta indeks atau indeks untuk mendapatkan nilai yang\n",
        "tersedia pada indeks tersebut."
      ],
      "metadata": {
        "id": "4sUqQ_6Em7B8"
      }
    },
    {
      "cell_type": "code",
      "source": [
        "#Cara mengakses nilai di dalam list Python\n",
        "list1 = ['fisika', 'kimia', 1993, 2017]\n",
        "list2 = [1, 2, 3, 4, 5, 6, 7 ]\n",
        "print (\"list1[0]: \", list1[0])\n",
        "print (\"list2[1:5]: \", list2[1:5])"
      ],
      "metadata": {
        "colab": {
          "base_uri": "https://localhost:8080/"
        },
        "id": "p-4-nWFBm9xr",
        "outputId": "1691dde1-ce20-46cf-fd53-ebf67ac6b5dd"
      },
      "execution_count": null,
      "outputs": [
        {
          "output_type": "stream",
          "name": "stdout",
          "text": [
            "list1[0]:  fisika\n",
            "list2[1:5]:  [2, 3, 4, 5]\n"
          ]
        }
      ]
    },
    {
      "cell_type": "markdown",
      "source": [
        "##Update Nilai Dalam List Python"
      ],
      "metadata": {
        "id": "lErBcMJUnAuL"
      }
    },
    {
      "cell_type": "markdown",
      "source": [
        "Kita dapat memperbarui satu atau beberapa nilai di dalam list dengan memberikan potongan di sisi kiri operator penugasan, dan kita dapat\n",
        "menambahkan nilai ke dalam list dengan metode append ()."
      ],
      "metadata": {
        "id": "ZmnIVQT9nC-r"
      }
    },
    {
      "cell_type": "code",
      "source": [
        "list = ['fisika', 'kimia', 1993, 2017]\n",
        "print (\"Nilai ada pada index 2 : \", list[2])\n",
        "list[2] = 2001\n",
        "print (\"Nilai baru ada pada index 2 : \", list[2])"
      ],
      "metadata": {
        "colab": {
          "base_uri": "https://localhost:8080/"
        },
        "id": "j4oTm4NgnEn8",
        "outputId": "1d6ef433-0439-4737-94ce-3d31b18971ef"
      },
      "execution_count": null,
      "outputs": [
        {
          "output_type": "stream",
          "name": "stdout",
          "text": [
            "Nilai ada pada index 2 :  1993\n",
            "Nilai baru ada pada index 2 :  2001\n"
          ]
        }
      ]
    },
    {
      "cell_type": "markdown",
      "source": [
        "##Hapus Nilai Dalam List Python"
      ],
      "metadata": {
        "id": "GRZ-4zvfnIMs"
      }
    },
    {
      "cell_type": "markdown",
      "source": [
        "Untuk menghapus nilai di dalam list python, kita dapat menggunakan salah satu pernyataan del jika Anda tahu persis elemen yang Anda hapus.\n",
        "Kita dapat menggunakan metode remove() jika Anda tidak tahu persis item mana yang akan dihapus."
      ],
      "metadata": {
        "id": "Ym3WHP92nKgs"
      }
    },
    {
      "cell_type": "code",
      "source": [
        "#Contoh cara menghapus nilai pada list python\n",
        "list = ['fisika', 'kimia', 1993, 2017]\n",
        "print (list)\n",
        "del list[2]\n",
        "print (\"Setelah dihapus nilai pada index 2 : \", list)"
      ],
      "metadata": {
        "colab": {
          "base_uri": "https://localhost:8080/"
        },
        "id": "Jrx2gS50nNJz",
        "outputId": "c960ad7f-6e09-4d0f-9a0e-2dcd22900a89"
      },
      "execution_count": null,
      "outputs": [
        {
          "output_type": "stream",
          "name": "stdout",
          "text": [
            "['fisika', 'kimia', 1993, 2017]\n",
            "Setelah dihapus nilai pada index 2 :  ['fisika', 'kimia', 2017]\n"
          ]
        }
      ]
    },
    {
      "cell_type": "markdown",
      "source": [
        "##Slicing pada List Python\n"
      ],
      "metadata": {
        "id": "TFZdHNlXnMls"
      }
    },
    {
      "cell_type": "markdown",
      "source": [
        "Karena string mirip dengan list, maka slicing operator [ ] juga dapat digunakan pada string untuk mengambil isinya atau bahkan substring.\n",
        "Sebuah string utuh bersifat mutable (bisa diubah), namun elemennya bersifat immutable (tidak bisa diubah)."
      ],
      "metadata": {
        "id": "xccQSKm5nUid"
      }
    },
    {
      "cell_type": "code",
      "source": [
        "L = ['C++', 'Java', 'Python']\n",
        "print('Indeks ke-2:', L[2])\n",
        "print('Indeks ke-2 dari belakang :', L[-2])\n",
        "print('Indeks ke 1 dan 2 :', L[1:])"
      ],
      "metadata": {
        "colab": {
          "base_uri": "https://localhost:8080/"
        },
        "id": "mpPFcHw4nYDM",
        "outputId": "6823e8dd-6a88-432f-d26e-6c1f239b7d98"
      },
      "execution_count": null,
      "outputs": [
        {
          "output_type": "stream",
          "name": "stdout",
          "text": [
            "Indeks ke-2: Python\n",
            "Indeks ke-2 dari belakang : Java\n",
            "Indeks ke 1 dan 2 : ['Java', 'Python']\n"
          ]
        }
      ]
    },
    {
      "cell_type": "markdown",
      "source": [
        "#SET"
      ],
      "metadata": {
        "id": "uTyXn5lFnaQ8"
      }
    },
    {
      "cell_type": "markdown",
      "source": [
        "Set juga merupakan tipe data untuk mengumpulkan beberapa item dalam satu variabel. Bedanya, item di dalam set bersifat tidak berurutan dan\n",
        "tidak bisa diubah/diduplikasi. Set menggunakan {} sebagai kontainer.\n",
        "\n",
        "Sama seperti list, set juga bisa diisi oleh item dengan berbagai jenis data."
      ],
      "metadata": {
        "id": "npmxsVsOnjxb"
      }
    },
    {
      "cell_type": "markdown",
      "source": [
        "##Mengakses item dalam set"
      ],
      "metadata": {
        "id": "HdRnZrUVnozb"
      }
    },
    {
      "cell_type": "markdown",
      "source": [
        "Karena set menampung item tidak secara berurutan, maka kita harus memasukan nilai item secara spesifik, dan tidak bisa menggunakan\n",
        "urutan seperti list."
      ],
      "metadata": {
        "id": "3sNnni6enrJT"
      }
    },
    {
      "cell_type": "code",
      "source": [
        "a = {\"Rokok\", \"Korek\", \"Asbak\"}\n",
        "print(\"Rokok\" in a)"
      ],
      "metadata": {
        "colab": {
          "base_uri": "https://localhost:8080/"
        },
        "id": "43xv7g7DntUD",
        "outputId": "0dc4a892-ef11-4ce6-b690-6b7bfabcc3a8"
      },
      "execution_count": null,
      "outputs": [
        {
          "output_type": "stream",
          "name": "stdout",
          "text": [
            "True\n"
          ]
        }
      ]
    },
    {
      "cell_type": "markdown",
      "source": [
        "##Menghapus item dalam set"
      ],
      "metadata": {
        "id": "MO-zmN4TnvOE"
      }
    },
    {
      "cell_type": "markdown",
      "source": [
        "Untuk menghapus item di dalam set, fungsi yang digunakan adalah (variabel).remove(item). Kita tidak bisa menggunakan .pop(urutan_item)\n",
        "seperti di list, karena set tidak memiliki urutan item."
      ],
      "metadata": {
        "id": "iFru3KhEnxO7"
      }
    },
    {
      "cell_type": "code",
      "source": [
        "a = {\"Rokok\", \"Korek\", \"Asbak\"}\n",
        "a.remove(\"Korek\")\n",
        "print(a)"
      ],
      "metadata": {
        "colab": {
          "base_uri": "https://localhost:8080/"
        },
        "id": "ItgMAxYgn21U",
        "outputId": "9d45c2ee-ea5c-4c89-8dbc-54bd0cc06ef6"
      },
      "execution_count": null,
      "outputs": [
        {
          "output_type": "stream",
          "name": "stdout",
          "text": [
            "{'Asbak', 'Rokok'}\n"
          ]
        }
      ]
    },
    {
      "cell_type": "markdown",
      "source": [
        "##Dictionary"
      ],
      "metadata": {
        "id": "p-8oNosZn4eL"
      }
    },
    {
      "cell_type": "markdown",
      "source": [
        "Dictionary sebagai tipe data berfungsi mengumpulkan beberapa item dalam satu variabel dengan format key:value. Item di dalam dictionary\n",
        "bersifat berurutan, bisa diubah, tetapi tidak bisa diduplikasi. Dictionary menggunakan simbol {item:item} sebagai kontainer.\n",
        "\n",
        "Contoh dictionary yang diisi item dengan berbagai jenis tipe data."
      ],
      "metadata": {
        "id": "rUJBzr4pn6wr"
      }
    },
    {
      "cell_type": "code",
      "source": [
        "x = {\"nama\": \"Budi\", \"umur\": 50, \"tinggi_badan\": 155.5}\n",
        "print(x)"
      ],
      "metadata": {
        "colab": {
          "base_uri": "https://localhost:8080/"
        },
        "id": "Vm6432BOn9pM",
        "outputId": "f3fb9a20-8605-4fad-b13b-1b57b7e583d7"
      },
      "execution_count": null,
      "outputs": [
        {
          "output_type": "stream",
          "name": "stdout",
          "text": [
            "{'nama': 'Budi', 'umur': 50, 'tinggi_badan': 155.5}\n"
          ]
        }
      ]
    },
    {
      "cell_type": "markdown",
      "source": [
        "##Mengakses value dari dictionary"
      ],
      "metadata": {
        "id": "afIUd3BOoBS8"
      }
    },
    {
      "cell_type": "markdown",
      "source": [
        "Untuk mengakses value dari sebuah key dalam dictionary, gunakan (variabel[key])."
      ],
      "metadata": {
        "id": "3iS-r34XoDjM"
      }
    },
    {
      "cell_type": "code",
      "source": [
        "menteri = {\"nama\": \"Budi\", \"umur\": 50}\n",
        "print(menteri[\"umur\"])"
      ],
      "metadata": {
        "colab": {
          "base_uri": "https://localhost:8080/"
        },
        "id": "XtTJrvDpoFVc",
        "outputId": "cfba156a-80ed-4074-c515-5f0346228e6c"
      },
      "execution_count": null,
      "outputs": [
        {
          "output_type": "stream",
          "name": "stdout",
          "text": [
            "50\n"
          ]
        }
      ]
    },
    {
      "cell_type": "code",
      "source": [
        "#Contoh cara membuat Dictionary pada Python\n",
        "dict = {'Name': 'Zara', 'Age': 7, 'Class': 'First'}\n",
        "print (\"dict['Name']: \", dict['Name'])\n",
        "print (\"dict['Age']: \", dict['Age'])"
      ],
      "metadata": {
        "colab": {
          "base_uri": "https://localhost:8080/"
        },
        "id": "uVp0RV08oHns",
        "outputId": "502a286a-b8c4-4df6-f0a9-02adf9c04e97"
      },
      "execution_count": null,
      "outputs": [
        {
          "output_type": "stream",
          "name": "stdout",
          "text": [
            "dict['Name']:  Zara\n",
            "dict['Age']:  7\n"
          ]
        }
      ]
    },
    {
      "cell_type": "markdown",
      "source": [
        "#Update Nilai Dalam Dictionary Python"
      ],
      "metadata": {
        "id": "E9boas8poKx8"
      }
    },
    {
      "cell_type": "markdown",
      "source": [
        "Dapat memperbarui Dictionary dengan menambahkan entri baru atau pasangan nilai kunci, memodifikasi entri yang ada"
      ],
      "metadata": {
        "id": "WX1YofHjoSh8"
      }
    },
    {
      "cell_type": "markdown",
      "source": [
        "##Mengubah item"
      ],
      "metadata": {
        "id": "gnCHJ7JcoUns"
      }
    },
    {
      "cell_type": "markdown",
      "source": [
        "Untuk mengubah item, kita perlu menentukan terlebih dahulu key dari item yang ingin diubah. Sintaksis yang digunakan adalah (variabel[key]) =\n",
        "value_baru"
      ],
      "metadata": {
        "id": "UEh1hTBUoW-U"
      }
    },
    {
      "cell_type": "code",
      "source": [
        "#Update dictionary python\n",
        "dict = {'Name': 'Zara', 'Age': 7, 'Class': 'First'}\n",
        "dict['Age'] = 8; # Mengubah entri yang sudah ada\n",
        "dict['School'] = \"DPS School\" # Menambah entri baru\n",
        "print (\"dict['Age']: \", dict['Age'])\n",
        "print (\"dict['School']: \", dict['School'])"
      ],
      "metadata": {
        "colab": {
          "base_uri": "https://localhost:8080/"
        },
        "id": "1nsJS3BtoYPU",
        "outputId": "f726de21-5a2a-4701-a9cd-34be2183c0af"
      },
      "execution_count": null,
      "outputs": [
        {
          "output_type": "stream",
          "name": "stdout",
          "text": [
            "dict['Age']:  8\n",
            "dict['School']:  DPS School\n"
          ]
        }
      ]
    },
    {
      "cell_type": "code",
      "source": [
        "menteri = {\"nama\": \"Budi\", \"umur\": 50}\n",
        "menteri[\"nama\"] = \"Adi\"\n",
        "print(menteri)"
      ],
      "metadata": {
        "colab": {
          "base_uri": "https://localhost:8080/"
        },
        "id": "C6jDlsx2ohgM",
        "outputId": "2198017a-a692-443f-f1a8-ef21977b0814"
      },
      "execution_count": null,
      "outputs": [
        {
          "output_type": "stream",
          "name": "stdout",
          "text": [
            "{'nama': 'Adi', 'umur': 50}\n"
          ]
        }
      ]
    },
    {
      "cell_type": "markdown",
      "source": [
        "##Menambah item"
      ],
      "metadata": {
        "id": "s-qpXcm_oi68"
      }
    },
    {
      "cell_type": "markdown",
      "source": [
        "Menambah item memiliki langkah yang sama dengan mengubah item. Bedanya, key yang dimasukkan adalah key baru yang belum ada di\n",
        "dalam dictionary. Sintaksis yang digunakan adalah (variabel[key_baru]) = value_baru.\n"
      ],
      "metadata": {
        "id": "1zNWhD7FolPs"
      }
    },
    {
      "cell_type": "code",
      "source": [
        "menteri = {\"nama\": \"Budi\", \"umur\": 50}\n",
        "menteri[\"kementerian\"] = \"Setneg\"\n",
        "print(menteri)"
      ],
      "metadata": {
        "colab": {
          "base_uri": "https://localhost:8080/"
        },
        "id": "OPv6TJMjom0U",
        "outputId": "cf8d1574-70ea-48ce-c6e8-b12e14d46080"
      },
      "execution_count": null,
      "outputs": [
        {
          "output_type": "stream",
          "name": "stdout",
          "text": [
            "{'nama': 'Budi', 'umur': 50, 'kementerian': 'Setneg'}\n"
          ]
        }
      ]
    },
    {
      "cell_type": "markdown",
      "source": [
        "##Menghapus item"
      ],
      "metadata": {
        "id": "den1k4CtopFs"
      }
    },
    {
      "cell_type": "markdown",
      "source": [
        "Untuk menghapus item dalam dictionary, kita menggunakan fungsi .pop dengan sintaksis (variabel).pop(key_yang_ingin_dihapus)."
      ],
      "metadata": {
        "id": "A5_aAPYyotAM"
      }
    },
    {
      "cell_type": "code",
      "source": [
        "menteri = {\"nama\": \"Budi\", \"umur\": 50, \"kementerian\": \"Setneg\"}\n",
        "print(menteri.pop(\"kementerian\"))"
      ],
      "metadata": {
        "colab": {
          "base_uri": "https://localhost:8080/"
        },
        "id": "G2qvEdylowSM",
        "outputId": "fb3437bb-4ae3-4e99-9f52-de04b5c1a053"
      },
      "execution_count": null,
      "outputs": [
        {
          "output_type": "stream",
          "name": "stdout",
          "text": [
            "Setneg\n"
          ]
        }
      ]
    },
    {
      "cell_type": "code",
      "source": [
        "#Contoh cara menghapus pada Dictionary Python\n",
        "dict = {'Name': 'Zara', 'Age': 7, 'Class': 'First'}\n",
        "del dict['Name'] # hapus entri dengan key 'Name'\n",
        "dict.clear() # hapus semua entri di dict\n",
        "del dict # hapus dictionary yang sudah ada\n",
        "print (\"dict['Age']: \", dict['Age'])\n",
        "print (\"dict['School']: \", dict['School'])"
      ],
      "metadata": {
        "colab": {
          "base_uri": "https://localhost:8080/"
        },
        "id": "JJrOP0Gkox2U",
        "outputId": "5173c8cc-b2e2-4b04-8be0-367a5dc0c78a"
      },
      "execution_count": null,
      "outputs": [
        {
          "output_type": "stream",
          "name": "stdout",
          "text": [
            "dict['Age']:  dict['Age']\n",
            "dict['School']:  dict['School']\n"
          ]
        }
      ]
    }
  ]
}