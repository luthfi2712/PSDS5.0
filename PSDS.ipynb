{
  "nbformat": 4,
  "nbformat_minor": 0,
  "metadata": {
    "colab": {
      "provenance": []
    },
    "kernelspec": {
      "name": "python3",
      "display_name": "Python 3"
    },
    "language_info": {
      "name": "python"
    }
  },
  "cells": [
    {
      "cell_type": "markdown",
      "source": [
        "PSDS PERTEMUAN 1"
      ],
      "metadata": {
        "id": "AGEYnLoigg-X"
      }
    },
    {
      "cell_type": "markdown",
      "source": [
        "###Statement"
      ],
      "metadata": {
        "id": "wB_zudZfm9q_"
      }
    },
    {
      "cell_type": "code",
      "execution_count": null,
      "metadata": {
        "colab": {
          "base_uri": "https://localhost:8080/"
        },
        "id": "9_GUDszMmitQ",
        "outputId": "089c2a9c-7759-41d6-dde2-d85c394638e9"
      },
      "outputs": [
        {
          "output_type": "stream",
          "name": "stdout",
          "text": [
            "belajar Phyton menyenangkan\n",
            "halo dunia\n"
          ]
        }
      ],
      "source": [
        "print(\"belajar Phyton menyenangkan\")\n",
        "print(\"halo dunia\")"
      ]
    },
    {
      "cell_type": "markdown",
      "source": [
        "###Variables"
      ],
      "metadata": {
        "id": "QlToD223k_sj"
      }
    },
    {
      "cell_type": "code",
      "source": [
        "bilangan1 = 5\n",
        "bilangan2 = 10\n",
        "kalimat = \"Pejuang Data 3\"\n",
        "bilangan = bilangan1+bilangan2\n",
        "print(\"Bilangan Total =\", bilangan)"
      ],
      "metadata": {
        "colab": {
          "base_uri": "https://localhost:8080/"
        },
        "id": "LFxZHT8Ko1eH",
        "outputId": "1fd6ee35-d6f9-45ed-c067-0d7f48778d6a"
      },
      "execution_count": null,
      "outputs": [
        {
          "output_type": "stream",
          "name": "stdout",
          "text": [
            "Bilangan Total = 15\n"
          ]
        }
      ]
    },
    {
      "cell_type": "markdown",
      "source": [
        "###Comments"
      ],
      "metadata": {
        "id": "q7iCiDvcnIaB"
      }
    },
    {
      "cell_type": "markdown",
      "source": [
        "####a. single line comment"
      ],
      "metadata": {
        "id": "pl1DtBfRnyre"
      }
    },
    {
      "cell_type": "code",
      "source": [
        "# Ini adalah Comment\n",
        "print(\"belajar Phyton\")"
      ],
      "metadata": {
        "colab": {
          "base_uri": "https://localhost:8080/"
        },
        "id": "7PZxaogVnUC9",
        "outputId": "57d9bd74-3368-4324-a7a2-c06f05ae9d8a"
      },
      "execution_count": null,
      "outputs": [
        {
          "output_type": "stream",
          "name": "stdout",
          "text": [
            "belajar Phyton\n"
          ]
        }
      ]
    },
    {
      "cell_type": "markdown",
      "source": [
        "####b. multi line comment"
      ],
      "metadata": {
        "id": "xI9ajB93n3-_"
      }
    },
    {
      "cell_type": "code",
      "source": [
        "\"\"\"\n",
        "Ini adalah komentar panjang\n",
        "Bisa digunakan untuk memberikan penjelasan\n",
        "panjang pada Seluruh Kode Python,\n",
        "Misal dokumentasi program, spesifikasi\n",
        "input output atau lainnya\n",
        "\"\"\"\n",
        "print('Belajar Phyton menyenangkan')"
      ],
      "metadata": {
        "colab": {
          "base_uri": "https://localhost:8080/"
        },
        "id": "2Oa3MuXPns8O",
        "outputId": "36ea9fd5-5002-4624-cd7b-7b83e7be92e7"
      },
      "execution_count": null,
      "outputs": [
        {
          "output_type": "stream",
          "name": "stdout",
          "text": [
            "Belajar Phyton menyenangkan\n"
          ]
        }
      ]
    }
  ]
}