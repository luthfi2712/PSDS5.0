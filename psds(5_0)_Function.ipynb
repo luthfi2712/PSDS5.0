{
  "nbformat": 4,
  "nbformat_minor": 0,
  "metadata": {
    "colab": {
      "provenance": []
    },
    "kernelspec": {
      "name": "python3",
      "display_name": "Python 3"
    },
    "language_info": {
      "name": "python"
    }
  },
  "cells": [
    {
      "cell_type": "markdown",
      "source": [
        "#Function\n",
        "Function (fungsi) adalah sebuah blok statement yang hanya akan dijalankan saat ia dipanggil.\n",
        "\n",
        "Fungsi len() untuk mengukur jumlah elemen dalam sebuah list dan fungsi print() untuk menampilkan pesan pada layar konsol merupakan contoh dari bentuk fungsi yang telah disediakan oleh bahasa pemograman Python dengan kata lain built-in function. Selain fungsi yang telah disediakan oleh Python. Python mengizinkan untuk mendeklarasikan fungsi dalam kode yang dituliskan yang dikenal dengan user defined function."
      ],
      "metadata": {
        "id": "kUD_Q_i5tKNR"
      }
    },
    {
      "cell_type": "code",
      "execution_count": null,
      "metadata": {
        "id": "HvUqmiNCtA8A"
      },
      "outputs": [],
      "source": [
        "def nama_fungsi():\n",
        "  statement_l\n",
        "  -\n",
        "  statement_n\n",
        "  return returned_value"
      ]
    },
    {
      "cell_type": "markdown",
      "source": [
        "•\tNama_fungsi adalah untuk fungsi yang anda definisikan, memiliki aturan seperti penamaan variable\n",
        "\n",
        "•\tArgument adalah variable masukkan ke fungsi, biasa tanpa variable, satu variable atau lebih.\n",
        "\n",
        "•\tStatement_l… statement_n adalah algoritma yang telah anda transfer dalam Bahasa pyhton yang merupakan inti dari fungsi yang anda definisikan. Seluruh statement adalah merojok (indent) ke dalam seperti yang pernah anda pelajari pada conditioning dan looping.\n",
        "\n",
        "•\treturn_value adalah variable output dari fungsi anda, bisa tanpa variable, satu variable atau lebih.\n"
      ],
      "metadata": {
        "id": "LqZrJmYDuGUA"
      }
    },
    {
      "cell_type": "markdown",
      "source": [
        "#Argumen dan Parameter"
      ],
      "metadata": {
        "id": "aK1XyPV-vA-4"
      }
    },
    {
      "cell_type": "markdown",
      "source": [
        "• Parameter adalah variabel yang digunakan dalam deklarasi fungsi\n",
        "\n",
        "• Argumen adalah nilai yang diberikan saat pemanggilan fungsi"
      ],
      "metadata": {
        "id": "t8Gp-dyZvH1o"
      }
    },
    {
      "cell_type": "code",
      "source": [
        "def print_nama(nama): #'nama' adalah parameter\n",
        "  print(nama)\n",
        "\n",
        "print_nama('Budi') #'Budi' adalah argumen"
      ],
      "metadata": {
        "colab": {
          "base_uri": "https://localhost:8080/"
        },
        "id": "ln-xvvEavT2A",
        "outputId": "85f38c88-5276-4d61-fc32-452b29167606"
      },
      "execution_count": 1,
      "outputs": [
        {
          "output_type": "stream",
          "name": "stdout",
          "text": [
            "Budi\n"
          ]
        }
      ]
    },
    {
      "cell_type": "markdown",
      "source": [
        "#Argumen posisi dan kata kunci"
      ],
      "metadata": {
        "id": "sWi0cwpwvqH2"
      }
    },
    {
      "cell_type": "markdown",
      "source": [
        "kita bisa menyatakan argumen posisi atau kata kunci. Beberapa manfaa argumen kata kunci dapat berupa:\n",
        "\n",
        "•Kita dapat menyebut argumen dengan mereka untuk memperjelas apa yang mereka wakili\n",
        "\n",
        "• Kita dapat mengatur ulang argumen dengan cara membuatnya paling mudah dibaca"
      ],
      "metadata": {
        "id": "0-j8GFJCvuSV"
      }
    },
    {
      "cell_type": "code",
      "source": [
        "def angka(a, b, c):\n",
        "  print(a, b, c)\n",
        "\n",
        "#argumen posisi\n",
        "#argumen berdasarkan posisinya\n",
        "angka(1, 2, 3)\n",
        "\n",
        "#argumen berdasarkan kata kuncinya\n",
        "angka(a=1, b=2, c=3)\n",
        "angka(c=3, b=2, a=1)\n",
        "\n",
        "#catatan: jika sudah diberi kunci maka urutan tidak menjadi penting\n",
        "#campuran antara argumen posisi dan argumen kata kunci\n",
        "angka(1, b=2, c=3)\n",
        "\n",
        "#ini tidak diijinkan:\n",
        "#foo(1, b=2, 3) #argumen posisional setelah argumen kunci\n",
        "#foo(1, b=2, a=3) #terdapat dua nilai untuk argumen kunci 'a'"
      ],
      "metadata": {
        "colab": {
          "base_uri": "https://localhost:8080/"
        },
        "id": "WtcFdV_wvpg5",
        "outputId": "87b03767-9e1a-4a69-e4bd-a4554ffe0110"
      },
      "execution_count": 4,
      "outputs": [
        {
          "output_type": "stream",
          "name": "stdout",
          "text": [
            "1 2 3\n",
            "1 2 3\n",
            "1 2 3\n",
            "1 2 3\n"
          ]
        }
      ]
    },
    {
      "cell_type": "markdown",
      "source": [
        "#Argumen Default\n",
        "\n",
        "Fungsi dapat memiliki argumen default dengan nilai yang telah ditentukan sebelumnya. Argumen ini dapat ditinggalkan dan nilai default kemudia diteruskan ke fungsi, atau argumen dapat dirubah dengan nilai yang berbeda. Perhatikan bahwa argumen default harus ditentukan sebagai paramter terakhir dalam seuatu fungsi"
      ],
      "metadata": {
        "id": "AZq5yZliw_6Y"
      }
    },
    {
      "cell_type": "code",
      "source": [
        "#argumen default\n",
        "def angka2(a, b, c, d=4):\n",
        "  print(a, b, c, d)\n",
        "\n",
        "angka2(1, 2, 3, 4)\n",
        "angka2(1, b=2, c=3, d=100)\n",
        "\n",
        "#argumen default harus ditelakkan terakhir"
      ],
      "metadata": {
        "colab": {
          "base_uri": "https://localhost:8080/"
        },
        "id": "GLPGUwo4wO6Z",
        "outputId": "d92a7925-1895-49ad-cadf-968b2b0ff0d2"
      },
      "execution_count": 5,
      "outputs": [
        {
          "output_type": "stream",
          "name": "stdout",
          "text": [
            "1 2 3 4\n",
            "1 2 3 100\n"
          ]
        }
      ]
    },
    {
      "cell_type": "markdown",
      "source": [
        "#Praktik Membuat Fungsi"
      ],
      "metadata": {
        "id": "0nH1Kcu7x1Gf"
      }
    },
    {
      "cell_type": "code",
      "source": [
        "x = 1\n",
        "y = 2\n",
        "x*y"
      ],
      "metadata": {
        "colab": {
          "base_uri": "https://localhost:8080/"
        },
        "id": "e_tN764dxy6A",
        "outputId": "ea037722-cdb0-4ec0-8cbd-3f5253a65d63"
      },
      "execution_count": 6,
      "outputs": [
        {
          "output_type": "execute_result",
          "data": {
            "text/plain": [
              "2"
            ]
          },
          "metadata": {},
          "execution_count": 6
        }
      ]
    },
    {
      "cell_type": "code",
      "source": [
        "def penjumlahan(x,y):\n",
        "  a=x+y\n",
        "  return a\n",
        "\n",
        "penjumlahan(1, 2)"
      ],
      "metadata": {
        "colab": {
          "base_uri": "https://localhost:8080/"
        },
        "id": "jLxkOrGlx6nu",
        "outputId": "3f0f0d1e-a617-4725-d21a-5c68c68b7a02"
      },
      "execution_count": 8,
      "outputs": [
        {
          "output_type": "execute_result",
          "data": {
            "text/plain": [
              "3"
            ]
          },
          "metadata": {},
          "execution_count": 8
        }
      ]
    },
    {
      "cell_type": "markdown",
      "source": [
        "#Penjumlahan yang memungkinkan untuk tiga bilangan"
      ],
      "metadata": {
        "id": "nqWKm9wgyg8v"
      }
    },
    {
      "cell_type": "code",
      "source": [
        "def penjumlahan(X,y,z=None):\n",
        "  if (z==None):\n",
        "    return x+y\n",
        "  else:\n",
        "    return x+y+z\n",
        "\n",
        "print(penjumlahan(1, 2))\n",
        "print(penjumlahan(1, 2, 3))"
      ],
      "metadata": {
        "colab": {
          "base_uri": "https://localhost:8080/"
        },
        "id": "sxocMOAOyktA",
        "outputId": "56da299d-2728-4db1-b8a0-8f7a45734ceb"
      },
      "execution_count": 9,
      "outputs": [
        {
          "output_type": "stream",
          "name": "stdout",
          "text": [
            "3\n",
            "6\n"
          ]
        }
      ]
    },
    {
      "cell_type": "markdown",
      "source": [
        "#menyimpan hasil fungsi dalam variabel"
      ],
      "metadata": {
        "id": "DJAMovS8yz5I"
      }
    },
    {
      "cell_type": "code",
      "source": [
        "def penjumlahan(x,y):\n",
        "  return x+y\n",
        "\n",
        "a = penjumlahan\n",
        "a(1, 2)"
      ],
      "metadata": {
        "colab": {
          "base_uri": "https://localhost:8080/"
        },
        "id": "f0LUfsXMy5Z_",
        "outputId": "1559ee4c-05f4-47ee-eff5-0423bb483d36"
      },
      "execution_count": 11,
      "outputs": [
        {
          "output_type": "execute_result",
          "data": {
            "text/plain": [
              "3"
            ]
          },
          "metadata": {},
          "execution_count": 11
        }
      ]
    },
    {
      "cell_type": "markdown",
      "source": [
        "#Latihan 1"
      ],
      "metadata": {
        "id": "jMDBCJA0zDcW"
      }
    },
    {
      "cell_type": "code",
      "source": [
        "import math\n",
        "\n",
        "def pythagoras(panjang_tinggi, panjang_alas):\n",
        "    panjang_miring = math.sqrt(panjang_tinggi*2 + panjang_alas*2)\n",
        "    return panjang_miring\n",
        "\n",
        "# Contoh penggunaan fungsi pythagoras\n",
        "tinggi = 3\n",
        "alas = 4\n",
        "sisi_miring = pythagoras(tinggi, alas)\n",
        "print(\"Panjang sisi miring segitiga adalah:\", sisi_miring)"
      ],
      "metadata": {
        "colab": {
          "base_uri": "https://localhost:8080/"
        },
        "id": "_iZjcznNzFSW",
        "outputId": "283dc64d-d256-4fa9-ede4-9726a0d4200b"
      },
      "execution_count": 12,
      "outputs": [
        {
          "output_type": "stream",
          "name": "stdout",
          "text": [
            "Panjang sisi miring segitiga adalah: 3.7416573867739413\n"
          ]
        }
      ]
    },
    {
      "cell_type": "markdown",
      "source": [
        "#Latihan 2"
      ],
      "metadata": {
        "id": "GqFVAnG8zFj2"
      }
    },
    {
      "cell_type": "code",
      "source": [
        "def luas_permukaan_balok(panjang, lebar, tinggi):\n",
        "    luas_permukaan = 2 * (panjang * lebar + panjang * tinggi + lebar * tinggi)\n",
        "    return luas_permukaan\n",
        "\n",
        "# Contoh penggunaan fungsi luas_permukaan_balok\n",
        "panjang = 5\n",
        "lebar = 3\n",
        "tinggi = 4\n",
        "hasil_luas_permukaan = luas_permukaan_balok(panjang, lebar, tinggi)\n",
        "print(\"Luas permukaan balok adalah:\", hasil_luas_permukaan)"
      ],
      "metadata": {
        "colab": {
          "base_uri": "https://localhost:8080/"
        },
        "id": "VcRLMcgKzQh-",
        "outputId": "53dc000f-e8bf-4856-c6f3-13c03ceedc04"
      },
      "execution_count": 13,
      "outputs": [
        {
          "output_type": "stream",
          "name": "stdout",
          "text": [
            "Luas permukaan balok adalah: 94\n"
          ]
        }
      ]
    }
  ]
}