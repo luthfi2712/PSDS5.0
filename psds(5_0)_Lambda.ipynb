{
  "nbformat": 4,
  "nbformat_minor": 0,
  "metadata": {
    "colab": {
      "provenance": []
    },
    "kernelspec": {
      "name": "python3",
      "display_name": "Python 3"
    },
    "language_info": {
      "name": "python"
    }
  },
  "cells": [
    {
      "cell_type": "markdown",
      "source": [
        "#Lambda"
      ],
      "metadata": {
        "id": "BP4j3X1n0CyH"
      }
    },
    {
      "cell_type": "markdown",
      "source": [
        "Fungsi Lambda adalah fungsi anonim one line yang didefinisika tanpa nama. Fungsi lambda dapat mengambil sejumlah arguments, tetapi hanya dapat memiliki satu expression. Sementara fungsi normal didefinisikan menggunakan kata kunci def, dalam Python fungsi anonim didefinisikan menggunakan kata kunci lambda.\n",
        "\n",
        "Fungsi Lambda digunakan ketika fungsi sederhana hanya digunakan sekali atau untuk waktu yang singkat dalam kode kita. penggunaannya yang paling umum adalah sebagai argumen untuk fungsi tingkat tinggi (fungsi yang menggunakan fungsi lain sebagai argument).\n",
        "\n",
        "Lambda expression di python adalah sebuah ekspressi untuk membuat fungsi.\n",
        "\n",
        "Lambda sendiri berasal dari teori kalkulus, yakni Lambda Calculus yang dikenalkan oleh Alonzo Chruch ditahun 1930.\n",
        "\n",
        "Berkat lambda, kita bisa membuat fungsi tanpa nama atau dikenal juga dengan anonuymous function.\n",
        "\n",
        "![image.png](data:image/png;base64,iVBORw0KGgoAAAANSUhEUgAAAZAAAADKCAYAAACL3RbpAAAAAXNSR0IArs4c6QAAAARnQU1BAACxjwv8YQUAAAAJcEhZcwAADsMAAA7DAcdvqGQAAEjmSURBVHhe7b0JlFzndd95a+uuqt73RjfQWImN4C6KFCVql6zFsi1FShxHtmTZY89k4oxmOTNnkpEtOSfx8Thzxo41diIrzqbYM2NnxMiSbCnaSZEiCQIkse9LN3rf19pr7u9WFVBoNkCiutHobtwfTxFdr976ve/d/733W14gr4jjOI7j3CKB05f6XEAcx3GcN0y0KiJbOtslcOzcxXwgECgudhzHcZylIWGVyWTt3wf27JTA1MxsPhIOF392HMdxnKXJZLMyNDYhcwuJgoAkU6l8VSRS/NlxHMdxliadyUjf8KhMz8yZgASLyx3HcRznlnABcRzHcSrCBcRxHMepCBcQx3EcpyJcQBzHcZyKcAFxHMdxKsIFxHEcx6kIFxDHcRynIlxAHMdxnIpwAXEcx3EqwgXEcRzHqQgXEMdxHKciXEAcx3GcinABcRzHcSrCBcRxHMepCBcQx3EcpyJcQBzHcZyKcAFxHMdxKsIFxHEcx6kIFxDHcRynIlxAHMdxnIpwAXEcx3EqwgXEcRzHqQgXEMdxHKciXEAcx3GcinABcRzHcSrCBcRxHMepCBcQx3EcpyJcQBzHcZyKcAFxHMdxKsIFxHEcx6kIFxDHcRynIlxAHMdxnIpwAXEcx3EqwgXEcRzHqQgXEMdxHKciXEAcx3GcinABcRzHcSrCBcRxHMepCBcQZ12Qz+evfhzHWRu4gDhrHkQjlU7L+NS0ZDIZFxHHWSOsmoBks1n7lB7+bC6nxuDa96XI6TppNRhvBPaTTKVfd59rCa7v9c6X3xLJtJXX3Ujh+lPy3CvH5dvPHpKfvHrC7rPjOHeeVROQwdFxOX9l0EQEo3nucr+cuthrRvRGjE/NyIkLl4vfbg6Ghv0NjU8Ul6ws7H9uISFnL19ZMQM2OTMrJ85fkoyWyY3I6XFfOXVWZufmi0vuLij3K8OjWmdy8uG3v1mm5xZkeHzSlvOh/vAvZViqS3zPZnMWtZjTossoR0R48XYsL30vX4bjYr/ZHgv75HeWl0Sf7xyXv1lGveC4fHecu4FVE5ApNYCT07P6kGXk5MXLcr5vQFqbGiQYvPEpzCcSMjYxXfx2c3hkxyandf+pwoLbwJQa/KNnL5phWgmILEb1nHO5mxgcNUbDE1NqqO7OCAQDfal/SHb2bJK6mrhs6+pQZ2TM7gGCfq53QEa1fF44csJSXDA7v6Cie06efumIvKz/JpJJ+439mDCo4e8bGrX6SJ25oI4N95VtJmfm5ILu88eHj8rFosODIMxo/T1y5oI8+/JxjYKO6/Yjti4OQL8K3LMaIbHNoeOnZSGRdBFx7gpCn/vc5z4fCoWKX28fw2OTMqEP7Pj0jD24D+7dKW3NjRIIBMwzHFMjcPpin/QODqvRyJgQnLl0RUYmJqW5oV6qq8IWkZzUiKRvcMS8w9pYTAUoYPvngT3X2y9tTY0Sj0XVME/Zb8FAUKOScUmnsxKtrlIDklUPdkKqIhG5PDBs2w2pR3tGI4sJ3T/Lq6sitk88ygE1VkMaPYXDIaGcqqsj0tnSfFX4MEaIwIIaqXg0ast6B0akSvcxMDKqy1MWaRAdYeiqwmE7D/7mfPt1/411NVKj53xFjVokEpKwHgfjOKFlFdN9Ui7bujtMJdmO7UM3Ed6NxNTsvN2bzpYmyWhZp1QAevX+d7Y2S0rvz9NqtEe1jnS2tmh9arB7dPjkWUlo/aHMLuu63NNJLctZjV469N7B0bPnbXlE7+uPDr5iabJQKCintc4R4fSoUJ1XIamNx0S0ir1y+ryJT3dHq0UZ1EHO4aTe11N6f7ramqWns93q3bSeM84R+3OcjQT2blqdKWwj9X/VajiG+vSlPhkam5AH9uy0BwzxgDF96MxT1Iceg39QvbiZ2QX15FIWscyrR4fhfPHoKfPWAyoMeIPzamSvosYVIWKXV4ZH7KFGNDK5rJy+0GfRDPDvUd0WY0BE8ePDx+TYuYt63ICJG39zvFQ6Y8fgOwKDUcCT5Txy+WvRAIJ0qX9Qf58rLhE5dOK0HQfBfPHYKfNsg8GQzOr5cp38llQPGk+V48wvJC0FcvJCry4vtPlgxLgGQCzxxM/19Zvne9OIZQNR8vwR4Ff1XjyvUQZlNKpR6ZR6/wEVUX5vqKuVvdu3mIBTJ6b0XuzZ1iNbOtpMjHEMZucTJuoIL/sloqP2NdbWWD3cvnmT3Ltrm6UKG1TQ927bIi1N9TI4Ni6DI+PmIOzeulmdlqjVHUS8Jh61/Uf0c2DXdhOX+3fvNKfgdkbCjrNWWDUBweiRggirV8ZDX94ofPZyv7Q01stj9+2VA/dsFexzY33BKGztapctnW3Sq4Zzk3p5jx7YI/u29+hW+auiUKDQiH764hX1Li9Jd3uLHi8mOTUUYyoMGBnAUCd0PSIIjolB2r9jqzy0d5e8WfdNL58hNRoXVRSIeN764AF58uH7pGdTu6XJMPjlkOIgL4/xwjDxQYAwTg1qnIZGJ2R7d6c8vP8eeezAXhO/QRXRrrYW2bujR7Zu6pBdPd0mEMl0SmLF6CetAoM4wfzCgrx07Ix53qxbFQnb8o0OZTk9P6/1oEc++LZH5QNvfVQ+9OSbZf+urSYqlHG91qldW7os8kAIKPtoVZXejyoTDZwWjHme+qb7YyPuIakr/kZUiFhbGuos2ujQSIe/2VeN3lMiE441MDyuzsBpi0QQoft375BqjWCiuv32zZ0WybBNPFqtdShnou84G51VERAMQVZVYVdPlwrEdjl+/rI1Rqf1QSYkIhJob260dfvV26MhHAOPsUV4MACIA+kH9jWi3vnA6Lh5oOUQwVwaGLKHGQ/RDLr+h5EPF9edVWOc1u/6rOt6YRMG0l4cr5C+qrLIgPTWnu2bLbVUgv0thiVcA9vz+4xGKuyfSIr9b1Kh4IOxI6VRp0aK9BS7wuAQzVj5qNCxTUA/GB9EqXQ8cu10QiBlV/Kg7wYQ1YRGoZQZZYm3z6eloV4mtM7ghHB/EOoSMb3v1APqyJGzF4ppTpyFBnUIZmVUl5M6HNFIkgi3FLWSoizUgbB9t3up4sX+m1VQmvRzz9ZuuU/rb7M6HkQ11oCux6zRYwB/E7FwvneLyDt3N6uXwlIhINTf3N4mD++7x3phnbncZwIRVuOQTKY1MlmwNg6EJaTiwfpECxhUDCseOtELaaCl2gDwPN/15gdVEBrk0PGzcrZ3QA13wDxLctOIEA2jNKhi9KG+Nq4Pe6ENCI+fdWh3KH3HwGAo+JdzLWyHHBTgPKojVZbCYv2j5y6a12qNtSoOeKQYPygYpYQZNXbBtlw3+6SNB5GdU4GbVcOFkZvTddkGcX3Hm+43QX3m8FEzfneDiFDelHStRpKIbYkGvWdcP+WGcS+1WUGN3utWFYsjZy+aKGP0KX+iWK1C8vTLRy0CfETrIKlT9tNYV6frROxYdSpGJUEgUiFSJDVFGwcN7S8ePan35oqlIAHxqotfczKIWolIaOtynI1OQL37PJ737YSHlHYAHuT9O7faMoz480dOyZMP3StDahBPalTCep2tTeZx005CioA2hPvV68MjP37+EkpkDaZ4mXu2bb7aKEqU8b0XDsuDe3dJc32djOn+Xzl13tJiNEa/pIISj1VbJMLDz/55yGncfsuD95pnS7sDDbb37douU7Ozus1pFZgayWZysq1bjYJ6laSRHn9gn60PGLH+4TE5dPKsnm9YRYOledmzdbNFQf3D4xp1bbO/ibRo4H3TvXvMsyVf//Sho5beIm1y6MRZ6zQA0epqE5C3P3Kf9e55uwoIAknvNQwfqTyEdyNjbT8qxEQGpfIGxJz7HQqGTKT5rVxgTPBVPPjtuVdOmHiQ5mIbfit1GuFvytSW6THYh0Uk+hvHLF/OfU7rPql/bF++Pu1nFoHqdll1IlhOB47yc7obMcdP/62kHChLyrx0L5y1AY5x3/CoTBdt9KoJCB46KSfC+9IDSSNz4bvIpP6Ox0mPJBqbMbAYBtYpePEhy0XrrszrI80Ui1aZoQUq67gaVjxIhIF9Tc/N2X44HuLAw96k+6dhvko9fowHaQyiENYhciBdVlsT56Tt2HQJpXxok+E8iVA4fumh4NpokKUnEB5rc2OdRRWFNFq1LatR4eIhYFsaY+vicUtncT6kQqxBVs+THltESmE1jA11cYvIaLsh6kIU2YYbSJ6f9iSM2EaGsi1RboRKy8uXAXVqTMuTCBZnodRr720PHbB6Ub72jfbtrBy0L7bo80DKcbEI8HxS94kKG7WOl//OfWTM2AV1lkgt0uZJ29Ttuk/WJqYOJ+1pPIfOjbkjAuI4qwGGh7axExrN2ncVCSJBIhD3YlefZzS67mpvka1dHRallUAIyCC8dOy0OnJV8tDenVcjTIQdI/W9F16WrZva7R7S8YUecqxTLvw3Yiln42bgmD778jHrGLGls7241FkKFxBnw0MkSaRHhEl05xHGneGZw8dkU2uTtSORAaADS02Unm6NEomE5XL/kEXS5V36SS8PDI/Z1DWP3b/XOriQBWjVf+nBSeYBUaHDyeRMoXclaV+6wtMe1tpYfzVFiUiRXsaxYMwC0QXZDcZ1kZ4kq9BcX29/02mGHp+lsVzO0iwWEHfLnA0HotFUXyexaLWLxx2Eosd4067ImCpLKV68LIdPnrF0LuOrGBhafo8Qf9r5aLe8PDhq3a1pp6T9Cuhef05/T2cz1qX6haMnbd+kww6fOKtCMGJRB0LzwpGTcra338Th5ZPnrPfjEd2GZaSK6WjDsUhbM7iYc3VuDRcQx3FuC/SAJIOEGGzuaLUxVe957CHZ1tVpopHSaIPODuXQvvj4A/ulZ1OHPHrvbmv3o42xFFXQZskYqdIYnV4Vh7c/cr888dC9Nl7oTO8Va1sk4pnRyOWd+hsdTkhTMfiUCOSBvTvlbQ/fbz0biVoQHASt0AHGuRVcQJx1CUbCHvoN+NSX2gFo3H0jOfy1igUW+qErNQOBn/reM/KNHz0vV4bH7LpueGnFH9gcgUGIaENhGwYPIz60aZH+2qOiQeM30GDPgFF6LzJOiKllGCjKXHJ0fadnHIN6f3zoiDz1nWfkBy++YjNMcLiNV4tWhw0jIBgScpkr8cBZw91N9sVycrXkWO9E2MvxOUfOYSWutxwMF/te69Almh5WqfTGmzKE0mcG4vN9/St+f1cTS0zp+cero9Z1/a0PHZAH9+xUMRm2bvI8O2XZq6vYHMjF5XSdZ248ohVSUKSfSDkVSkmkyXpHFrpM04uRHdK+gsDgZLDN6Yu9Jh7U69aGenlSow8ilp1buiy9hiNCisy96Vtnw5QZXV0v9jF76vIN+oJ6OXQhREQWQ6UnL/vikVOWY2WG16XWWykwIDQSEn6XixU5XnK+K23sj5+7ZFOnrHV46ElLbMQIBOjCzaR165nSWBibY+7MRZv1mFmQYyookVDByJdSU+UQcdAVn4GzpLRIY7104ozNhcaMAHTDL01HREeJEsyzR0qKNjC6vTM5Kc9oWI/FhKzQNzIqx85esud2YGTM1g/q/hEyugw7t8aqzcZ7uyFEPdt7xab7psLdCuVeHhWeQYsnLlyyEHhxpbLR5vowaN2W9uYmM+z0Yy/vybZ4f8uBfT2tITf/lk9/j4Gh8ZC8b6mLZOm4t3JMtjER0g/b/UQfOKZeKfWHr2SfKwmeIfeWadNL72IhD87f/aPj6t1W29ghpi4pTJHTb1EUo/1pWEVkSHFwjczMy2DP8pkBmCKG8T4XrgzYPilXxh1xP9kPRogJNWmIxStmYCnOBWNwOBYzB5DjP3b2og0yxWPmfjAdD5M6MmtvSL+zLwbC0qOoNh617XE8OD7HZT3WiVZHLMVzSqMrvHTqFvcCg8kkoaXr5m7w3DK5J9thnPG4bfbgNUKE8VN6b+gZVa//4gDF9H7t39ljY6/4NNbWvuYZQzgoZ5vCpop91FrUwQwTTFrJ/eE6G+trLAIp3U8Ea1Nri81MwDqME2Nmgs0dbdZIfs+WbhtPwjkwszNz4TFBJtPf0COrfHyXszTcw/LZeFdFQHhQGfxG10ryk+Qx8TA4EbxrRoeX+oHzUDH19vD4lD2ceA94mTzYnDQDEqlw/D2sHgfTfzBinVwmkQG9b5iqgu8YAR5Uug8ypxIVC0PCPhjoB3jyAyPj1ujGbzyM/eqZYDjwTqiAJQPNb1REJuhr0OPs3LzJKji9fajEnBPXR0XmXNgM44SR4Dh4RiUBoPcJRg9Dw3hdfmN7xjGwnHCcqVwoF46PWGFIqOCYdAxRv3pTu7duMSPLeTEPExMI0hWRsJ91COEZ8U6Z8TfXyXlxvtwXDCw9WzhflmFImeCR88GAUTZjU1NWjoV5olbvASuc35wcPHrKyri9pVENa59N+0L5cF1MsMl5MasyQoGHyoSazKiLt6t7MeHFuLIfum0yi24JXljG7ADUIaaMwStlCnkm40RwEIb2pkYbBMu0+vf0dMsPD75qvXjmtU5RpnQVRXQ538uDw9blFHEvjUe5PDRS6E6qv1P+lCUGknnbcEa4r8wqwGzLnD/T/thcb4GgNT4zPxu9l/CauUbaRliX8zqi23Oe2VzWjCfltFbAiPPMYV+4Rrrk8goH6hZlULju19oenhEEgn+pbxh4DH/htQ4RKwO2Y8qZkngA++N37jWDSbEFZg+0LEk379zcZW0ilH1h0sx6swPsi8G9Lh6vzx0REMA7e+n4Gav49PNGKEiXcHMZPcxDh+FlGVN3IzY8dPSkIEzlhT1nevvMoGGMeVB5AIfGeF9InfXIID+K8eehZr0ZFQoqLCNi51S0MBA8fLx8iMrMA81+CX3JsZ5X44lY4QGyjArJ1CpUdqBS8gIje9GQFiRzLjGfF14W62L4mQsLo8Y0KFwbc1pxTDxYXiDF+QAhPQbGepJo2XTocs7/jM0em7ZGR4xUhx6f96LgteIhgZ623sQ5NUZTskNFjHdSHNNyY/r6i2pk6C9PP/kfHHxFy2jYDCnHYf4xypQJKztUkDA6TPXBdjxglD2CsmfbFpnX9Z9/9YRVFqIsynvLJo3IVqGulKCMKRMe8kf277YH3spKH34ElfPHoDPtPRHHw/t2mVhwf/AymR1gc2ebNbZS33jXR3d76zUBUYNBPeH63vrwAVsXjxbjv0u9VeorTsK+HT3mzVKPKJvDJ86oM5GzaXIGRyfMi2WWZAwmZbxjyyZzDAhZ3vGmB6y+cz/f+/jDNkKessSrphsqc3Lt6N4kwVBA+ofGbCAbDybtW3joTMGC6CAezBjNoEieDeoGE4HyrGD23vnoA3adawkM8koY5dJ+Fn9uBM7qC+os9A2P2jNIeTMdEsJxs+2c12exgKxKGwg3jZuHceKBfEgfmh++dMSE4d2PPWQGFm8a48YDTfc6pp9g/ikiD7xD5kTCgPCgYDAx8DyczfrAn6ftQw0/LwyikY51nlSDgDDx8ioeNnKikNeIZXYhaTPm9g6OWoG869EH5S0P7LcHEO8WQ8ToWWYOLjeYeDcHdm2Tnq5OeyFWKYopeUEYKSIQIofamhoVl3596O+xc2EuK4w7EQnzgNEH/vH791mXReo0RgLPt1PF50E9Pl0emWY+pEKAMUHsrlFo5Of4UyokCOkTD96r29xr83hhZPFEp6bnzDjRHZK8L+k3Jpsk+uOtfkRZvN+C83hCz+O+3TtMnDDciBuhP2VJ4yfXxWc1YQQyUQaiS1qSikujJ5BCROwpF6bM36kGHI+Vd3fQAE2d4zfKD4jGiFpIj5Tgryotw56udvNygTrJOhjp0kNCZHHxypBFaZwHXuxOFQnuCMfEy6XMcC7o/UPEiKD1qLEnZca7RughRKSE94yYI1qk2IiovvXsQRXrk3L/7u02Jxqwj1y2cM95bqgfr546L3/9zIs2duEt9++3+8iH+eV8MPA1cObedGCPOUk4XdgTmxHbtWPFWRUBAd6bgNeFgcSYd+sNxTAwky1eHw84YTteJQ/Ijw6+aoYRDxPDzTp4jxh5vDDyqrzHgZGoPOw53Y4UB28LJGJgG8JgIhhSTzy8gBGxQUn6bJK7Jl3DukQ1jFBV38a25wHmU+6x8DdREjaIdTAamCHWw8hgcBAkamqtGvDutlbzljEyXH9dTdSuk/Qa3iXXUoo2OMcdmzvtnH7C61FfPqpRy5AZKfa9GN5zgjHDEJErZo4vyu6ibgOcH2/o48NU5kRFlDfCQu6XKI0+8XjN7Idz7FJjyXeui/PkoePaEGuMd1lRrAqUNfeNDhKUy3MvH7f+/9yHQsqQe1nI+9MWYG0RGkVxngg/xoM3SlI/aB/DEPMWw3LY19lL/ebhY9i5Vowy5UAkNzk7a4J0cWDQyghIqxLN4iiYQ6JlxT08dfGynUupnFiP/XMNRPn8jXeMsScSYTl1GKcEB6DU7oKyUSe5bkSQlCTrNqkIPaxRCOMamNiR+1R6l4lzDcoZx2j31m57506pbYOPs7KsmoAAudyqcETC4YLXhgeNkcAIYPBobCSHj9VkSmy890Y1jHTrw+vjIaISIETsC+Nm3e/0X9oU8KgxIhhcGh1pQ+FBxRhgPFj3Uv+wrjNrI1mpTxh8IqCjaniIdkwg9MOygkC8Fsw558E5sA7rYnwQPgxEyd4jeqUIBm+ZFBZCUoIoAk8fEWGwFJ7TgZ3bzEDcq/+SnqO7Kuf92qp/LZTHyHAeRB6IDufPxZFrxsghEAgtRgk4LsYQYzehApREVHX70+rdE9Hg+VM2GEeijldPn7dzXI1UZzmIBE4DacmfqIduLxlTg8D1MTki10OEcu+urTZambRFU32NpZm4ZlJJlAntI7NzCdmmzgIN2+VQDggq0SGzHtMmgtNCmwRjBnh7JdO4b9eokzpJOSDY9Rph4gCQl3/l9Dk5eb7XpnagoZf7z32OxwrTqHAd1FnuIXUMp4Lv+3dsk5HJSWsAf/nkWf2Xd7YX7jViT+SJY0MUtLWzw14LjRAygrpfBYs6RfqWeshxnGtQHtxb7IqXze1j1dpAaGOgwZyHARHhbxqueGsg7SIYCvLXpHewXqmUCsIIjaCF0amkoXhvA547IoEHTsTBK17ZBzl/5sNhPbxlcv886PT1jqgxOXa+kN8fm5yxfuIci3QCYwlofMYwtDbV675qrCGTNguMAeJTXgEx5kQqtH8gEJwLRopcOO0swDExVFRg2jDYnmkcSEPwqlSOz/kRcSFyvN+iSQ0RkKcnqqDrI5WfVBptMkQDGHxAIOkYQCSDkeP4iCfXjpFE0Lo7WuycOD5CQrniWWO4LvQNmhHjXvA+d4wnjcesg+DRkw2BYr0+PTaGG9HnHlEeqwXlRsREexURFNdK9Mp95ZpoKOd3i2y5Hi2jrWroMaqkTCkv7iGGHlHYRISlIl1+DdRD3gK5XwWbukXPO4u8tOzZP/WEZVY/VWgQeZZR5xApzqdFvzOPEo3YTXouHINjNtDDSMsTx4cokHPG2LMf/uY8Wc710P5CqosZnKltiCP74voQIwQFZ4pzohx4Z3thnTpzkjhfx7ndLG4DWbXJFJl+gDYJjDNeMQbVQnh9QDCkbfogEWVg0HilLN4V6xKec34Yf0J5HmC8cjw1DBupC/aB008jN69Apd0DcWImUH4jLYCRxJvDcBKt8GBjXEhPYHAxUulMoW850RECYoZd/14sIOTCMTYYA9IXiAFOf4cWaL/ujwZVChjwVNmcdAQN0+16TBhQ4z6t18E1IG70EKHHDe/64M15WBEMHuJJo3fJ6AARx4KKJSLFxHTjer0TTEetxqVerxuh4iVICAoGhnKmNxOCRPlR3uTkaWimTDCiRGyIIu/Q4Jy5TtqjaA/AeOP9mqDq9hsJIg4iMASEcnJWj/LUrEcJ6wNsKZ0TfDbeOwQPDSkkHhgeGcSId23z4ii8Vmd1oSGb9B3R5Gqn6O528GZxDEnxed1fHywWEI97VxnaOuj7T4Mw3UQP6of0Sik95awuRIC0gXgKaPXBkTp04oz1cHPWJ/7UrDL07NnV0yXNarSIQvbv6LEuoR7C3xksEix+nNWFzjMT03MSjV6bjsRZX7iArDIYKsL1e3dutd5WjHXx1IlzN0L7ITMm0AXdWZ+4gDiOc0dg4CztH/4WwPWLC4jjOKsOnUmYjof5rJaaD8tZH7iAOI6z6tDzjXFMpK+8A8P6xe/cLYDXRNdDxqDwd3k/dmft4Pdm7cPMDYyNYn47xic56xO/c7cIg/dePHrSRtY7axO6hzIQ0iVk7YKA8AzV1jB3mPeAW6+4gNwijGBnVDvThzhrE97v8czhY8VvzlqEOeOAqVqc9YsLyC3C1PJMh9I7OGzpLGdtQeqKyTJLE0c6axNGoDMVUPkraZ31hwvILUCoTY+RLR2t9lpRm3rbWVMwkzBT1TOZoidG1i5M3En6yucfW9+4gNwiiAhvT8yks/auESY2dNYO9v6XdMZeNOasTYgSGQPC+9C9/WN94wJyixRGksds6nfeU+FprLUDhonRzUSJnltfu9DJgVmgeY5cQNY3LiAVwOhZ3jtxuX/YXrXrrB2mZ+dsmnrukbM2oScjYs97XJz1jQtIhfDSpUl9EOzdHc6agMn57J0z9bUuIGuYMd7hE6vWKNEb0Nc7LiAVwouZ4tVV9jImbwdZG/CaYrxbPFtmPXbWHkQe4zOzwps/fQDh+sfvYIWQu+1qb7W3/6WKbx907iw0nltuPR7z6THWKPZGz4lp6+Tgs1Cvf/wpWwbd7S0yM7dgDbd4Vs6dhdHNzLG00V67u5Hg9dGMAfEpTDYGfgeXQVN9vaVKeC+7y8edZ8IGp0XsPfjO2gMnK5nJ2Fs56SXnPbDWPy4gy4B2EN4s2Ds04hHIGmB8akbq4nGJ+OC0NUsikVThEJ8pYIPgArIMgsGAdLU2y9jktKVPnDsHAj45MydNDbU+An2Nwpip0YlpaairsWlMnPWPC8gyaWlqsMZAGtM9CrlzJNNpmV9ISHNdnadG1ij0VhydmpLm+jrvJbdB8Lu4TKLVVdLe3Cj9w6M+Kv0OQmcGuvESgThrE8bpkGZsa2p0kd8guIAsk4hGH93F7rylKaqd1YXIb3Z+XqJVEany3PqahS7W8wtJaWmsLy5x1jsuIMuE8QbNDXWSTKVtEJuz+iAgTM4Xi0ZN0N27XZtMq8jnJScNtTXFJc56xwVkBaivjVvDYN/QaHGJs5rQ8jQ8NiFNNgLdB6etVaZm5qQ2FrceWC7yGwMXkBWARvTO1mYZUiPGSFtndSECmZieMc/WR6CvTWgf5B3ojepoORsHf9pWAHyp7rYWWUikZHzaJ1dcTRCPXK4wjTsj0N2zXZukMllLM7Y0NhSXOBsBF5AVoq42LvW1MekbHPbuvKsIJY140EW0Nh4rLHTWHIlkUuYTCRWQuuISZyPgArJCMH34ptYWuTw4Yi/McVYHxHp4fMJGoPv04GsT7lEymbZ5yuj27mwcXEBWCCaGa2tusHc9p9Jpj0JWiXwuLyPjU9KqZe8N6GsTnoS5hQV7RqLVPk/ZRsIFZIUg984IW3qYDI1OWl7euf0Q7RGBdLW1SMAnMVmT5LI5GZ2clvoajRJ9nM6GwgVkBanW8Lyns13OXxnw3lirRCKVkum5eelobvIG9DUKqSvuES/68l5yGwu/mytIUA3Yzi1dcmV41EelrxJzCwkzUA21cRWQ4kJnTYEzRUeHxvpaF/kNhgvICtOunnAwEJQRf0fIbYd2JgSkNhaTgHu2axbGSe3b3iOdLc3FJc5GwZ+6FQTvKhQKSmdrk4yMT0om42ms20lpcBqzAFD27t2uTaoiYdnZ0yW1cX9T5EbDBeQ2sGPzJslkMyogmeIS53aQ0vKdnJ6VtqYGbz5fwyDs9JDz9o+Nh9/R28DmjjZ5cO8unxn2NpNOZyyF1Vjvg9Mc507gAnIboCtvfW2N9Xt3bh9JFRB6YdXFY56+cpw7gFs4Z90yNTNrHRbqauLFJY7jrCYuIM66hbfbxaLV9iIpx3FWHxcQZ11CF97ZhQVpqIt746zj3CH8yXPWLa2N9bKlo634zXGc1WZdCwheaDaXl8wSH5avhfkMmROrdE78vZxJFhdf73L3t97Zv3ObbO5sL35znJWH54sJO/PZXOHfu/h5W4pAMpXKV0XWZw45lcnJ6Ymc9M+89qZ21wVkb0tIQsE72zvnxGhGeqfzNk6hpyEg9zTRH76yc+KdFydGs3a9XDH7272M/TmOc3PyuZwkLs9KaiIp0S21UtVyd7+0LJ3JSN/wqEzPzMkDe3aubwGZSOTkd59Lyv978rUjvn9+X1h+623VUh2+szf7808n5T8cTQs2/pfvj8j//HiVhJchIP/4h0n5T6cyGomIfPr+sPyjt1TfcZF0nI0KkUf/fzglk88OStcv7ZHGt25yASkTkHWdwuI2NlSLbKoNyKaagNR6ZxzHcVaYYDQkobqIBCLeZLyYdV0iNZGA/J19Efk/31Mt//zd1fLebXqji785juMsG402Gp/YJF2/uEfiO/197otZ1wISCQVkR1NY3twVlke7QtJVF5TALVwRDWLz6bwMzubk0lRWPzkZ0r9Ztph0Ni+JTF5S+i9/s97wXM7+pmF7dD4nvdM5mUndvKGNn6aThXWHitsvBUs5Fse5zH51m5vs1uB3zmUykZM+3eaiXlPvdFbG9Nw4zuttf0vozvLZhOQTw5Kfv6z/9ks+Pa2Lc8UVloBtcpnCdvpv4XtK8skRyS9ckXxqXBctTkdy3tnCbwu9uq4eL5fWxXoc9lHcz2Ks8TOb1PMaKp7fgJ7flG62fie45JqyqaykxhOSHJqX9ERCcmm9nkWXT2Mvy3O6Ln8vRS5T+D2XoV4V1rHtWKbb8nc2mZHU6IKkRhYku6D3bYlyLkFbwdVtKXvdPjOXtm3Ter7ZZGH5YsrXSw7PS2Y2bctuBmmlzEzK1k+OaDlMFsrh5uenx9F9l47DNjc8J12WSxeuJ6/lU90Zl9r9zRJuemNvU8wmtNzG9B7ZcZLXlXE5dpyy8ua60lPJwnb6L9/XOuu6DaQceiX9/osp+dLLaf379dtA+tSw/qg3K0dGsjIyn5e5lDkbGtWQEgvKO3pC8nh3SOK6PTnP715My48uZ6WzJiDRsMizV7Ki+qVRT9jSaE+dzsi07mNzfVD+/sMR6dJ90DZR3gbyiwfC8m7d79fPZuTKbF5ieqwH20Pys7vDtn4pt4oIIGbfOJeWV4dV0NRGbmsIygd3hOQ/n8noJ/uaNhDE5pheC9d0fjInEwsqdrpOWAWV89vdHJKf0u1pxF9um0kOozz5girhK2qYB3XBvBaeFkpVmwTq75dAy7skUN2q13O9muezKclNPCsy/owEWt8tUt0u+ZHvSH7mRGEf4QYJND0uwfYP6e7i9oCZKI1+V4/3E1XUMZFQXAIND0qg7j5ddlC3qZdg589IIFJfPArH0Ydv5rjkx74n+bnznLCenxZ2VZME4jsl0P4BCUa7Czd8BeB9FwMDAzIyMmL3cM+ePRKLxYq/rgwY8IXzUzJ9eFQNzIIKaVaC8ZDEttZL/cNtUt1dI8FQobwxYJPPDUqyb1bqHmmTmt1NEqQiKJRpRivqxI/6JTuXkfrH2iW+rd7OOzEwKxPPDEhIH4JYT63MvDomyX69L1ofI+0xqX+o1QxpQPe1uB0gMTAnEz+8oucUluZ3dtu2c8fGJTOVstRPdVeNNL29S6Kbamx9DCZGcubVUZk/NSUZNbQsi6iRju9tsmOF66quO45to2I0dWhEFs7pNrpv7mEwGpSq9rjUPdAqNfc0SDByLQ9Rut6Zl0dl7uSEbcMy0lKRpqheT5PU3tcioWqtv0UQ18kfD8rCxWndQXGhPjONb+mU+C6to4uuvQSCO39mSqZeGpb0qDpJ6ohyj2h8b3i0Q6o3xa/eI0irCI5+46KeS1jqHmzVcpiUudOTkp1XexHTZfe3SMOb2iVcu3beI7+4DST0uc997vPM17/e0bolP+nPykuD6jno3wfagvLOnvANG6x/qGLwByo4z/Xn5cJU3gx630zh76MjOXl5KGdGfUdjQQi+rob73x7JyPHRnDzfn5PjY3k5N5mXk2NZPW5OXhjMS69uf0J/b44G5AEVhrAqzA/0OIgADTYIzzNq4L9/WaMKXfe8bv+KHkedELm/Q41BUeyIZr54MCV/fjwrpycK58V+L+q5TSY0Ypor1OsHO4Ly5Jaw1u2ART5/fjwt//qVjJzQc2P//XpNnNNZ3QfHGdDvlEujnt+NHoI3Qn7iBclf+lcic2f1GzMOa/3JqqGZPycy+bwa8AUJ1u41EbiOvBqJ0W9Lvu8rGj42q4H/kYgaeXUnC0ZeIwx1rSXY/FY1OnW2z/zwN/RYf1T4LahKyHozr0p+9pTIxNNao8cl2PJOPVZt8SB6mOkjkrv4RRWqH/JNt1PxIGpJ6D5mjqj47Fch2bZiAsKsy3/yJ38iX/jCF+Qb3/iGvO9975OWlpbir8sHD3X64LAMP3VB5s9OWdsf9y8zkVKjOCnJwXmJb683w89yLitxZVaL9oqkRxIS3VorkfqC94w3PPnMoIz+zSUt45A0qMCUtkuo4Ix87ZIkL8+o8ZyRhP6L4cypeM2fnpKELouqUEWaoxrpX192bDv81QuSUnELaHVn/5lx9b7Vk8eA83u0u1aimwv3Ka2/jX7rkoz/lz772/antyrROytzJybsO+sGq67ZppyKJseY+MEVu/aA/sa1ZjWymD87bSKJgb9uG/Wixn/QJyNfv6RloeeG+KkRz85k7PqysxmpUREJ8XAWyaszhghQtmmNJObPTUvi/LTEVZyiPXVWVouxVwuoSA3/p3OFe1S8Dxxz7vi4lUtsW93VsoaslsvAfzxtQp+ZSMrskTGt3hkt76yV9cKFaQk3qhOs5bC4vO8UXCdvl0ym0tLZ2nz3CggicWgwKwdaA/K+7WF5//aQPN6FERfpn8uL1hs13DmLROqrgyoaWXlxICd6f+WJ7qAKRFDOqWHW+27bfEyjiHH1+nGKOOR7NDKJR64JCAZ/UA040dHjuj2RzhQ2U8Xj3EROtjXSxVcrtn7/1nk1SCoERB5EOQ+1B2R3S9AiiwtTWvF0Z1xVuYCQdiMqIpp6p57z+/X479kWkv2twUKaTkXn8nReGqIib9pU2KZS8plJFQB9UDf/Pf38kgS7/44EOz6shvmA5OcvqOH+sarlJgmqob6OfFqN+8t64S/pkzVhiwJbflmCWz6t2/+sRh+PaVTSIYGa7fqg10hOI4w8QqClF9j+GxLa+T9IcNPPaSShxhnxSQ3o+nqctvddExCt4NlLX1Jx0Uin7YMS3P2ben6/UIhSmp8Uie8w8QhUNa+YgBCBPPXUU/K1r31NxsfH5TOf+Yx0dHQUf10eeN2zJ8dl+C/PqXHJSvvP7pDOj++UlvduUQ+12YzqzOERewBKxhNjU9WhEZwa72n11nNqJGPmmQfVOI/L0F+elUhLVDp+bsd1BpF01fShUfOeqzTi2PQLu6XtI9uk4c16LVrniChSauxr9zSaISzHtlWRwyCTtsHjbv+ZbdL87s0aTbSZeFS1xqwbLKmZEfW8EYKYRj+dP3+Prrtdmt62ScWuzkRk9si4VoWYRi68abJwfvNnJmXkq+ctGur8hXuk46M7pOnJbju/2PY6DYB1//pbKdoCEzYVXg077Ho6PrZDmt/RLY2Pd2hk1mjlQIqqXHR4gDmvxsc6pOGxTot6kv1zFiUsJSBENMmBeRn88zOWImv78Hbp/Nvco81Ss6/JxG5WxYX90o5SOlZWH3AiQQQ2FI/YuVEO9Vp2POREJPlErhAhlQncnWSxgFyfY7iLwLD+9tur5ffeE5P/8bFq+bUHq+S/fqhK/qc3V8mupkIFweATJZSDWHzqvir5dV23Vp06M/BqyP/+w1Xy5q5Ccc6ps6tR6GvgmftvH6mSf/rOqPwTPTZCAjO6LpEJbSzTauxfGMiaeHAWD+u+//l7ovI774jKb+i2N6pHROAf2hmWP3x/VD7/ZLX8xqNV8isPVMlnH62WX7ovIvUaBSNeL2i0hMAuh0DdvQXxaHhYDTHvIlejpQY/0PCQSPsH9YlSVZ1SobghegI59ToRDl0/WKMGPaZCoPsLdn7EohOEQCae04hkWKT13RJsLYhEIKQGouUdtmxJVKTUJdeTVE+z6c0SiKogBTGqEQnGt+rxPqACtbO48soRj8elublZmprUm11BhwwBmXp+SI1MWo1ZhxrMLgk3VJtIVHfUSMu7NptY4L3iLZcIVocsZURKhzTR1AtDFqmM/s1lyatXjgDFNGpZbAwhoA5T05ObTJBCGqUQvXBcM+5EJ5c0MrkBeY2WSL20fWirGeEqjVaIJBof77TjASk4hA0RatX1ahAkPV8MKykyhATxIxLJ4mEVQdiIaKKb6yziIlUV0AcwXBuROjWydQda7LrLyc6kLD1W1RqVuApGKKYRgJYdBjt+T6OliPi7HMokrOcWUe8/0lhVMPhLlFMJBGT+9KT6MxoJ7mjQ8++09FgwrA7pllpp/UCPRuRhu57UsEbqiyCd1vBYu10750caj+7CIb3PtIeQalyr3LUCskc9+vvaQ+b9f/VUWr70ckr+r0Mp+erpjMwWX2eOER/VqKIcUpit8aA0xwJCrz4EhJRVNBywf0GfIUkSJiyCY35wZ0jadPt9rSEz+KVqSWosqceb1wjmrEYagFj8/L6I9NQHpaM2KO/VSGl3UdwWU6Mn80hnSFr0HJ7ty8pXjqblj/V6/uXhlDyvkQmiwRkxCJEXJWqdr5hAsMo+NGbn5vskN/2q5KYOS570EKksa/QeK659A+r2FQRIjftV9CHF0LMsn1UjNX+RhbreQyZQJQIh9Rjr79M/lsgN0+6iIiM0zk9qpJMaL/5QgHYZa5u5iUG4VRCMj3/84/LHf/zH8sUvflG6urqKvywfUhoLZ6bMMGKYiSLKCauBi6lXTBoHgSiBEaxqiUnL+7aq4FTJ6F9dlEGNPPDiG57otPaC67zuMkhRWfqoLF/PPhCErHpHeOM3AlEg+sBjLokT/2K0S5EBKSGMOimd2Ja6647DekQT7Ifr4XglMLR48YkrMxal4A2XsGPow1g6ZgnSdKS6EFfaTWi0LlHYRuuD7nNZ6LNOyg+x55rK22541XKVRjhEYEQaS5VdSNe3yKasHIiMQnq9iAeivFa5vjbeJdAj6TsXMvJr30zIP/hWQr7wTEp+7/m0/MGLaUsdXZwuWFcaqokKyqFaUN9KdY56YumgsmVprUhl9dTgp+7agDRUF1biWSofu0LqieMt6LmR2gKiBkbUl54JRKtNt1kK2k0Qi0/+1bz8Lz9Iyu88l5L/44W0/IuDaXnqTFbUvhhEIYVrqlxBcqlJyQ7+lWRf+YzkXvm05I5+VnIn/lfJnfzHku/9NyYgFoXcEL2mmt1aYIW8/JJkZiVP2wjtKEQkVoIl9O9Ig/62xIukAmq42j6g6tstMvSUZF/+lGSOfFayF78kubHnrFeWPunFlVcGJnN84IEH5BOf+IR87GMfk4aGlevuSfsAXjiGdOQ/X5BLf/DKdZ++Lx2zxuG83lN6Ji0mfk+9efm0o8weHlUvvMk8YozTjcB4L05R0RCOZ0yTV3oqJbkb9BCi8beq88YdCOitlRlfsNQMRrfvy8dfc02D//dZNbZ63XrNREsl4nuaJLarXpK9c9L7R0flwu8ekv4/OyUTzw5IQg0z17gYOhfUq1gSwV350xNy/ncOypV/d0LGn74i85emLQVIBLEcEI7MREKrXlDCKr5XH9giCGekudraY9IqIothOzoflBOoKgpbyfNbo2xYAbmRiaSyXJzKWW+tl4ZyMqn3k7QUbSHv3qpe/ragtJXV/6XqFtXjOnOmX8q/L3Vs1qFN5Kpnov/SDbnUYYS6z6PCc1nalt9Yp7QN9YlIZ/FN45poN/nKsbToM2HtNG1qd9/SHZT36/U82hmUcnuxHPNpPZyG/0byF76IJVFVe4cEuj9pbRmBnl/RA6vxttJYqvRL4PnVFgrlhnCWfLha/ZSva3+zbAkjqL8FWp6QwPZ/KIGOn1ZrqAVBb7ErX5Hc6d+S7Pnfl/z8OS2z5ZTC9Zgnu+izUpDKoSjxrjHa1u2z7EODL20LpGfCeByL0XOxaACPRfeDoSpEAjc+RzNci362ayLcBqLrJYtPr506XuZJLwVpqBJ0k118TRybFFVsq3rlakhLhGrD0vG3dkrLT22xnk00UE89OySD//G0XPk3x2X68Ehh+7KHlvRWy0/1SNvPbLMUGh799MERE6krX0ZI+q2H27LQw3GfKKIAHWGKxXQVFlEmnNcihxSWqjP2fdGytcjN7/Q6oxQBAF1hyyLcq1D36e56cixnfyP8n300Iv/7u6Py22+PymffVK1e/8oXC44EPaWYABGoS6S5SFsBbRicP6JRek75LaHrFLYoiMs8+yh+L8Ez86PejAwXo2Ma+P/ZO6vln74jKr/1ZFQ+sY8G/cJvyyY5KPnR/6InsyCBbf+NhHZ8VoI9vyyhrr8twc6PSrDxUa34r1d+eoHlqauloNttUA0ivadyRDOlUiiSU+W35a8lqJFJsPVdEtzx30to7z+T4J7PS6Dz5wrHHPue5PqfKmy/DiBtQ3GSVqIBvfuX9r728+m90vXJ3ZZDX0xqaF4m1EjiaUc0Mpg7PmHdYJfy1ksgVAjTdWi9LaVSrCfTDW4x0dhNzZ4aResyqyvRhXbTL+5Z+pp+eZ+0f3SHtSWUYN90OW776W3Spde8+dcOWCM/bTML52asfYdG7PIzxxDTfbb1/T3S9Sm2uVfaP75TYjvrrT1i7Fu91q6znCjEbH2VXpM+mEQZrwFbpA8pwlwuiFe5aYGtbVbeUt4huAd1anNK92I8kZcZ9QoWVwzsN+1Ypeejp17knVvD1gOqsyaolS8vc0sMJFwJLjNQcU6PoOeU1If0wmTe2lmgq67QphJT9WiNFa6CjMTpcRU6Hl7dZmC20BV3MYjMpNpSfmHLRzTieKI7LD0NQWmNB2RBvR7GuawEeXpPJfoKYyqan1Q7X+yVwiefkhxdeVfCu2dMSKRVb9iC5BK9ustrXqINRkz0W5rrRljDfkT3UXuPRiRPSnDbP5DA5k9rja+W/PRhO9eVgnszPT0tg4ODMjQ0JOn0tbz9cqEbJ9NoMLaDp5XxDjSav+ajy2n4LcE5ZWZTqpe91u7BaOpNf3e3FmtERv/6snU1pUvvUtC9NDOTvu7ZsQGMowlVskBhQF25t3YLUFfoRRWMkd/PSqgmbN+XvKYWXW9Rmw/bI0D0uKLxnc4A3b+yX9ePWZdlBlguhm1o77FIbWeDND/ZpaK7z3phEcUkhxYKhqFStCwi7VErT/ZXPgCQMkQ8UnputGNZGnADsWEEBDCYFp0rRBhPX87K+YmsGurCiGwG21Htec5K1X9KDS/db3mWGO399GU10mrkbwdnVDC+fo7ZeXNyeDArf31eDWHxt/tagxaF1KjTvbu5cHYJdfj+4mTaxpqQdvumbru4VxjwjJU6n/Ar1zOr14LwXJjMyXN9OdGvKwNCQbWht1Om4LnZR8O9/IIadXpOLZ3fuCUCIfU86QZMO8n4jyWfHNLjFByCfGpE8hPP61qv9aIZaW4jzkm1Fc/N7jZjQej+S9rL3OdSDVg+jAP58pe/LB/5yEfkox/9qFy6dKn4y/LB6NTsaVIdzcjMoVHJLBRGal8rdzVQGhmURjyX4G9SOtMvjlg7QMv7tliEQrdaeiaNf7fPevgUyud62FfiggqM7rd0nPRY0sYlhGojNhbEnIYKie2ot4iK/dGgzrlevR790DjO6HQEkOsrkdVrR0ipa1fRWxmqj0ggqn/oKS1uEGe0eUa9J/bJvg1dhTaeALlrtinbpPw8yj83+g1IL8a3FdJtXBPtVvY8sI6KycLlWevmS4eH6uJAyo0CT9KGgHpzrxrhLfWF2tCvzuk/+iGNygn51NcX5L/7dkL6Z3LWi2qvrtdU9PIH5kR+97mU/P6LSfnCM0n58qsp0Xp72/jDg2n59b9JyGe/k7RxJdCitvJdPWGJakWsqwrIW7cURrfD8dG8/FffTMiv/3VCvqjb5qnwhZ+uElcFOdAWutrO8e0LWfknP07Jv9Br+s2nk/LdSzdOV9wqgSqNCmq20xdTcn3/XvKzp4UR4rnJFyR38Y9E5s8X11wm+lQHmt9WEJGJZyV34Q8lN/Z9/Tytx/lXhbEkwWvpjatk5iR76cuS7f1TyTHgkW7AyRE9vxclP/BVtSjzEqh/iAspbrB8MBR9fX1y8OBBOXTokCwsqEe7QmCcGt/aaeMbJn48UBxMOGlGnhTMzNExGf7aBRn4f85Yz6YSC+enZfSbl6xRu/WnttoIcLz5prd0Sv2b2mX22ISMf+/K0vl/jVjHvn9FxWe40Hvp4rSMfOOC9XyquafxanfcSqnWSKDxbZssrTb0F2dl8ulCIzgj0xO9MzL1kyHp/8opGxVf7s1Pvzwqg7r+1MERSahBLg1QHP92r6T6563nEuVUDqP3B/7sjM2mm7gyZyPRLa33/T5Z0MjMxoFotFPebsMUMVxz4TNjU6AQodCNmO+l3xjHAfS0iu9rst5wpXJHGCm7mVf0/nz1vEbMGal7sO0157fe2TADCYFG6nYVhisqFKQiSVPhxTMmA4/pZ3aFrScTI7GpLqSQSBMxCp0BiH3670PthUF+dJbAq39yS8i6+x4cyMrLwznRyFv+1p6ITUPyFyfUS9Jj3N8WlMe6w3JoqDBokBTU+7eHpa0mKM/0ZW0UOW0bDPBjqhP2U+ow06o28DP3R+Sn74nYOnhD7fGARQ90Meb5piejOl/yNj2XzXUBS4PRTsL4k7duLgwKZIoV0naMWqe+nxrPy0G9JsSG9Whvoa2ksTogn9gXua5B/5YIxnHfeDI1MnhO8mPflfzQX4mMfleXxyTQ+l4N5Y6LRLsKYzrKsYGER/T3IxJoeouNJyHVdEPC6tXFt+vDd9kawmXsB4UBgvmsBBgLMq/LI/XXDyS0Rv5viox8S8/pO/Z3fvApEZalVEyanpDglk+pfrRUdv1LwEDC73//+yYg1dXV8qu/+qvS3r5yL7qicZyUDgZp9tUxmX5pRKbUIGJgMfKMWq5qri50zVUvIjW2IMP/X2FUeOuHeqT+kfarXWhpv6BNgHdcLJydsoZpxlXguZcGEoab9Hhq5Kd+MiiTKlpTzw2ZoWaMA4Pd+G2xp88xZw6PSigetjEji39fTJWeA+tiiBnBPfX8sF7TgIrkoH3PqqGP7WqwxvSScU9cmpHxH6iwEVk9P2TnhqgihnSVbf/wNontbLBjl+4tYjGuYsG5TesxStvMHB2XcDwirR/cagP1rg4+1Od54kcDMvSX52T6BS3nl4ZtfAdBNaP7bT8a1TGOJa6RFGUBllYrptFmj40X7pGW35TeH0aWNzzeqULeY436pXNDgCb1mkMq8og63X+voufBb2yLA8GYlLXA4oGEG2YuLCCipAvt2XGmAGE+KLsPBgb/g2rUG2NB8xink3mNALLyvEYB4/M5oUv8/taQPNYVkgtTORWhvNChgkkaGbNxaDBj4kC66MMqRHj7T53JWEM34zse7gjJK8PMrZUT0pxPqli0xkPy3JWMnFQBgX1EPvrbdy5m5eJ0zhrw2Y42GEa7l+wZDe2IwQ8vZ2xKFdo4djUG5V26HhMwMgKe62Iw5KObCi+UQnCYQPFpE6ysCU+TCuVbuplkMiBH9dwRFroNf+QePX+9uEoNaC6bMJGwqUhSowXVi223eayEKUhGdXl1mwTb31/cogDjRvIzx1QMjoo0PCKB2t36sN9EQPQqLSXFJIoICNEEolJ/v/UAy53639Rr2CWh/b+rgtBU2IL2kdlT+jmpIqcCQ5tNXguDLr+1+yXAcWNq4F63of+NQwrr6aeflpdeesnGhHzyk5+UtraVfdUu8zPRBoFxSmnYTG8iDGuoISLVnTU2zQbtAiYEIwsyqwYyWBVU49isAlR93b0mLcScS0yhEUZ4MKDqvcyeGJe+L59Qo1htvZ3mL8xIUo0m3jcGv/ZAi8RK02osqjtMHsiARVJujPLGK78ZPIOklxKksTQS4NroyWTtBBoVRHtqbdwJ4lk6d6IuO2+uXwWG6Mm6F6sXVntvi0S3EGWFrrtW0mC091j0oedICoxz4xjx3SpQjAzXY5a2oWzmz01ZKuqq8VgKXb3uoVat5tem6yEVlxqcs3nArF0lnZVgTZVNJUPZRUi1lZVLRj1bRIbjI/6lOa8s9aXngUhyjYhLpJSSuMNsqBdKLRduFO0iWo/No7cusngvxd9vB4gcEz8yFgPHirTVjd4oiCgQORDFc25My7Loub0O9s010WhO9EUERTfg5UxbcmPI76oi0ROK/QfVeGGUb8uxrofZeXPD35b86c+LtLxbQnt+W43pojpMewkz79JYzrgUenQxAHIFhWPVKd5fa5vQe2zFrQYUIanUGSinJCDV7VHrrRRS4804DNwVGqHLPfuVxHp90eFFKy0pO66pfHDhYmx92k0og+L6r3duNltwmjpLd1tdtzjO4nZeD8JrPdZw1l5HUNcLG+qFUsuFylOtNxjvv0YrFJMm3m7zR33FqNfpMWm7uNnraDkf1mHdwniQ4g83gN/ZH9fCNXFtt0c8QM8npAaZXlhMMUIkscLHoiE8N31CcjMaUVjDOD1c5iU3d0Hyo98riBYRRVBDucWodUVUbIqVCGkQXkW6zqu7Fi9Gj3QJPa6Y9oLpMm6HEQSMOOmVMMdZIZFaCjtOtHhN+u/NxANs/VIZFNd/vXPDgDNdCmkrrmk1rocpUgrCu3HN7F0tIM4aR6Ob/NgPJHfqN20AYK7vzyR3+d9J/tzviUz8RIR2lOYnVly4HMd5Y7iAOGsX0k70+OJdHxPPS773TyXf/+cimWmRrk9IcMc/lGB0U3FlZ7kwb1RVe7QwHcdNImPHKXFXt4E4a5w8jYkpySMYNkljWheqYeOlUuFG/WysLpF3Gga80TWWdgUm+LvaM8lxingjuuM4jlMR3ojuOI7jrAguII7jOE5FuIA4juM4FeEC4jiO41SEC4jjOI5TES4gjuM4TkW4gDiO4zgV4QLiOI7jVIQLiOM4jlMRLiCO4zhORbiAOI7jOBXhAuI4juNUhAuI4ziOUxEuII7jOE5FuIA4juM4FeEC4jiO41SEC4jjOI5TES4gjuM4TkW4gDiO4zgV4QLiOI7jVIQLiOM4jlMRLiCO4zhORbiAOI7jOBXhAuI4juNUhAuI4ziOUxEuII7jOE5FuIA4juM4FeEC4jiO41SEC4jjOI5TES4gjuM4TkW4gDiO4zgV4QLiOI7jVIQLiOM4jlMRLiCO4zhORbiAOI7jOBXhAuI4juNUhAuI4ziOUxEuII7jOE5FuIA4juM4FeEC4jiO41SEC4jjOI5TES4gjuM4TkW4gDiO4zgV4QLiOI7jVIQLiOM4jlMRLiCO4zhORbiAOI7jOBXhAuI4juNUhAuI4ziOUxEuII7jOE5FuIA4juOsIfL5vORyOftkszn7fjP4PZvNvu56twMXEMdxnFUAA59IpiSdzhSX3Jj5hYQsJJMyPjUtGRWHm5HOZGVs8vXXux0EkqlUvioSKX51HMe5+1A7aAY4GAyaga+uikgipYZejX4sWmWGP1ql/6bTktOoIKrL0pmMhAJBCQQCJg7RaLUZftaF2nhMgvrb7MICu5FodZUJQlU4LI31tTKXSOi+8lJfE7f9pvXDemyXSCUlHAzJvIpIPBbVaET3r+c0p/snKonpsaoiYZmdX5CUbsey5oZ6vQ7dj54X28T0eMDvM7oe51ITi9l1LiR0/+GQHWt6ds7OPy8BCen1Z3NZqdX1KAOurRz23Tc8KtMzc/LAnp0egTiO42C4Map8JtQ4LiTTamgzZjBZNqVGdkGN8wIGPJczoZidS5hhRiBKhnZBxYO/McQzc/MyrR8iBPaDccfoV6thx+BLPmDLERKOkdfvgGgkdN2MHgdjj7FW6y5JREbXR4gQjtn5hGR039Hqan42EZyZn7e/5/R3jpHTC2O9cCgkoVCwICZ6ToghaS8EaW4BMQmbgOXyORMalr8RXEAcx7nrwRtPqTFOafRBhLCQTJixZ/mMGuCqiEYfGhUgDnH1/jG6GORSWop1USEkAM+dT0YNeEoNPkYcQQnr+kGNKtgurcYbT5/9IUjoTywa0f1EbJ8lEAj2EQzqerq/iB4HAWEdxATDH1MxYP+2T12HfSEYqE5eIxeEiG2IPkK6nL3zPYJoFPfNPqo4bz3+4nO4GS4gjuPc9eB1R9S4BvS/htq4euNZFZKILgubMa2LRyWlUUEsVm2igtGtrgqbQec7UQYRgnn8RCcaASAqpJF0VRMKDDbHSargIAxEF1ldHyN/I4gUGmtrLUJBeJKJtEzNzFqqjX0n0ymZmpuzFBfGP6LngoiFOCfdP+KDIE7Pztt2RB0hPaHJ2VmLltj/cvA2EMdx7noQCQw6/+LVk24iirDlauwxzEQnCAYigGHG6+d3Prj9/Et7QkCXR9WmmnFWa86+EBbaMBALDDv7YznCQrQQUKPO/ggPWJd9IVL8G9KopdA+o8dVYctp5IJYIFyk1eitxT4QLNpviCr4m/MA/k9KzERPIykiHtJdCBLnaFGXrk/ExDrAPhE8zq8c9l3eBuIC4jiOs0yIITD2s3PzZoyr1TBjfC220OWvx2JDvRQmVGXY/ovLyre/ul5pWdl2pfWW2u6NsFhAPIXlOI6zTDDDfGriMakqisfV5fr3633eCEttU/53iavr8Hf597L1Fn+vFBcQx3GcFQCDTBqKFNfdgguI4ziOUxGB0cmpPI0ljuM4jnMzaMwfnZiyXmEP7Nkp/z/5MV68gEZSPQAAAABJRU5ErkJggg==)\n",
        "\n",
        "Lambda bisa memiliki lebih dari satu argumen atau parameter, tapi hanya bisa memiliki satu ekspresi atau isi."
      ],
      "metadata": {
        "id": "weYgczOP0Fmv"
      }
    },
    {
      "cell_type": "code",
      "execution_count": 4,
      "metadata": {
        "id": "ZJvrUWmKzzke"
      },
      "outputs": [],
      "source": [
        "greeting = lambda name: print(f\"hello, {name}\")"
      ]
    },
    {
      "cell_type": "markdown",
      "source": [
        "Karena fungsi lambda tidak punya nama, jadi kita butuh variabel untuk menyimpannya.\n",
        "\n",
        "Nanti saat mau kita panggil, kita tinggal tuliskan saja nama variabelnya seperti ini:"
      ],
      "metadata": {
        "id": "eH0_UBMw15LW"
      }
    },
    {
      "cell_type": "code",
      "source": [
        "greeting(\"Dian\")\n",
        "greeting(\"Ayu\")"
      ],
      "metadata": {
        "colab": {
          "base_uri": "https://localhost:8080/"
        },
        "id": "oiXzA9Yi2HkF",
        "outputId": "01472b2e-8558-4a31-c80e-a14a0982cbbd"
      },
      "execution_count": 5,
      "outputs": [
        {
          "output_type": "stream",
          "name": "stdout",
          "text": [
            "hello, Dian\n",
            "hello, Ayu\n"
          ]
        }
      ]
    },
    {
      "cell_type": "markdown",
      "source": [
        "Beberapa contoh penggunaan fungsi Lambda"
      ],
      "metadata": {
        "id": "jbZAzg372Mwl"
      }
    },
    {
      "cell_type": "code",
      "source": [
        "#Fungsi Lambda untuk menambahkan angka 10 kepada argument input\n",
        "f = lambda x: x+10\n",
        "val1 = f(5)\n",
        "val2 = f(100)\n",
        "print(val1, val2)"
      ],
      "metadata": {
        "colab": {
          "base_uri": "https://localhost:8080/"
        },
        "id": "JdMmcw0m28gm",
        "outputId": "b75cd3fc-0c00-4c21-a1ba-e2fbea533a2e"
      },
      "execution_count": 6,
      "outputs": [
        {
          "output_type": "stream",
          "name": "stdout",
          "text": [
            "15 110\n"
          ]
        }
      ]
    },
    {
      "cell_type": "code",
      "source": [
        "#Fungsi Lambda untuk mengalikan dua argumen input dan menampilkan hasilnya\n",
        "f = lambda x,y: x*y\n",
        "val3 = f(2, 10)\n",
        "val4 = f(7, 5)\n",
        "print(val3, val4)"
      ],
      "metadata": {
        "colab": {
          "base_uri": "https://localhost:8080/"
        },
        "id": "haiPxDQJ3G7m",
        "outputId": "b0dee40c-eb16-4024-9b77-bbdabab23d01"
      },
      "execution_count": 8,
      "outputs": [
        {
          "output_type": "stream",
          "name": "stdout",
          "text": [
            "20 35\n"
          ]
        }
      ]
    },
    {
      "cell_type": "markdown",
      "source": [
        "#Anonymous Function\n",
        "\n",
        "Karena lambda adalah anonymous function, ia akan bebas menggunakan nama apa saja. Dengan kata lain, fungsi lambda bisa disimpan variable manapun. Ini tentunya tidak bisa dilakukan oleh fungsi yang dibuat dengan def. Coba perhatikan ini:"
      ],
      "metadata": {
        "id": "TvU3eDTF3Z8c"
      }
    },
    {
      "cell_type": "code",
      "source": [
        "def say_hello(nama):\n",
        "  print(f\"hello(nama), apa kabar?\")\n",
        "\n",
        "ucapin = say_hello(nama)"
      ],
      "metadata": {
        "id": "w-5nM2eq3y0v"
      },
      "execution_count": null,
      "outputs": []
    },
    {
      "cell_type": "markdown",
      "source": [
        "Saya mencoba membuat fungsi say_hello() dengan def, kemudian menyimpannya kedalam variabel ucapin. Tapi malah error.\n",
        "\n",
        "Ini karena fungsi tersebut bukanlah fungsi anonymous yang boleh diubah-ubah namanya.\n",
        "\n",
        "Lalu coba perhatikan dibaris terakhir, fungsi lambda greeting() yang sudah disimpan lagi ke variabel yang berberda, yakni sapa."
      ],
      "metadata": {
        "id": "g6Ta12-W3828"
      }
    },
    {
      "cell_type": "code",
      "source": [
        "greeting = lambda name: print(f\"Hello, {name}\")\n",
        "sapa = greeting\n",
        "greeting(\"Andi\")\n",
        "sapa(\"Neli\")"
      ],
      "metadata": {
        "colab": {
          "base_uri": "https://localhost:8080/"
        },
        "id": "CH54D0g34WRL",
        "outputId": "457ea693-3a07-4388-e2a5-dd5a2185699d"
      },
      "execution_count": 9,
      "outputs": [
        {
          "output_type": "stream",
          "name": "stdout",
          "text": [
            "Hello, Andi\n",
            "Hello, Neli\n"
          ]
        }
      ]
    },
    {
      "cell_type": "markdown",
      "source": [
        "Hasilnya tidak error, karena ini adalah fungsi anonymous atau lambda"
      ],
      "metadata": {
        "id": "LysFjMyz4gyM"
      }
    },
    {
      "cell_type": "markdown",
      "source": [
        "#Eksekusi Lambda Secara Langsung"
      ],
      "metadata": {
        "id": "cNjABdLr4mFE"
      }
    },
    {
      "cell_type": "markdown",
      "source": [
        "Eksekusi lambda secara langsung kelebihan fungsi dibandingkan def adalah bisa kita eksekusi langsung.\n",
        "\n",
        "contohnya:"
      ],
      "metadata": {
        "id": "4LTKuzQ04qI0"
      }
    },
    {
      "cell_type": "code",
      "source": [
        "(lambda x,y: x**2 + y**2)(4,6)"
      ],
      "metadata": {
        "colab": {
          "base_uri": "https://localhost:8080/"
        },
        "id": "IWXkxYQF4f2V",
        "outputId": "56bac28a-4ea2-43d0-e692-fb733e582245"
      },
      "execution_count": 10,
      "outputs": [
        {
          "output_type": "execute_result",
          "data": {
            "text/plain": [
              "52"
            ]
          },
          "metadata": {},
          "execution_count": 10
        }
      ]
    },
    {
      "cell_type": "markdown",
      "source": [
        "Tanda kurung yang mengapit fungsi lambda artinya akan langsung mengeksekusi fungsi tersebut.\n",
        "\n",
        "Lalu kurung berikutnya akan berisi parameter.\n",
        "\n",
        "Angka 4 dan 6 adalah paramter x dan y yang akan diberikan kepada fungsi lambda.\n",
        "\n",
        "Maka kita akan langsung mendapatkan hasilnya, yakni: 4**2+6**2=52\n",
        "\n",
        "Hasil dari eksekusi ini bisa juga kita simpan kedalam variabel"
      ],
      "metadata": {
        "id": "o_xs4FSP48al"
      }
    },
    {
      "cell_type": "code",
      "source": [
        "hasil = (lambda x,y: x**2 + y**2)(4,6)\n",
        "print(\"hasil:\", hasil)"
      ],
      "metadata": {
        "colab": {
          "base_uri": "https://localhost:8080/"
        },
        "id": "VbNA56u247kt",
        "outputId": "c29d426e-4aaf-474d-92a3-fd2fd4fe02f2"
      },
      "execution_count": 14,
      "outputs": [
        {
          "output_type": "stream",
          "name": "stdout",
          "text": [
            "hasil: 52\n"
          ]
        }
      ]
    },
    {
      "cell_type": "markdown",
      "source": [
        "#Mengapa Harus Pakai Lambda"
      ],
      "metadata": {
        "id": "qlVf-5Oi5p-s"
      }
    },
    {
      "cell_type": "markdown",
      "source": [
        "Kita memang tidak harus selalu menggunakan Lambda, tapi dalam kasus tertentu lambda lebih baik dibandingkan fungsi biasa.\n",
        "\n",
        "Lambda biasanya dibutuhkan saat kita ingin membuat fungsi dalam satu baris.\n",
        "\n",
        "Biasanya saat menggunakan fungsi-fungsi seperti filer(), map(), dan reduce() kita akan membutuhkan lambda.\n",
        "\n",
        "mengapa?\n",
        "\n",
        "karena difungsi-fungsi tersebut membuthkan parameter fungsi.\n",
        "\n",
        "contoh:"
      ],
      "metadata": {
        "id": "M7SnV0yH5s7M"
      }
    },
    {
      "cell_type": "code",
      "source": [
        "bilangan = [10,2,8,7,5,4,3,11,0,1]\n",
        "filtered_result = map(lambda x: x*x, bilangan)\n",
        "print(list(filtered_result))"
      ],
      "metadata": {
        "colab": {
          "base_uri": "https://localhost:8080/"
        },
        "id": "Wzu9hUXC5j1e",
        "outputId": "44bde648-50fb-4242-b2b8-54977124a29a"
      },
      "execution_count": 15,
      "outputs": [
        {
          "output_type": "stream",
          "name": "stdout",
          "text": [
            "[100, 4, 64, 49, 25, 16, 9, 121, 0, 1]\n"
          ]
        }
      ]
    },
    {
      "cell_type": "markdown",
      "source": [
        "Pada fungsi map() kita memberikan parameter dengan fungsi lambda.\n",
        "\n",
        "mengapa bisa begitu?\n",
        "\n",
        "Karena Lambda bisa disimpan kedalam variabel, otomatis dia akan bisa juga jadi paramter.\n",
        "\n",
        "satu lagi contoh dengan fungsi filter()"
      ],
      "metadata": {
        "id": "O4-sZZmv6U30"
      }
    },
    {
      "cell_type": "code",
      "source": [
        "#menentukan bilangan genap\n",
        "genap = lambda x: x%2 == 0\n",
        "list(filter(genap, range(11)))"
      ],
      "metadata": {
        "colab": {
          "base_uri": "https://localhost:8080/"
        },
        "id": "BEid6VCR6UGE",
        "outputId": "2ed22b5f-fd56-4db9-d5cc-6e59f55a1131"
      },
      "execution_count": 16,
      "outputs": [
        {
          "output_type": "execute_result",
          "data": {
            "text/plain": [
              "[0, 2, 4, 6, 8, 10]"
            ]
          },
          "metadata": {},
          "execution_count": 16
        }
      ]
    },
    {
      "cell_type": "markdown",
      "source": [
        "#Latihan 1"
      ],
      "metadata": {
        "id": "-KpYeeAu69Pb"
      }
    },
    {
      "cell_type": "code",
      "source": [
        "luas_persegi_panjang = lambda panjang, lebar: panjang * lebar\n",
        "\n",
        "panjang = float(input(\"Masukkan panjang persegi panjang: \"))\n",
        "lebar = float(input(\"Masukkan lebar persegi panjang: \"))\n",
        "\n",
        "hasil = luas_persegi_panjang(panjang, lebar)\n",
        "print(\"Luas persegi panjang adalah:\", hasil)"
      ],
      "metadata": {
        "colab": {
          "base_uri": "https://localhost:8080/"
        },
        "id": "I61l3XME7AuD",
        "outputId": "11140f59-af11-442f-815f-30e18988f4ca"
      },
      "execution_count": 17,
      "outputs": [
        {
          "output_type": "stream",
          "name": "stdout",
          "text": [
            "Masukkan panjang persegi panjang: 15\n",
            "Masukkan lebar persegi panjang: 13\n",
            "Luas persegi panjang adalah: 195.0\n"
          ]
        }
      ]
    },
    {
      "cell_type": "markdown",
      "source": [
        "#Latihan 2"
      ],
      "metadata": {
        "id": "o5Pm5kyO6_Dc"
      }
    },
    {
      "cell_type": "code",
      "source": [
        "luas_segitiga = lambda alas, tinggi: (alas * tinggi) / 2\n",
        "\n",
        "alas = float(input(\"Masukkan panjang alas segitiga: \"))\n",
        "tinggi = float(input(\"Masukkan tinggi segitiga: \"))\n",
        "\n",
        "hasil = luas_segitiga(alas, tinggi)\n",
        "print(\"Luas segitiga adalah:\", hasil)"
      ],
      "metadata": {
        "colab": {
          "base_uri": "https://localhost:8080/"
        },
        "id": "bT2BTel868P8",
        "outputId": "02bd416e-311f-43dc-db83-2230af6f2e44"
      },
      "execution_count": 18,
      "outputs": [
        {
          "output_type": "stream",
          "name": "stdout",
          "text": [
            "Masukkan panjang alas segitiga: 21\n",
            "Masukkan tinggi segitiga: 8\n",
            "Luas segitiga adalah: 84.0\n"
          ]
        }
      ]
    }
  ]
}