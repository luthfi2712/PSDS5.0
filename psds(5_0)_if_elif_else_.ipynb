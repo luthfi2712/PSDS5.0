{
  "nbformat": 4,
  "nbformat_minor": 0,
  "metadata": {
    "colab": {
      "provenance": []
    },
    "kernelspec": {
      "name": "python3",
      "display_name": "Python 3"
    },
    "language_info": {
      "name": "python"
    }
  },
  "cells": [
    {
      "cell_type": "markdown",
      "source": [
        "#Percabangan/Struktur Pemilihan"
      ],
      "metadata": {
        "id": "3iONwqmUpRGd"
      }
    },
    {
      "cell_type": "markdown",
      "source": [
        "pada pembagian ini, kamu akan membuat keputusan pada bahasa pemograman python menggunakan struktur percabangan atau juga sering disebut IF ELSE statement. pengambilan keputusan dibutuhkan ketika kamu akan mengeksekusi suatu kode jika sebuah kondisi tertentu terpenuhi.\n",
        "\n",
        "statement if .. elif .. else digunakan pada bahasa python untuk pengambilan keputusan."
      ],
      "metadata": {
        "id": "okeAgopvpVds"
      }
    },
    {
      "cell_type": "markdown",
      "source": [
        "##IF Statements"
      ],
      "metadata": {
        "id": "gykq2DfBuXUU"
      }
    },
    {
      "cell_type": "markdown",
      "source": [
        "##python IF Statement Syntax"
      ],
      "metadata": {
        "id": "eRRnha0JuaE7"
      }
    },
    {
      "cell_type": "code",
      "source": [
        "if test expression:\n",
        "   statement(s)"
      ],
      "metadata": {
        "id": "V1PnGeUQvY-V"
      },
      "execution_count": null,
      "outputs": []
    },
    {
      "cell_type": "markdown",
      "source": [
        "##Python IF Statement Flowchart"
      ],
      "metadata": {
        "id": "xKNDD2X1vYqW"
      }
    },
    {
      "cell_type": "markdown",
      "source": [
        "![image.png](data:image/png;base64,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)"
      ],
      "metadata": {
        "id": "pnjUaMPev6Hu"
      }
    },
    {
      "cell_type": "markdown",
      "source": [
        "###Example Python IF Statement"
      ],
      "metadata": {
        "id": "CTFIraQ41Yuf"
      }
    },
    {
      "cell_type": "code",
      "source": [
        "#Jika angka adalah bilangan positif maka print \"adalah bilangan positif\"\n",
        "angka = 3\n",
        "if angka > 0:\n",
        "  print(angka, \"adalah bilangan positif.\")\n",
        "  print(\"Pernyataan ini selalu ditampilkan.\")\n",
        "\n",
        "angka = -1\n",
        "if angka > 0:\n",
        "  print(angka, \"adalah bilangan positif.\")\n",
        "  print(\"Pernyataan ini juga selalu ditampilkan.\")"
      ],
      "metadata": {
        "colab": {
          "base_uri": "https://localhost:8080/"
        },
        "id": "HatIuyf0vp-e",
        "outputId": "20bbcdf0-fcf0-44d4-c844-910ac83b57cc"
      },
      "execution_count": null,
      "outputs": [
        {
          "output_type": "stream",
          "name": "stdout",
          "text": [
            "3 adalah bilangan positif.\n",
            "Pernyataan ini selalu ditampilkan.\n"
          ]
        }
      ]
    },
    {
      "cell_type": "markdown",
      "source": [
        "#IF ELSE Statements"
      ],
      "metadata": {
        "id": "h5-dVxbHwyIO"
      }
    },
    {
      "cell_type": "markdown",
      "source": [
        "Python IF ELSE Statement Syntax"
      ],
      "metadata": {
        "id": "sdzw0sJOw1Km"
      }
    },
    {
      "cell_type": "code",
      "source": [
        "if test expression:\n",
        "  Body of if\n",
        "else :\n",
        "  Body of else"
      ],
      "metadata": {
        "id": "mcmlLBlKyAMG"
      },
      "execution_count": null,
      "outputs": []
    },
    {
      "cell_type": "markdown",
      "source": [
        "Pythton IF ELSE Statement Flowchart\n",
        "\n",
        "\n",
        "![image.png](data:image/png;base64,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)"
      ],
      "metadata": {
        "id": "wKh-pLkvyKIu"
      }
    },
    {
      "cell_type": "markdown",
      "source": [
        "###Example Python IF Statement"
      ],
      "metadata": {
        "id": "3XVf3X0D1fD3"
      }
    },
    {
      "cell_type": "code",
      "source": [
        "#Program disusun untuk mengecek apakah angka tersebut kurang dari 0 atau tidak\n",
        "#dan menampilkan tulisan yang sesuai\n",
        "\n",
        "angka = 3\n",
        "\n",
        "if angka >= 0:\n",
        "  print(\"Bilangan lebih dari atau sama dengan 0\")\n",
        "else:\n",
        "  print(\"Bilangan kurang dari 0\")"
      ],
      "metadata": {
        "colab": {
          "base_uri": "https://localhost:8080/"
        },
        "id": "y1YmPgiHyBK2",
        "outputId": "5bb4d5b3-1b86-4090-ca22-0d64cbd3d5d0"
      },
      "execution_count": null,
      "outputs": [
        {
          "output_type": "stream",
          "name": "stdout",
          "text": [
            "Bilangan lebih dari atau sama dengan 0\n"
          ]
        }
      ]
    },
    {
      "cell_type": "code",
      "source": [
        "#Program disusun untuk mengecek apakah dua buah angka sama atau tidak\n",
        "#dan menampilkan tulisan yang sesuai\n",
        "a = 5\n",
        "b = 5\n",
        "if a == b:\n",
        "  print(\"a dan b bernilai sama\")\n",
        "else:\n",
        "  print(\"a dan b bernilai berbeda\")\n",
        "  print(\"Belajar If Else\")"
      ],
      "metadata": {
        "colab": {
          "base_uri": "https://localhost:8080/"
        },
        "id": "ZA2iFVWP2kV4",
        "outputId": "834bcc1e-fca9-4218-c0fd-3ed4f62e68bc"
      },
      "execution_count": null,
      "outputs": [
        {
          "output_type": "stream",
          "name": "stdout",
          "text": [
            "a dan b bernilai sama\n"
          ]
        }
      ]
    },
    {
      "cell_type": "code",
      "source": [
        "#Program disusun untuk mengecek apakah perbandingan dua buah angka\n",
        "#dan menampilkan tulisan yang sesuai\n",
        "#membaca dua angka\n",
        "bil1 = int(input(\"Masukkan bilangan pertama: \"))\n",
        "bil2 = int(input(\"Masukkan bilangan kedua: \"))\n",
        "\n",
        "#memilih bilangan yang lebih besar\n",
        "if bil1 > bil2:\n",
        "  bil_lebih_besar = bil1\n",
        "else:\n",
        "  bil_lebih_besar = bil2\n",
        "\n",
        "#menampilkan hasil\n",
        "print(\"Bilangan yang lebih besar adalah\", bil_lebih_besar)"
      ],
      "metadata": {
        "colab": {
          "base_uri": "https://localhost:8080/"
        },
        "id": "nu6gCw6S5xJ7",
        "outputId": "8d28d982-15e0-45c2-92b0-d172700155be"
      },
      "execution_count": null,
      "outputs": [
        {
          "output_type": "stream",
          "name": "stdout",
          "text": [
            "Masukkan bilangan pertama: 3\n",
            "Masukkan bilangan kedua: 5\n",
            "Bilangan yang lebih besar adalah 5\n"
          ]
        }
      ]
    },
    {
      "cell_type": "markdown",
      "source": [
        "#IF ELIF ELSE Statements"
      ],
      "metadata": {
        "id": "0fKVDwSm6_3B"
      }
    },
    {
      "cell_type": "code",
      "source": [
        "if test expression:\n",
        "  Body of if\n",
        "elif test expression:\n",
        "  Body of elif\n",
        "else :\n",
        "  Body of else"
      ],
      "metadata": {
        "id": "v2Yoe4FN7Ibp"
      },
      "execution_count": null,
      "outputs": []
    },
    {
      "cell_type": "markdown",
      "source": [
        "Python IF ELIF ELSE Statement FlowChart\n",
        "\n",
        "\n",
        "![image.png](data:image/png;base64,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)"
      ],
      "metadata": {
        "id": "aY9ucEZe7HIy"
      }
    },
    {
      "cell_type": "markdown",
      "source": [
        "###Example python IF ELIF ELSE Statement"
      ],
      "metadata": {
        "id": "EGSAen7rAu4h"
      }
    },
    {
      "cell_type": "code",
      "source": [
        "angka = 3.4\n",
        "\n",
        "if angka > 0:\n",
        "  print(\"Bilangan positif\")\n",
        "elif num == 0:\n",
        "  print(\"Nol\")\n",
        "else:\n",
        "  print(\"Bilangan Negatif\")"
      ],
      "metadata": {
        "colab": {
          "base_uri": "https://localhost:8080/"
        },
        "id": "n6TJ-PhK68w6",
        "outputId": "65c844bf-35ff-4a49-af95-fccbe4e4434f"
      },
      "execution_count": null,
      "outputs": [
        {
          "output_type": "stream",
          "name": "stdout",
          "text": [
            "Bilangan positif\n"
          ]
        }
      ]
    },
    {
      "cell_type": "code",
      "source": [
        "#Statement if\n",
        "x = 4\n",
        "if x % 2 == 0: #jika x dibagi 2 sisanya sama dengan 0\n",
        "  print(\"x habis dibagi dua\")\n",
        "\n",
        "#statement if .. elif .. else\n",
        "x = 7\n",
        "if x % 2 == 0: #jika x dibagi 2 sisanya sama dengan 0\n",
        "  print(\"x habis dibagi dua\")\n",
        "elif x % 3 == 0: #jika x dibagi 3 sisanya sama dengan 0\n",
        "  print(\"x habis dibagi tiga\")\n",
        "elif x % 5 == 0: #jika x dibagi 4 sisanya sama dengan 0\n",
        "  print(\"x habis dibagi empat\")\n",
        "else:\n",
        "  print(\"x tidak habis dibagi dua, tiga ataupun lima\")"
      ],
      "metadata": {
        "colab": {
          "base_uri": "https://localhost:8080/"
        },
        "id": "bR0BR8cnBGw6",
        "outputId": "48d343a9-e96b-460f-bfca-9b19c995bf7f"
      },
      "execution_count": null,
      "outputs": [
        {
          "output_type": "stream",
          "name": "stdout",
          "text": [
            "x habis dibagi dua\n",
            "x tidak habis dibagi dua, tiga ataupun lima\n"
          ]
        }
      ]
    },
    {
      "cell_type": "markdown",
      "source": [
        "##Python Nested IF statements"
      ],
      "metadata": {
        "id": "gIWNGzkiFMij"
      }
    },
    {
      "cell_type": "markdown",
      "source": [
        "###Example: python NESTED IF Statement"
      ],
      "metadata": {
        "id": "gnIhPWnSFRBL"
      }
    },
    {
      "cell_type": "code",
      "source": [
        "#program disusun untuk mengecek apakah angka merupakan bilangan positif, negatif atatu nol\n",
        "#dan menampilkan tulisan yang sesuai\n",
        "\n",
        "angka = float(input(\"Masukkan angka: \"))\n",
        "if angka >= 0:\n",
        "  if angka == 0:\n",
        "    print(\"Nol\")\n",
        "  else:\n",
        "    print(\"Bilangan Positif\")\n",
        "else:\n",
        "  print(\"Bilangan Negatif\")"
      ],
      "metadata": {
        "colab": {
          "base_uri": "https://localhost:8080/"
        },
        "id": "MAFzfHu3FLDs",
        "outputId": "08b015b3-7760-4e13-d042-e841961ef15d"
      },
      "execution_count": null,
      "outputs": [
        {
          "output_type": "stream",
          "name": "stdout",
          "text": [
            "Masukkan angka: 4\n",
            "Bilangan Positif\n"
          ]
        }
      ]
    },
    {
      "cell_type": "markdown",
      "source": [
        "#LATIHAN"
      ],
      "metadata": {
        "id": "1miyP4VjGZ4j"
      }
    },
    {
      "cell_type": "code",
      "source": [
        "def mahal_diskon(harga, kategori):\n",
        "    if kategori == \"mahal\":\n",
        "        if harga > 100000:\n",
        "            diskon = 0.4  # 40% diskon\n",
        "            keterangan_diskon = \"40%\"\n",
        "        elif harga > 50000:\n",
        "            diskon = 0.2  # 20% diskon\n",
        "            keterangan_diskon = \"20%\"\n",
        "        else:\n",
        "            diskon = 0.1  # 10% diskon\n",
        "            keterangan_diskon = \"10%\"\n",
        "    elif kategori == \"murah\":\n",
        "        if harga > 50000:\n",
        "            diskon = 0.2  # 20% diskon\n",
        "            keterangan_diskon = \"20%\"\n",
        "        elif harga > 20000:\n",
        "            diskon = 0.1  # 10% diskon\n",
        "            keterangan_diskon = \"10%\"\n",
        "        else:\n",
        "            diskon = 0  # Tidak ada diskon\n",
        "            keterangan_diskon = \"tidak ada diskon\"\n",
        "    else:\n",
        "        return \"Kategori tidak valid\"\n",
        "\n",
        "    harga_diskon = harga - (harga * diskon)\n",
        "    output1 = f\"Kamu dapat diskon {keterangan_diskon} untuk produk {kategori}\"\n",
        "    output2 = f\"Harga yang perlu dibayarkan: {harga_diskon}\"\n",
        "\n",
        "    return output1, output2\n",
        "\n",
        "# Contoh pemanggilan fungsi\n",
        "output = mahal_diskon(120000, \"mahal\")\n",
        "print(output[0])\n",
        "print(output[1])"
      ],
      "metadata": {
        "id": "LCzVwJh3FwfC",
        "colab": {
          "base_uri": "https://localhost:8080/"
        },
        "outputId": "00a96e60-2454-4208-c816-0cb3b3ec7628"
      },
      "execution_count": 1,
      "outputs": [
        {
          "output_type": "stream",
          "name": "stdout",
          "text": [
            "Kamu dapat diskon 40% untuk produk mahal\n",
            "Harga yang perlu dibayarkan: 72000.0\n"
          ]
        }
      ]
    }
  ]
}